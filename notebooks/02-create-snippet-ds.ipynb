{
 "cells": [
  {
   "cell_type": "code",
   "execution_count": 1,
   "metadata": {
    "collapsed": true,
    "pycharm": {
     "name": "#%%\n"
    }
   },
   "outputs": [
    {
     "name": "stdout",
     "output_type": "stream",
     "text": [
      "/home/viktor/workspace/smaite\n"
     ]
    }
   ],
   "source": [
    "# @formatter:off\n",
    "import random\n",
    "\n",
    "import numpy as np\n",
    "import sklearn.ensemble\n",
    "%load_ext autoreload\n",
    "%autoreload 2\n",
    "# @formatter:on\n",
    "import os\n",
    "\n",
    "os.chdir('../')\n",
    "print(os.getcwd())"
   ]
  },
  {
   "cell_type": "code",
   "execution_count": 2,
   "metadata": {
    "collapsed": false,
    "pycharm": {
     "name": "#%%\n"
    }
   },
   "outputs": [],
   "source": [
    "#@formatter:off\n",
    "files = !ls data/*csv.jsonl\n",
    "#@formatter:on\n",
    "files = [f for f in files if 'sample' not in f and 'augmented' not in f and 'processed' not in f]\n",
    "assert len(files) == 8"
   ]
  },
  {
   "cell_type": "code",
   "execution_count": 11,
   "metadata": {
    "collapsed": false,
    "pycharm": {
     "name": "#%%\n"
    }
   },
   "outputs": [],
   "source": [
    "#@formatter:off\n",
    "snippet_files = !ls data/*-google-results-sample.jsonl | grep -v snippets\n",
    "#@formatter:on"
   ]
  },
  {
   "cell_type": "code",
   "execution_count": 12,
   "metadata": {
    "collapsed": false,
    "pycharm": {
     "name": "#%%\n"
    }
   },
   "outputs": [
    {
     "name": "stdout",
     "output_type": "stream",
     "text": [
      "['data/fullfact-google-results-sample.jsonl']\n"
     ]
    },
    {
     "data": {
      "text/plain": [
       "['data/bbc.csv.jsonl',\n",
       " 'data/climatefeedback.csv.jsonl',\n",
       " 'data/factcheck.csv.jsonl',\n",
       " 'data/fullfact.csv.jsonl',\n",
       " 'data/nytimes.csv.jsonl',\n",
       " 'data/politifact.csv.jsonl',\n",
       " 'data/snopes.csv.jsonl',\n",
       " 'data/washingtonpost.csv.jsonl']"
      ]
     },
     "execution_count": 12,
     "metadata": {},
     "output_type": "execute_result"
    }
   ],
   "source": [
    "print(snippet_files)\n",
    "files"
   ]
  },
  {
   "cell_type": "code",
   "execution_count": 5,
   "metadata": {
    "collapsed": false,
    "pycharm": {
     "name": "#%%\n"
    }
   },
   "outputs": [
    {
     "name": "stdout",
     "output_type": "stream",
     "text": [
      "loading data/fullfact-google-results-sample.jsonl\n"
     ]
    },
    {
     "name": "stderr",
     "output_type": "stream",
     "text": [
      "100%|██████████| 4061/4061 [00:02<00:00, 1625.75it/s]\n"
     ]
    },
    {
     "name": "stdout",
     "output_type": "stream",
     "text": [
      "loading data/snippets-fullfact-google-results-sample.jsonl\n"
     ]
    },
    {
     "name": "stderr",
     "output_type": "stream",
     "text": [
      "100%|██████████| 4061/4061 [00:00<00:00, 47509.26it/s]\n"
     ]
    },
    {
     "name": "stdout",
     "output_type": "stream",
     "text": [
      "loading data/bbc.csv.jsonl\n"
     ]
    },
    {
     "name": "stderr",
     "output_type": "stream",
     "text": [
      "100%|██████████| 246/246 [00:00<00:00, 2371.18it/s]\n"
     ]
    },
    {
     "name": "stdout",
     "output_type": "stream",
     "text": [
      "loading data/climatefeedback.csv.jsonl\n"
     ]
    },
    {
     "name": "stderr",
     "output_type": "stream",
     "text": [
      "100%|██████████| 136/136 [00:00<00:00, 52299.01it/s]\n"
     ]
    },
    {
     "name": "stdout",
     "output_type": "stream",
     "text": [
      "loading data/factcheck.csv.jsonl\n"
     ]
    },
    {
     "name": "stderr",
     "output_type": "stream",
     "text": [
      "100%|██████████| 6000/6000 [00:01<00:00, 4399.35it/s]\n"
     ]
    },
    {
     "name": "stdout",
     "output_type": "stream",
     "text": [
      "loading data/fullfact.csv.jsonl\n"
     ]
    },
    {
     "name": "stderr",
     "output_type": "stream",
     "text": [
      "100%|██████████| 4060/4060 [00:00<00:00, 11003.67it/s]\n"
     ]
    },
    {
     "name": "stdout",
     "output_type": "stream",
     "text": [
      "loading data/nytimes.csv.jsonl\n"
     ]
    },
    {
     "name": "stderr",
     "output_type": "stream",
     "text": [
      "100%|██████████| 508/508 [00:00<00:00, 5689.94it/s]\n"
     ]
    },
    {
     "name": "stdout",
     "output_type": "stream",
     "text": [
      "loading data/politifact.csv.jsonl\n"
     ]
    },
    {
     "name": "stderr",
     "output_type": "stream",
     "text": [
      "100%|██████████| 5400/5400 [00:00<00:00, 35734.16it/s]\n"
     ]
    },
    {
     "name": "stdout",
     "output_type": "stream",
     "text": [
      "loading data/snopes.csv.jsonl\n"
     ]
    },
    {
     "name": "stderr",
     "output_type": "stream",
     "text": [
      "100%|██████████| 4499/4499 [00:00<00:00, 6259.51it/s]\n"
     ]
    },
    {
     "name": "stdout",
     "output_type": "stream",
     "text": [
      "loading data/washingtonpost.csv.jsonl\n"
     ]
    },
    {
     "name": "stderr",
     "output_type": "stream",
     "text": [
      "100%|██████████| 1416/1416 [00:00<00:00, 1552.96it/s]\n"
     ]
    }
   ],
   "source": [
    "import json\n",
    "from tqdm import tqdm\n",
    "\n",
    "from unidecode import unidecode\n",
    "\n",
    "\n",
    "def load_json(d):\n",
    "    try:\n",
    "        return json.loads(d, strict=False)\n",
    "    except Exception as e:\n",
    "        print(\"FEK\")\n",
    "        print(d)\n",
    "        print(unidecode(d))\n",
    "        return json.loads(unidecode(d), strict=False)\n",
    "\n",
    "\n",
    "def load_jsonl(path: str):\n",
    "    print(\"loading\", path)\n",
    "    with open(path) as f:\n",
    "        return [load_json(d) for d in tqdm(f.readlines())]\n",
    "\n",
    "\n",
    "snippet_datasets = [load_jsonl(p) for p in snippet_files]\n",
    "datasets = [load_jsonl(p) for p in files]"
   ]
  },
  {
   "cell_type": "code",
   "execution_count": 13,
   "metadata": {
    "collapsed": false,
    "pycharm": {
     "name": "#%%\n"
    }
   },
   "outputs": [
    {
     "name": "stdout",
     "output_type": "stream",
     "text": [
      "['data/bbc.csv.jsonl', 'data/climatefeedback.csv.jsonl', 'data/factcheck.csv.jsonl', 'data/fullfact.csv.jsonl', 'data/nytimes.csv.jsonl', 'data/politifact.csv.jsonl', 'data/snopes.csv.jsonl', 'data/washingtonpost.csv.jsonl']\n"
     ]
    },
    {
     "data": {
      "text/plain": [
       "{'data/fullfact-google-results-sample.jsonl': 3}"
      ]
     },
     "execution_count": 13,
     "metadata": {},
     "output_type": "execute_result"
    }
   ],
   "source": [
    "snippet_map = {\n",
    "    k: files.index(k.replace('-google-results-sample.jsonl', '.csv.jsonl')) for k in snippet_files\n",
    "}\n",
    "snippet_map"
   ]
  },
  {
   "cell_type": "code",
   "execution_count": 14,
   "metadata": {
    "collapsed": false,
    "pycharm": {
     "name": "#%%\n"
    }
   },
   "outputs": [],
   "source": [
    "def process_snippet(d, claim_ds):\n",
    "    if d['results'] and d['results'].get('items', None):\n",
    "        snippets_formatted = '\\n'.join(\n",
    "            t.get('snippet', '').split('...', 1)[-1].replace('\\xa0...', '').replace('...', '...\\n...').strip() for t in d['results']['items']).strip()\n",
    "    else:\n",
    "        snippets_formatted = ''\n",
    "    # print(snippets_formatted)\n",
    "    claim = claim_ds[d['id']]['text']\n",
    "    explanataion = claim_ds[d['id']]['cR_textualRating']\n",
    "    text_article = claim_ds[d['id']]['text_article']\n",
    "    return {\n",
    "        'input_snippet': '\\n'.join((claim, snippets_formatted)),\n",
    "        'input_article': f\"{claim}\\n{text_article}\",\n",
    "        'target': explanataion\n",
    "    }\n",
    "\n",
    "\n",
    "ff_map = {d['id']: d for d in datasets[3]}\n",
    "processed_fullfact_snippets = [process_snippet(s, ff_map) for s in snippet_datasets[0]]"
   ]
  },
  {
   "cell_type": "code",
   "execution_count": null,
   "metadata": {
    "collapsed": false,
    "pycharm": {
     "name": "#%%\n"
    }
   },
   "outputs": [],
   "source": []
  },
  {
   "cell_type": "code",
   "execution_count": 15,
   "metadata": {
    "collapsed": false,
    "pycharm": {
     "name": "#%%\n"
    }
   },
   "outputs": [],
   "source": [
    "from handystuff.loaders import write_jsonl\n",
    "\n",
    "\n",
    "def write_out_ds(ds, f):\n",
    "    f = f.replace('data/', 'data/snippets-')\n",
    "    write_jsonl(ds, f)\n",
    "\n",
    "write_out_ds(processed_fullfact_snippets, snippet_files[0])\n"
   ]
  }
 ],
 "metadata": {
  "kernelspec": {
   "display_name": "Python 3.10.8 64-bit",
   "language": "python",
   "name": "python3"
  },
  "language_info": {
   "codemirror_mode": {
    "name": "ipython",
    "version": 2
   },
   "file_extension": ".py",
   "mimetype": "text/x-python",
   "name": "python",
   "nbconvert_exporter": "python",
   "pygments_lexer": "ipython2",
   "version": "3.10.8"
  },
  "vscode": {
   "interpreter": {
    "hash": "e7370f93d1d0cde622a1f8e1c04877d8463912d04d973331ad4851f04de6915a"
   }
  }
 },
 "nbformat": 4,
 "nbformat_minor": 0
}
