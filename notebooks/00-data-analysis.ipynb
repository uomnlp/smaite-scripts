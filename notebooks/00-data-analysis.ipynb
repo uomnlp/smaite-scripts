{
 "cells": [
  {
   "cell_type": "code",
   "execution_count": 2,
   "metadata": {
    "collapsed": false,
    "pycharm": {
     "name": "#%%\n"
    }
   },
   "outputs": [
    {
     "name": "stdout",
     "output_type": "stream",
     "text": [
      "/home/viktor/workspace/smaite-scripts/notebooks\n"
     ]
    }
   ],
   "source": [
    "# @formatter:off\n",
    "import random\n",
    "\n",
    "import numpy as np\n",
    "import sklearn.ensemble\n",
    "%load_ext autoreload\n",
    "%autoreload 2\n",
    "# @formatter:on\n",
    "import os\n",
    "\n",
    "print(os.getcwd())\n",
    "os.chdir('../')"
   ]
  },
  {
   "cell_type": "code",
   "execution_count": 3,
   "metadata": {
    "collapsed": false,
    "pycharm": {
     "name": "#%%\n"
    }
   },
   "outputs": [],
   "source": [
    "# @formatter:off\n",
    "files = !ls data/*csv.jsonl\n",
    "# @formatter:on"
   ]
  },
  {
   "cell_type": "code",
   "execution_count": 4,
   "metadata": {
    "collapsed": false,
    "pycharm": {
     "name": "#%%\n"
    }
   },
   "outputs": [
    {
     "ename": "AssertionError",
     "evalue": "",
     "output_type": "error",
     "traceback": [
      "\u001b[0;31m---------------------------------------------------------------------------\u001b[0m",
      "\u001b[0;31mAssertionError\u001b[0m                            Traceback (most recent call last)",
      "Cell \u001b[0;32mIn [4], line 2\u001b[0m\n\u001b[1;32m      1\u001b[0m files \u001b[39m=\u001b[39m [f \u001b[39mfor\u001b[39;00m f \u001b[39min\u001b[39;00m files \u001b[39mif\u001b[39;00m \u001b[39m'\u001b[39m\u001b[39msample\u001b[39m\u001b[39m'\u001b[39m \u001b[39mnot\u001b[39;00m \u001b[39min\u001b[39;00m f \u001b[39mand\u001b[39;00m \u001b[39m'\u001b[39m\u001b[39maugmented\u001b[39m\u001b[39m'\u001b[39m \u001b[39mnot\u001b[39;00m \u001b[39min\u001b[39;00m f \u001b[39mand\u001b[39;00m \u001b[39m'\u001b[39m\u001b[39mprocessed\u001b[39m\u001b[39m'\u001b[39m \u001b[39mnot\u001b[39;00m \u001b[39min\u001b[39;00m f]\n\u001b[0;32m----> 2\u001b[0m \u001b[39massert\u001b[39;00m \u001b[39mlen\u001b[39m(files) \u001b[39m==\u001b[39m \u001b[39m8\u001b[39m\n",
      "\u001b[0;31mAssertionError\u001b[0m: "
     ]
    }
   ],
   "source": [
    "files = [f for f in files if 'sample' not in f and 'augmented' not in f and 'processed' not in f]\n",
    "assert len(files) == 8"
   ]
  },
  {
   "cell_type": "code",
   "execution_count": 4,
   "metadata": {
    "collapsed": false,
    "pycharm": {
     "name": "#%%\n"
    }
   },
   "outputs": [
    {
     "name": "stdout",
     "output_type": "stream",
     "text": [
      "loading data/bbc.csv.jsonl\n"
     ]
    },
    {
     "data": {
      "application/vnd.jupyter.widget-view+json": {
       "model_id": "14c94b8c4faa4faaa6febc8bc48819f0",
       "version_major": 2,
       "version_minor": 0
      },
      "text/plain": [
       "  0%|          | 0/246 [00:00<?, ?it/s]"
      ]
     },
     "metadata": {},
     "output_type": "display_data"
    },
    {
     "name": "stdout",
     "output_type": "stream",
     "text": [
      "loading data/climatefeedback.csv.jsonl\n"
     ]
    },
    {
     "data": {
      "application/vnd.jupyter.widget-view+json": {
       "model_id": "43afe168922e4ed4a08af584d82c114d",
       "version_major": 2,
       "version_minor": 0
      },
      "text/plain": [
       "  0%|          | 0/136 [00:00<?, ?it/s]"
      ]
     },
     "metadata": {},
     "output_type": "display_data"
    },
    {
     "name": "stdout",
     "output_type": "stream",
     "text": [
      "loading data/factcheck.csv.jsonl\n"
     ]
    },
    {
     "data": {
      "application/vnd.jupyter.widget-view+json": {
       "model_id": "5b5c158b7cac43cca0c8b1decf041f68",
       "version_major": 2,
       "version_minor": 0
      },
      "text/plain": [
       "  0%|          | 0/6000 [00:00<?, ?it/s]"
      ]
     },
     "metadata": {},
     "output_type": "display_data"
    },
    {
     "name": "stdout",
     "output_type": "stream",
     "text": [
      "loading data/fullfact.csv.jsonl\n"
     ]
    },
    {
     "data": {
      "application/vnd.jupyter.widget-view+json": {
       "model_id": "c73c6266abac4df49ee04613ff293cf7",
       "version_major": 2,
       "version_minor": 0
      },
      "text/plain": [
       "  0%|          | 0/4060 [00:00<?, ?it/s]"
      ]
     },
     "metadata": {},
     "output_type": "display_data"
    },
    {
     "name": "stdout",
     "output_type": "stream",
     "text": [
      "loading data/nytimes.csv.jsonl\n"
     ]
    },
    {
     "data": {
      "application/vnd.jupyter.widget-view+json": {
       "model_id": "db42498f11ee45038daed6ef635947e4",
       "version_major": 2,
       "version_minor": 0
      },
      "text/plain": [
       "  0%|          | 0/508 [00:00<?, ?it/s]"
      ]
     },
     "metadata": {},
     "output_type": "display_data"
    },
    {
     "name": "stdout",
     "output_type": "stream",
     "text": [
      "loading data/politifact.csv.jsonl\n"
     ]
    },
    {
     "data": {
      "application/vnd.jupyter.widget-view+json": {
       "model_id": "fe9321fa31064561aa4cd86503d16377",
       "version_major": 2,
       "version_minor": 0
      },
      "text/plain": [
       "  0%|          | 0/5400 [00:00<?, ?it/s]"
      ]
     },
     "metadata": {},
     "output_type": "display_data"
    },
    {
     "name": "stdout",
     "output_type": "stream",
     "text": [
      "loading data/snopes.csv.jsonl\n"
     ]
    },
    {
     "data": {
      "application/vnd.jupyter.widget-view+json": {
       "model_id": "db2b96eaae2846349288fb5abbd6fecf",
       "version_major": 2,
       "version_minor": 0
      },
      "text/plain": [
       "  0%|          | 0/4499 [00:00<?, ?it/s]"
      ]
     },
     "metadata": {},
     "output_type": "display_data"
    },
    {
     "name": "stdout",
     "output_type": "stream",
     "text": [
      "loading data/washingtonpost.csv.jsonl\n"
     ]
    },
    {
     "data": {
      "application/vnd.jupyter.widget-view+json": {
       "model_id": "2ca946b5908f4f8c92f2df0d3b78e3a2",
       "version_major": 2,
       "version_minor": 0
      },
      "text/plain": [
       "  0%|          | 0/1416 [00:00<?, ?it/s]"
      ]
     },
     "metadata": {},
     "output_type": "display_data"
    }
   ],
   "source": [
    "import json\n",
    "from tqdm.notebook import tqdm\n",
    "from unidecode import unidecode\n",
    "\n",
    "\n",
    "def load_json(d):\n",
    "    try:\n",
    "        return json.loads(d, strict=False)\n",
    "    except Exception as e:\n",
    "        print(\"FEK\")\n",
    "        print(d)\n",
    "        print(unidecode(d))\n",
    "        return json.loads(unidecode(d), strict=False)\n",
    "\n",
    "\n",
    "def load_jsonl(path: str):\n",
    "    print(\"loading\", path)\n",
    "    with open(path) as f:\n",
    "        return [load_json(d) for d in tqdm(f.readlines())]\n",
    "\n",
    "\n",
    "datasets = [load_jsonl(p) for p in files]\n"
   ]
  },
  {
   "cell_type": "code",
   "execution_count": 5,
   "metadata": {
    "collapsed": false,
    "pycharm": {
     "name": "#%%\n"
    }
   },
   "outputs": [],
   "source": [
    "from bs4 import BeautifulSoup\n",
    "\n",
    "\n",
    "def fix_bbc(d):\n",
    "    soup = BeautifulSoup(d['html_article'])\n",
    "    texts = [t for t in soup.find_all(attrs={'data-component': 'text-block'}) if\n",
    "             t.text.lower() not in (\"read more from reality check\", \"send us your questions\")]\n",
    "    article = '\\n'.join(d.text for d in texts)\n",
    "    links = [a['href'] for t in texts for a in t.find_all(name='a')]\n",
    "    d['text_article'] = article\n",
    "    d['links_article'] = links\n",
    "    return d\n",
    "\n",
    "\n",
    "datasets[0] = [fix_bbc(d) for d in datasets[0]]"
   ]
  },
  {
   "cell_type": "code",
   "execution_count": 6,
   "metadata": {
    "collapsed": false,
    "pycharm": {
     "name": "#%%\n"
    }
   },
   "outputs": [],
   "source": [
    "def fix_factchck(d):\n",
    "    soup = BeautifulSoup(d['html_article'])\n",
    "    header = [t for t in soup.find_all(name='h3') if t.text]\n",
    "    texts = [t for t in soup.find_all(name='p') if t.text]\n",
    "    article = '\\n'.join(d.text for d in header + texts)\n",
    "    #links = [a['href'] for t in texts for a in t.find_all(name='a')]\n",
    "    d['text_article'] = article\n",
    "    #d['links_article'] = links\n",
    "    return d\n",
    "\n",
    "\n",
    "datasets[0] = [fix_factchck(d) for d in datasets[3]]"
   ]
  },
  {
   "cell_type": "code",
   "execution_count": 7,
   "metadata": {
    "collapsed": false,
    "pycharm": {
     "name": "#%%\n"
    }
   },
   "outputs": [],
   "source": [
    "import bs4\n",
    "from copy import deepcopy\n",
    "\n",
    "\n",
    "def fix_snopes(d):\n",
    "    new_d = deepcopy(d)\n",
    "    soup = BeautifulSoup(d['html_article'])\n",
    "    soup.extract('script')\n",
    "    texts = []\n",
    "    for t in soup.find_all(name='p'):\n",
    "        texts.append(t)\n",
    "\n",
    "    article = '\\n'.join(t.text.strip() for t in texts)\n",
    "    #links = [a['href'] for t in texts for a in t.find_all(name='a')]\n",
    "    new_d['text_article'] = article\n",
    "    return new_d\n",
    "\n",
    "\n",
    "# print(datasets[6][1336]['text_article'])\n",
    "# print(20*'----')\n",
    "datasets[6] = [fix_snopes(d) for d in datasets[6]]"
   ]
  },
  {
   "cell_type": "code",
   "execution_count": 8,
   "metadata": {
    "collapsed": false,
    "pycharm": {
     "name": "#%%\n"
    }
   },
   "outputs": [],
   "source": [
    "def fix_wp(d):\n",
    "    new_d = deepcopy(d)\n",
    "    soup = BeautifulSoup(d['html_article'])\n",
    "    texts = [t for t in soup.find_all(attrs={'data-qa': ['drop-cap-letter', 'article-header']}) if\n",
    "             t.text.lower() not in (\"read more from reality check\", \"send us your questions\")]\n",
    "    article = '\\n'.join(d.text for d in texts if not any(\n",
    "        d.text.lower().startswith(n) for n in (\"send us facts to check\", \"sign up for the fact checker\", \"the fact checker is\", \"(about our rating\")))\n",
    "    new_d['text_article'] = article\n",
    "    return new_d\n",
    "\n",
    "\n",
    "datasets[7] = [fix_wp(d) for d in datasets[7]]"
   ]
  },
  {
   "cell_type": "code",
   "execution_count": null,
   "metadata": {
    "collapsed": false,
    "pycharm": {
     "name": "#%%\n"
    }
   },
   "outputs": [],
   "source": [
    "print(datasets[7][1336]['html_article'])"
   ]
  },
  {
   "cell_type": "code",
   "execution_count": 10,
   "metadata": {
    "collapsed": false,
    "pycharm": {
     "name": "#%%\n"
    }
   },
   "outputs": [
    {
     "data": {
      "text/plain": [
       "dict_keys(['id', 'text', 'claimant', 'claimDate', 'cR_p_name', 'cR_p_site', 'cR_url', 'cR_title', 'cR_reviewDate', 'cR_textualRating', 'lCode', 'links_article', 'text_article', 'html_article'])"
      ]
     },
     "execution_count": 10,
     "metadata": {},
     "output_type": "execute_result"
    }
   ],
   "source": [
    "datasets[0][0].keys()"
   ]
  },
  {
   "cell_type": "code",
   "execution_count": 11,
   "metadata": {
    "collapsed": false,
    "pycharm": {
     "name": "#%%\n"
    }
   },
   "outputs": [],
   "source": [
    "coarse_map = {\n",
    "    'TRUE': ['accurate', 'correct', 'true', 'legit'],\n",
    "    'FALSE': ['inaccurate', 'unsupported', 'flawed reasoning', 'incorrect', 'lacks context', 'false', 'wrong', 'scam', 'falso', 'fake',\n",
    "              'manipulated image', 'altered video', 'doctored image', 'hoax', 'faux', 'altered image', 'pants on fire', 'full flop',\n",
    "              'legend' 'four pinocchios'],\n",
    "    'MISLEADING': ['misleading', 'lacks context', 'missing context', 'misleading context', 'misattributed', 'out of context', 'exaggerated',\n",
    "                   'exaggeration', 'unsubstantiated', 'outdated'],\n",
    "    'ALMOST': ['imprecise', 'mostly correct', 'mostly accurate', 'correct but…', 'mostly true', 'lacks evidence', 'largely correct',\n",
    "               'largely accurate', 'close to accurate', 'one pinocchio'],\n",
    "    'HALF': ['mixture', 'mixed', 'half true', 'partly false', 'half-right, half-wrong', 'half flip', 'partially accurate', 'two pinocchios',\n",
    "             'half flop'],\n",
    "    'HARDLY': ['partly false', 'mostly false', 'three pinocchios'],\n",
    "    'SATIRE': ['satire', 'false satire', 'april fool', 'originated as satire', 'labelled satire']\n",
    "}\n",
    "\n",
    "def replace_label(label):\n",
    "    for k, v in coarse_map.items():\n",
    "        if label in v:\n",
    "            return k\n",
    "    return 'UNKNOWN'\n",
    "\n",
    "\n",
    "def process_label(label):\n",
    "    label = str(label).lower().replace('_', ' ').replace('- ', '').replace('.', '').replace('this', '').replace('fasle', 'false')\n",
    "    label = label.replace('may be', '').replace('the', '').replace('claim', '').replace(' is ', ' ').replace('just', '').replace('flat', '').strip()\n",
    "    if len(label) < 40:\n",
    "        if any(label.startswith(n) for n in ['no', 'false']):\n",
    "            return 'false'\n",
    "        elif any(c in label for c in ['misleading', 'context']):\n",
    "            return 'misleading'\n",
    "    return label"
   ]
  },
  {
   "cell_type": "code",
   "execution_count": 12,
   "metadata": {
    "collapsed": false,
    "pycharm": {
     "name": "#%%\n"
    }
   },
   "outputs": [],
   "source": [
    "import matplotlib.pyplot as plt\n",
    "import pandas as pd\n",
    "\n",
    "\n",
    "def barh_from_counter(ctrs):\n",
    "    index = ['TRUE', 'ALMOST', 'HALF', 'HARDLY', 'FALSE', 'MISLEADING', 'SATIRE']\n",
    "    df = pd.DataFrame({k: [v.get(i, 0) for i in index] for k, v in ctrs.items()}, index)\n",
    "    df.plot.barh()\n",
    "    plt.show()\n"
   ]
  },
  {
   "cell_type": "code",
   "execution_count": 13,
   "metadata": {
    "collapsed": false,
    "pycharm": {
     "name": "#%%\n"
    }
   },
   "outputs": [
    {
     "name": "stdout",
     "output_type": "stream",
     "text": [
      "Dataset: data/climatefeedback.csv.jsonl\n",
      "4\n",
      "Dataset: data/factcheck.csv.jsonl\n",
      "7\n",
      "Dataset: data/nytimes.csv.jsonl\n",
      "7\n",
      "Dataset: data/politifact.csv.jsonl\n",
      "7\n",
      "Dataset: data/snopes.csv.jsonl\n",
      "8\n",
      "Dataset: data/washingtonpost.csv.jsonl\n",
      "7\n"
     ]
    },
    {
     "data": {
      "image/png": "[encoded data removed]",
      "text/plain": [
       "<Figure size 432x288 with 1 Axes>"
      ]
     },
     "metadata": {
      "needs_background": "light"
     },
     "output_type": "display_data"
    }
   ],
   "source": [
    "from collections import Counter\n",
    "\n",
    "\n",
    "def label_distribution_ds(ds, name, cutoff=1):\n",
    "    labels = [replace_label(process_label(d['cR_textualRating'])) for d in ds]\n",
    "    full_ctr = Counter(labels)\n",
    "    ctr = {x: y for x, y in full_ctr.most_common() if y >= cutoff}\n",
    "    print('Dataset:', name)\n",
    "    print(len(ctr))\n",
    "    return ctr\n",
    "\n",
    "\n",
    "ctrs = dict()\n",
    "for ds, f in zip(datasets, files):\n",
    "\n",
    "    if all(n not in f for n in ['fullfact', 'bbc']):\n",
    "        ctrs[f] = label_distribution_ds(ds, f)\n",
    "\n",
    "barh_from_counter(ctrs)\n",
    "\n"
   ]
  },
  {
   "cell_type": "code",
   "execution_count": 14,
   "metadata": {
    "collapsed": false,
    "pycharm": {
     "name": "#%%\n"
    }
   },
   "outputs": [],
   "source": [
    "def augment_labels(ds):\n",
    "    for d in ds:\n",
    "        d['label'] = replace_label(process_label(d['cR_textualRating']))\n",
    "\n",
    "\n",
    "for ds, f in zip(datasets, files):\n",
    "    if all(n not in f for n in ['fullfact', 'bbc']):\n",
    "        augment_labels(ds)\n"
   ]
  },
  {
   "cell_type": "code",
   "execution_count": 15,
   "metadata": {
    "collapsed": false,
    "pycharm": {
     "name": "#%%\n"
    }
   },
   "outputs": [
    {
     "name": "stdout",
     "output_type": "stream",
     "text": [
      "Dataset: data/bbc.csv.jsonl\n",
      " rating: The UN estimates that there were 8.8 million people in the UK in 2017 who were not born here, but that doesn’t mean the government has found homes for them.\n",
      " title: This viral image on immigration and homelessness has a fundamental flaw - Full Fact\n",
      "\n",
      " rating: This is far too high. There are various estimates for the prevalence of long Covid. The Office for National Statistics estimated that 7.5% of people infected with Covid-19 self-reported having long Covid three  months after infection which limited their  daily activities.\n",
      " title: Washington Post overstates prevalence of long Covid - Full Fact\n",
      "\n",
      " rating: Car accident victims who had their feet on the dashboard have suffered serious facial injuries.\n",
      " title: You are at risk of serious facial injuries if your feet are on the dashboard during a car crash - Full Fact\n",
      "\n",
      " rating: This is unlikely outside of some very particular circumstances.\n",
      " title: You almost certainly won’t get arrested for flying a British flag - Full Fact\n",
      "\n",
      " rating: It did not. CNN’s website has rolling news video at the top of some of its articles reflecting the current news, not the news at the time of that particular article’s publication.\n",
      " title: False claims about first vaccine recipients spread on social media - Full Fact\n",
      "\n",
      " rating: This is not true. The real number, in England, is around 52,000. It will be slightly higher for the whole UK and if antibody and surveillance tests are included.\n",
      " title: We do not test 330,000 people a day for Covid-19 - Full Fact\n",
      "\n",
      " rating: Not quite. Nando’s serves only halal chicken in 76 of its 434 UK branches. The ad shared in the post was from Nando’s in Singapore.\n",
      " title: Not every Nando’s UK restaurant is halal - Full Fact\n",
      "\n",
      " rating: This is not proved by this study. It finds children have a high viral load, but offers no evidence on transmission.\n",
      " title: Study doesn’t show that children are ‘silent super-spreaders’ of coronavirus - Full Fact\n",
      "\n",
      " rating: This figure compares wages for full-time employees between 2010 and 2020, not “today”. Other wage statistics show wages for all employees in July 2021 were worth about £1,480 more than in 2010 in real terms.\n",
      " title: Angela Rayner wrong on wage growth - Full Fact\n",
      "\n",
      " rating: Correct up to May.This was reported by the ECDC.\n",
      " title: It’s not true that 58% of Covid-19 deaths in Scotland were in care homes - Full Fact\n",
      "\n",
      "--------------------------------------------------------------------------------\n",
      "Dataset: data/climatefeedback.csv.jsonl\n",
      " rating: Incorrect\n",
      " title: In CNN interview, William Happer incorrectly claims temperatures don’t match climate model projections\n",
      "\n",
      " rating: Incorrect\n",
      " title: Non-peer-reviewed manuscript falsely claims natural cloud changes can explain global warming\n",
      "\n",
      " rating: Incorrect\n",
      " title: Claim that cosmic rays are a crucial player for current climate change is unsupported\n",
      "\n",
      " rating: Incorrect\n",
      " title: Fred Singer incorrectly claims sea level rise is not caused by climate change\n",
      "\n",
      " rating: Inaccurate\n",
      " title: Sea level rise is accelerating, and with it the risk associated with coastal storm surge, contrary to claim in Forbes\n",
      "\n",
      " rating: Unsupported\n",
      " title: Investor’s Business Daily editorial doesn’t support claims about UN statements\n",
      "\n",
      " rating: Inaccurate\n",
      " title: NOAA does not fraudulently adjust data to create the illusion of a global warming trend\n",
      "\n",
      " rating: Mostly_Correct\n",
      " title: The world’s coral reefs are severely threatened by climate change and other human impacts, as ABC story notes\n",
      "\n",
      " rating: Inaccurate\n",
      " title: Article falsely attributes invented quotes to James Hansen\n",
      "\n",
      " rating: Accurate\n",
      " title: Scientists observe most widespread bleaching event ever recorded at The Great Barrier Reef\n",
      "\n",
      "--------------------------------------------------------------------------------\n",
      "Dataset: data/factcheck.csv.jsonl\n",
      " rating: Misleading\n",
      " title: This video has circulated in reports about the aftermath of flooding near Jakarta in 2020\n",
      "\n",
      " rating: False\n",
      " title: No, this story originated from a satirical website\n",
      "\n",
      " rating: Fake\n",
      " title: No, the polio vaccine did not infect millions of Americans with cancer\n",
      "\n",
      " rating: False\n",
      " title: This video shows workmen uncovering a bat-infested roof in the US state of Florida in 2011\n",
      "\n",
      " rating: False\n",
      " title: Unlocked doors in Canada’s ‘polar bear capital’ are custom, but not law\n",
      "\n",
      " rating: False\n",
      " title: This video shows a Philippine senator celebrating her birthday in 2015, not at a prison party in 2020\n",
      "\n",
      " rating: False\n",
      " title: Facebook posts falsely claim Australian PM’s Covid-19 vaccination was 'faked'\n",
      "\n",
      " rating: FALSE\n",
      " title: No, this video is not 'breaking news' revealing electoral fraud by India’s ruling party\n",
      "\n",
      " rating: Misleading\n",
      " title: This MRI scan of a mother with her child has been altered\n",
      "\n",
      " rating: False\n",
      " title: The Malaysian Ministry of Defence says these photos show a dead woman’s body, not the bodies of two missing Malaysian soldiers\n",
      "\n",
      "--------------------------------------------------------------------------------\n",
      "Dataset: data/fullfact.csv.jsonl\n",
      " rating: The video is not of Ms Begum. The rest of the video shows that it’s a different and much younger person.\n",
      " title: This video does not show Shamima Begum beheading someone in Syria - Full Fact\n",
      "\n",
      " rating: Correct according to figures available since the 1970s.\n",
      " title: Unemployment is at a 10-year low - Full Fact\n",
      "\n",
      " rating: These estimated benefits are relative to 2018 when the UK (as part of the EU) had no FTA with Japan. It’s not relative to the existing EU-Japan trade deal which currently governs trade between the UK and Japan.\n",
      " title: £1.5bn GDP boost from UK-Japan trade deal is not on top of existing EU-Japan deal benefits - Full Fact\n",
      "\n",
      " rating: This is correct as of 11 May.\n",
      " title: It’s true that recent changes to lockdown rules are slightly different throughout the UK - Full Fact\n",
      "\n",
      " rating: While asset sales can reduce the reported deficit in the short run, they won't have a significant effect in the longer term: the government can only sell an asset once.\n",
      " title: Do asset sales save the government money? - Full Fact\n",
      "\n",
      " rating: It employed around 500 staff in March 2017 to work with taxpayers with assets over £10m, and another 500 staff to investigate the tax affairs of taxpayers with assets over £1 million, or an income over £150,000 a year. In 2016, they were estimated to account for around £2bn in lost tax revenue.\n",
      " title: Do benefit fraud investigators outnumber super-rich tax inspectors 8:1? - Full Fact\n",
      "\n",
      " rating: Incorrect. The US MMR vaccine package insert, under “adverse reactions”, says death from various and sometimes unknown causes has been reported after vaccination but a causal relationship hasn’t been found in healthy individuals. Death isn’t listed under adverse reactions on either MMR vaccine used in the UK.\n",
      " title: Measles is not the “number one side effect” of the MMR vaccine - Full Fact\n",
      "\n",
      " rating: Incorrect. McDonald’s has said it has no plans to reopen at this stage.\n",
      " title: UK branches of McDonald’s did not reopen on 27 April - Full Fact\n",
      "\n",
      " rating: Correct.\n",
      " title: England hasn’t ‘kept’ £450 billion of Scottish taxes since 2001 - Full Fact\n",
      "\n",
      " rating: Correct.\n",
      " title: Violence and drugs in prison - Full Fact\n",
      "\n",
      "--------------------------------------------------------------------------------\n",
      "Dataset: data/nytimes.csv.jsonl\n",
      " rating: Fact and omission.\n",
      " title: Fact-Checking Pompeo on Iran\n",
      "\n",
      " rating: False.\n",
      " title: Fact-Checking Biden on the Coronavirus and His Own Record (Published 2020)\n",
      "\n",
      " rating: False.\n",
      " title: After Acquittal, Trump Repeats Inaccurate Claims on Impeachment and Ukraine (Published 2020)\n",
      "\n",
      " rating: Baseless\n",
      " title: George Soros Smears Find New Life in Roseanne’s Twitter Tantrum (Published 2018)\n",
      "\n",
      " rating: False\n",
      " title: Fact Checking Mike Pence on the Coronavirus Pandemic\n",
      "\n",
      " rating: Not how it works.\n",
      " title: Fact Checks of the 2016 Election\n",
      "\n",
      " rating: False.\n",
      " title: Fact Check: Trump's Claims on the Economy\n",
      "\n",
      " rating: This is misleading.\n",
      " title: Fact Checking President Trump on Coronavirus Pandemic\n",
      "\n",
      " rating: An exaggeration.\n",
      " title: Fact Checks of the 2016 Election\n",
      "\n",
      " rating: Wrong timing.\n",
      " title: Fact Checks of the 2016 Election\n",
      "\n",
      "--------------------------------------------------------------------------------\n",
      "Dataset: data/politifact.csv.jsonl\n",
      " rating: False\n",
      " title: No, the military doesn't have COVID-19 quarantine team Humvees in Michigan\n",
      "\n",
      " rating: True\n",
      " title: Yes, the average American family pays more in hospital expenditures than federal taxes\n",
      "\n",
      " rating: Half True\n",
      " title: Donald Trump's talk of a historic Senate gain depends on races that remain undecided\n",
      "\n",
      " rating: False\n",
      " title: Claim that vaccine campaign boosted COVID-19 deaths errs in several ways\n",
      "\n",
      " rating: False\n",
      " title: 'Leaked documents' don't prove US hospitals preparing for 96 million coronavirus cases\n",
      "\n",
      " rating: False\n",
      " title: Posts saying Trump's July 4 event drew small crowd are wrong\n",
      "\n",
      " rating: Pants on Fire\n",
      " title: No, study did not find that 80 percent of black men in Atlanta are gay\n",
      "\n",
      " rating: False\n",
      " title: Jeanine Pirro's new book falsely declares the Russia investigation over\n",
      "\n",
      " rating: Half True\n",
      " title: After Parkland, Paul Ryan cites law on mentally ill and guns, but it has limited reach\n",
      "\n",
      " rating: False\n",
      " title: Jen Psaki incorrect in saying no economist thinks Biden bill will boost inflation\n",
      "\n",
      "--------------------------------------------------------------------------------\n",
      "Dataset: data/snopes.csv.jsonl\n",
      " rating: Miscaptioned\n",
      " title: Did Emily Murphy Attend a Trump Rally in a 'F*ck Your Feelings' Shirt?\n",
      "\n",
      " rating: Mixture\n",
      " title: Did Trump Say Governors Had To Treat Him Well To Get COVID-19 Supplies?\n",
      "\n",
      " rating: Mixture\n",
      " title: Did BYU Repeatedly Wash Away Pro-LGBT+ Chalk Art on Campus?\n",
      "\n",
      " rating: Miscaptioned\n",
      " title: Is This Photo of a Baby Albino Bat Real?\n",
      "\n",
      " rating: False\n",
      " title: Did Biden Fart During a Town Hall?\n",
      "\n",
      " rating: Miscaptioned\n",
      " title: Is the 'California is a Shithole' Starterpack Accurate?\n",
      "\n",
      " rating: True\n",
      " title: Does Disneyland Sell a Pickle Corn Dog with Panko Crust?\n",
      "\n",
      " rating: Miscaptioned\n",
      " title: Pic of Gas Generator Charging Tesla Wasn't Shot in U.S.\n",
      "\n",
      " rating: False\n",
      " title: Is Ruby Tuesday Closing Permanently?\n",
      "\n",
      " rating: True\n",
      " title: Was Pence Rushed Out of Capitol During Electoral College Count?\n",
      "\n",
      "--------------------------------------------------------------------------------\n",
      "Dataset: data/washingtonpost.csv.jsonl\n",
      " rating: Two Pinocchios\n",
      " title: Analysis | Did Colorado have the ‘number one economy’ in the past three years?\n",
      "\n",
      " rating: Flip Flop\n",
      " title: Analysis | President Trump’s bushel of false claims in his Fox Business interview\n",
      "\n",
      " rating: Four Pinocchios\n",
      " title: Analysis | Trump’s bogus effort to blame Obama for sluggish coronavirus testing\n",
      "\n",
      " rating: Not the whole story\n",
      " title: Analysis | Kamala Harris’s claim that Medicare-for-all ‘doesn’t get rid of all insurance’\n",
      "\n",
      " rating: False\n",
      " title: Fact-checking Alexandria Ocasio-Cortez's media blitz\n",
      "\n",
      " rating: Four Pinocchios\n",
      " title: Analysis | How false hope spread about hydroxychloroquine to treat covid-19 — and the consequences that followed\n",
      "\n",
      " rating: Two Pinocchios\n",
      " title: Analysis | Sen. Lindsey Graham’s claim that 1996 welfare overhaul ‘worked like a charm’\n",
      "\n",
      " rating: Three Pinocchios\n",
      " title: Analysis | Trump’s repeated claim that China is paying ‘billions’ in tariffs to the Treasury\n",
      "\n",
      " rating: Four Pinocchios\n",
      " title: Analysis | President Trump’s claim that he ‘turned West Virginia around’ by cutting regulations on mining\n",
      "\n",
      " rating: Spins the facts\n",
      " title: Analysis | Fact-checking Democrats’ rhetoric on the GOP health-care bill\n",
      "\n",
      "--------------------------------------------------------------------------------\n"
     ]
    }
   ],
   "source": [
    "import random\n",
    "\n",
    "\n",
    "def does_output_make_sense(ds, name, k=5):\n",
    "    print('Dataset:', name)\n",
    "    for d in random.sample(ds, k):\n",
    "        print(' rating:', d['cR_textualRating'])\n",
    "        print(' title:', d['cR_title'])\n",
    "        print()\n",
    "    print('----' * 20)\n",
    "\n",
    "\n",
    "for ds, f in zip(datasets, files):\n",
    "    does_output_make_sense(ds, f, 10)\n"
   ]
  },
  {
   "cell_type": "code",
   "execution_count": 16,
   "metadata": {
    "collapsed": false,
    "pycharm": {
     "name": "#%%\n"
    }
   },
   "outputs": [],
   "source": [
    "def augment_explanation(ds, concat=False):\n",
    "    for d in ds:\n",
    "        if concat:\n",
    "            explanation = '. '.join((str(d['cR_textualRating']), d['cR_title']))\n",
    "        else:\n",
    "            explanation = str(d['cR_textualRating'])\n",
    "        d['explanation'] = explanation\n",
    "\n",
    "\n",
    "for ds, f in zip(datasets, files):\n",
    "    augment_explanation(ds, concat=any(n in f for n in ['climatefeedback', 'factcheck']))\n"
   ]
  },
  {
   "cell_type": "code",
   "execution_count": 17,
   "metadata": {
    "collapsed": false,
    "pycharm": {
     "name": "#%%\n"
    }
   },
   "outputs": [
    {
     "name": "stdout",
     "output_type": "stream",
     "text": [
      "data/augmented-bbc.csv.jsonl\n",
      "data/augmented-climatefeedback.csv.jsonl\n",
      "data/augmented-factcheck.csv.jsonl\n",
      "data/augmented-fullfact.csv.jsonl\n",
      "data/augmented-nytimes.csv.jsonl\n",
      "data/augmented-politifact.csv.jsonl\n",
      "data/augmented-snopes.csv.jsonl\n",
      "data/augmented-washingtonpost.csv.jsonl\n"
     ]
    }
   ],
   "source": [
    "from handystuff.loaders import write_jsonl\n",
    "\n",
    "\n",
    "def write_out_ds(ds, f):\n",
    "    f = f.replace('data/', 'data/augmented-')\n",
    "    print(f)\n",
    "    write_jsonl(ds, f)\n",
    "\n",
    "\n",
    "for ds, f in zip(datasets, files):\n",
    "    write_out_ds(ds, f)\n"
   ]
  },
  {
   "cell_type": "code",
   "execution_count": 20,
   "metadata": {
    "collapsed": false,
    "pycharm": {
     "name": "#%%\n"
    }
   },
   "outputs": [],
   "source": [
    "#@formatter:off\n",
    "!cd data/ && for i in augmented-bbc.csv.jsonl augmented-climatefeedback.csv.jsonl augmented-factcheck.csv.jsonl augmented-fullfact.csv.jsonl augmented-nytimes.csv.jsonl augmented-politifact.csv.jsonl augmented-snopes.csv.jsonl augmented-washingtonpost.csv.jsonl; do cat $i | mlr --ijsonl --ojsonl cut -f text,text_article,label,explanation > processed-$i; done\n",
    "#@formatter:on"
   ]
  },
  {
   "cell_type": "code",
   "execution_count": 18,
   "metadata": {
    "collapsed": false,
    "pycharm": {
     "name": "#%%\n"
    }
   },
   "outputs": [],
   "source": []
  }
 ],
 "metadata": {
  "kernelspec": {
   "display_name": "Python 3.8.13 ('smaite')",
   "language": "python",
   "name": "python3"
  },
  "language_info": {
   "codemirror_mode": {
    "name": "ipython",
    "version": 3
   },
   "file_extension": ".py",
   "mimetype": "text/x-python",
   "name": "python",
   "nbconvert_exporter": "python",
   "pygments_lexer": "ipython3",
   "version": "3.8.13"
  },
  "vscode": {
   "interpreter": {
    "hash": "8e59854198b62e77d92da15d0c036c042ba0ed0a9b0aaffcd75c388e7e8858f6"
   }
  }
 },
 "nbformat": 4,
 "nbformat_minor": 0
}
