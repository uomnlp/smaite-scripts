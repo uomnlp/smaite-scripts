{
 "cells": [
  {
   "cell_type": "code",
   "execution_count": 1,
   "outputs": [
    {
     "name": "stdout",
     "output_type": "stream",
     "text": [
      "/home/viktor/workspace/smaite/notebooks\n"
     ]
    }
   ],
   "source": [
    "# @formatter:off\n",
    "import random\n",
    "\n",
    "import numpy as np\n",
    "import sklearn.ensemble\n",
    "%load_ext autoreload\n",
    "%autoreload 2\n",
    "# @formatter:on\n",
    "import os\n",
    "\n",
    "print(os.getcwd())\n",
    "os.chdir('../')"
   ],
   "metadata": {
    "collapsed": false,
    "pycharm": {
     "name": "#%%\n"
    }
   }
  },
  {
   "cell_type": "code",
   "execution_count": 2,
   "outputs": [],
   "source": [
    "# @formatter:off\n",
    "files = !ls data/*csv.jsonl\n",
    "# @formatter:on"
   ],
   "metadata": {
    "collapsed": false,
    "pycharm": {
     "name": "#%%\n"
    }
   }
  },
  {
   "cell_type": "code",
   "execution_count": 3,
   "outputs": [],
   "source": [
    "files = [f for f in files if 'sample' not in f and 'augmented' not in f and 'processed' not in f]\n",
    "assert len(files) == 8"
   ],
   "metadata": {
    "collapsed": false,
    "pycharm": {
     "name": "#%%\n"
    }
   }
  },
  {
   "cell_type": "code",
   "execution_count": 4,
   "outputs": [
    {
     "name": "stdout",
     "output_type": "stream",
     "text": [
      "loading data/bbc.csv.jsonl\n"
     ]
    },
    {
     "data": {
      "text/plain": "  0%|          | 0/246 [00:00<?, ?it/s]",
      "application/vnd.jupyter.widget-view+json": {
       "version_major": 2,
       "version_minor": 0,
       "model_id": "14c94b8c4faa4faaa6febc8bc48819f0"
      }
     },
     "metadata": {},
     "output_type": "display_data"
    },
    {
     "name": "stdout",
     "output_type": "stream",
     "text": [
      "loading data/climatefeedback.csv.jsonl\n"
     ]
    },
    {
     "data": {
      "text/plain": "  0%|          | 0/136 [00:00<?, ?it/s]",
      "application/vnd.jupyter.widget-view+json": {
       "version_major": 2,
       "version_minor": 0,
       "model_id": "43afe168922e4ed4a08af584d82c114d"
      }
     },
     "metadata": {},
     "output_type": "display_data"
    },
    {
     "name": "stdout",
     "output_type": "stream",
     "text": [
      "loading data/factcheck.csv.jsonl\n"
     ]
    },
    {
     "data": {
      "text/plain": "  0%|          | 0/6000 [00:00<?, ?it/s]",
      "application/vnd.jupyter.widget-view+json": {
       "version_major": 2,
       "version_minor": 0,
       "model_id": "5b5c158b7cac43cca0c8b1decf041f68"
      }
     },
     "metadata": {},
     "output_type": "display_data"
    },
    {
     "name": "stdout",
     "output_type": "stream",
     "text": [
      "loading data/fullfact.csv.jsonl\n"
     ]
    },
    {
     "data": {
      "text/plain": "  0%|          | 0/4060 [00:00<?, ?it/s]",
      "application/vnd.jupyter.widget-view+json": {
       "version_major": 2,
       "version_minor": 0,
       "model_id": "c73c6266abac4df49ee04613ff293cf7"
      }
     },
     "metadata": {},
     "output_type": "display_data"
    },
    {
     "name": "stdout",
     "output_type": "stream",
     "text": [
      "loading data/nytimes.csv.jsonl\n"
     ]
    },
    {
     "data": {
      "text/plain": "  0%|          | 0/508 [00:00<?, ?it/s]",
      "application/vnd.jupyter.widget-view+json": {
       "version_major": 2,
       "version_minor": 0,
       "model_id": "db42498f11ee45038daed6ef635947e4"
      }
     },
     "metadata": {},
     "output_type": "display_data"
    },
    {
     "name": "stdout",
     "output_type": "stream",
     "text": [
      "loading data/politifact.csv.jsonl\n"
     ]
    },
    {
     "data": {
      "text/plain": "  0%|          | 0/5400 [00:00<?, ?it/s]",
      "application/vnd.jupyter.widget-view+json": {
       "version_major": 2,
       "version_minor": 0,
       "model_id": "fe9321fa31064561aa4cd86503d16377"
      }
     },
     "metadata": {},
     "output_type": "display_data"
    },
    {
     "name": "stdout",
     "output_type": "stream",
     "text": [
      "loading data/snopes.csv.jsonl\n"
     ]
    },
    {
     "data": {
      "text/plain": "  0%|          | 0/4499 [00:00<?, ?it/s]",
      "application/vnd.jupyter.widget-view+json": {
       "version_major": 2,
       "version_minor": 0,
       "model_id": "db2b96eaae2846349288fb5abbd6fecf"
      }
     },
     "metadata": {},
     "output_type": "display_data"
    },
    {
     "name": "stdout",
     "output_type": "stream",
     "text": [
      "loading data/washingtonpost.csv.jsonl\n"
     ]
    },
    {
     "data": {
      "text/plain": "  0%|          | 0/1416 [00:00<?, ?it/s]",
      "application/vnd.jupyter.widget-view+json": {
       "version_major": 2,
       "version_minor": 0,
       "model_id": "2ca946b5908f4f8c92f2df0d3b78e3a2"
      }
     },
     "metadata": {},
     "output_type": "display_data"
    }
   ],
   "source": [
    "import json\n",
    "from tqdm.notebook import tqdm\n",
    "from unidecode import unidecode\n",
    "\n",
    "\n",
    "def load_json(d):\n",
    "    try:\n",
    "        return json.loads(d, strict=False)\n",
    "    except Exception as e:\n",
    "        print(\"FEK\")\n",
    "        print(d)\n",
    "        print(unidecode(d))\n",
    "        return json.loads(unidecode(d), strict=False)\n",
    "\n",
    "\n",
    "def load_jsonl(path: str):\n",
    "    print(\"loading\", path)\n",
    "    with open(path) as f:\n",
    "        return [load_json(d) for d in tqdm(f.readlines())]\n",
    "\n",
    "\n",
    "datasets = [load_jsonl(p) for p in files]\n"
   ],
   "metadata": {
    "collapsed": false,
    "pycharm": {
     "name": "#%%\n"
    }
   }
  },
  {
   "cell_type": "code",
   "execution_count": 5,
   "outputs": [],
   "source": [
    "from bs4 import BeautifulSoup\n",
    "\n",
    "\n",
    "def fix_bbc(d):\n",
    "    soup = BeautifulSoup(d['html_article'])\n",
    "    texts = [t for t in soup.find_all(attrs={'data-component': 'text-block'}) if\n",
    "             t.text.lower() not in (\"read more from reality check\", \"send us your questions\")]\n",
    "    article = '\\n'.join(d.text for d in texts)\n",
    "    links = [a['href'] for t in texts for a in t.find_all(name='a')]\n",
    "    d['text_article'] = article\n",
    "    d['links_article'] = links\n",
    "    return d\n",
    "\n",
    "\n",
    "datasets[0] = [fix_bbc(d) for d in datasets[0]]"
   ],
   "metadata": {
    "collapsed": false,
    "pycharm": {
     "name": "#%%\n"
    }
   }
  },
  {
   "cell_type": "code",
   "execution_count": 6,
   "outputs": [],
   "source": [
    "def fix_factchck(d):\n",
    "    soup = BeautifulSoup(d['html_article'])\n",
    "    header = [t for t in soup.find_all(name='h3') if t.text]\n",
    "    texts = [t for t in soup.find_all(name='p') if t.text]\n",
    "    article = '\\n'.join(d.text for d in header + texts)\n",
    "    #links = [a['href'] for t in texts for a in t.find_all(name='a')]\n",
    "    d['text_article'] = article\n",
    "    #d['links_article'] = links\n",
    "    return d\n",
    "\n",
    "\n",
    "datasets[0] = [fix_factchck(d) for d in datasets[3]]"
   ],
   "metadata": {
    "collapsed": false,
    "pycharm": {
     "name": "#%%\n"
    }
   }
  },
  {
   "cell_type": "code",
   "execution_count": 7,
   "outputs": [],
   "source": [
    "import bs4\n",
    "from copy import deepcopy\n",
    "\n",
    "\n",
    "def fix_snopes(d):\n",
    "    new_d = deepcopy(d)\n",
    "    soup = BeautifulSoup(d['html_article'])\n",
    "    soup.extract('script')\n",
    "    texts = []\n",
    "    for t in soup.find_all(name='p'):\n",
    "        texts.append(t)\n",
    "\n",
    "    article = '\\n'.join(t.text.strip() for t in texts)\n",
    "    #links = [a['href'] for t in texts for a in t.find_all(name='a')]\n",
    "    new_d['text_article'] = article\n",
    "    return new_d\n",
    "\n",
    "\n",
    "# print(datasets[6][1336]['text_article'])\n",
    "# print(20*'----')\n",
    "datasets[6] = [fix_snopes(d) for d in datasets[6]]"
   ],
   "metadata": {
    "collapsed": false,
    "pycharm": {
     "name": "#%%\n"
    }
   }
  },
  {
   "cell_type": "code",
   "execution_count": 8,
   "outputs": [],
   "source": [
    "def fix_wp(d):\n",
    "    new_d = deepcopy(d)\n",
    "    soup = BeautifulSoup(d['html_article'])\n",
    "    texts = [t for t in soup.find_all(attrs={'data-qa': ['drop-cap-letter', 'article-header']}) if\n",
    "             t.text.lower() not in (\"read more from reality check\", \"send us your questions\")]\n",
    "    article = '\\n'.join(d.text for d in texts if not any(\n",
    "        d.text.lower().startswith(n) for n in (\"send us facts to check\", \"sign up for the fact checker\", \"the fact checker is\", \"(about our rating\")))\n",
    "    new_d['text_article'] = article\n",
    "    return new_d\n",
    "\n",
    "\n",
    "datasets[7] = [fix_wp(d) for d in datasets[7]]"
   ],
   "metadata": {
    "collapsed": false,
    "pycharm": {
     "name": "#%%\n"
    }
   }
  },
  {
   "cell_type": "code",
   "execution_count": 9,
   "outputs": [
    {
     "name": "stdout",
     "output_type": "stream",
     "text": [
      "<div class=\"article-body\"><div class=\"teaser-content\"><section><div class=\"\"><p class=\"font-copy font--article-body gray-darkest ma-0 pb-md\" data-el=\"text\" data-qa=\"drop-cap-letter\">As President Trump barnstorms the country, going from rally to rally to bolster votes for Republican candidates, his rhetoric has turned increasingly darker.</p></div><div class=\"\"><p class=\"font-copy font--article-body gray-darkest ma-0 pb-md\" data-el=\"text\" data-qa=\"drop-cap-letter\">We’ve documented before that <a href=\"https://www.washingtonpost.com/news/fact-checker/wp/2018/07/10/anatomy-of-a-trump-rally-76-percent-of-claims-are-false-misleading-or-lacking-evidence/?utm_term=.6ebad0bf0e9f&amp;itid=lk_inline_manual_3\" target=\"_blank\">at least 70 percent</a> of the <a href=\"https://www.washingtonpost.com/politics/2018/09/12/anatomy-trump-rally-percent-claims-are-false-misleading-or-lacking-evidence/?utm_term=.5c5dbab8c0f9&amp;itid=lk_inline_manual_3\" target=\"_blank\">factual claims</a> he makes at his rallies are false or misleading. Many of those claims — <a href=\"https://www.washingtonpost.com/news/fact-checker/wp/2017/11/01/president-trumps-tax-cut-not-the-biggest-in-u-s-history/?utm_term=.b75d51a9387d&amp;itid=lk_inline_manual_3\" target=\"_blank\">biggest tax cut ever passed</a>, the <a href=\"https://www.washingtonpost.com/news/fact-checker/wp/2018/04/05/president-trump-says-his-beautiful-wall-is-being-built-nope/?utm_term=.e80d465975a8&amp;itid=lk_inline_manual_3\" target=\"_blank\">border wall is being built</a> — still are “greatest hits” lines at his rallies. He continues to frequently portray himself as a super-action hero, slashing regulations, creating jobs, even saving money on embassy construction.</p></div></section></div><div class=\"remainder-content\"><section><div class=\"\"><div class=\"db dn-ns mr-neg-gutter ml-neg-gutter b bh bc-gray-lighter mb-md hide-for-print\" data-qa=\"subscribe-promo\"><a class=\"pt-sm pb-sm flex items-center bold font-xxxs font-xxs-ns justify-center\" href=\"https://subscribe.washingtonpost.com/acquisition/?promo=o24_ma&amp;p=s_v&amp;s_l=ONSITE_ARTICLE_MODULE&amp;e=PREVIEW-CHOOSE-PLAN?itid=lk_cta_ssinline\" rel=\"noreferrer noopener\" style=\"color:#166dfc;border:none\" target=\"_blank\"><svg aria-hidden=\"true\" class=\"content-box\" focusable=\"false\" height=\"24\" role=\"img\" viewbox=\"0 0 24 24\" width=\"24\" xmlns=\"http://www.w3.org/2000/svg\"><title>Wp</title><path d=\"M11.055 8.728l-1.018-1.019-.782.782v6.292l1.782 1.564.018-.019v-7.6zm-4.11.236L5.674 7.71l-.836.855v6.237l1.545 1.327.564-.636V8.964zm2.656 9.074l-2.528-2.182-1.927 2.182-2.619-2.255v-3.564h-.509c-.454 0-.672.273-.745.636H1.09a2.89 2.89 0 0 1-.091-.69c0-.473.2-1.71 1.527-1.71V7.691c0-1.073-.709-1.127-.709-2.054 0-1.037.982-2 2.782-2.637l.164.145c-.6.291-1.09.655-1.09 1.437 0 1.2 1.163.89 1.163 2.782v.727l2.127-2.236 2.237 2.2 2.109-2.2 2.036 2v6.728l-3.745 3.455zm11.108-9.625l-1.073-.982-.964 1.018v6.6c.855.11 1.491.4 2.019.964l.018-.018V8.413zm-2.382.418l-.528.545v10.237l.528.492V8.83zm1.49 9.055c-.308-.382-.69-.709-1.145-.836v3.782l-.036.018-1-.927-2.11 1.945-.036-.018V16.96c-.636.145-1.327.545-1.854 1.2l-.146-.091c.127-1.4.818-2.436 2-2.837v-3.545h-.382c-.527 0-.89.363-.963.763h-.219c-.054-.145-.127-.381-.127-.836 0-.891.6-1.564 1.582-1.564h.11V8.085l-.655-.582-.51.51-.254-.237 2.018-2.073 1.71 1.564V9.05l.527-.564v-2.09h.345v1.727l2.273-2.419L23 7.576v7.91l-3.182 2.4z\" fill-rule=\"evenodd\"></path></svg><span class=\"mr-xs ml-xs gray-darkest flex items-center\">Get the full experience.<span class=\"ml-xs subs-theme blue\">Choose your plan</span></span><svg aria-hidden=\"true\" class=\"content-box\" focusable=\"false\" height=\"16\" role=\"img\" style=\"fill:#166dfc\" viewbox=\"0 0 16 16\" width=\"16\" xmlns=\"http://www.w3.org/2000/svg\"><title>ArrowRight</title><path d=\"M7.664 1.25l6 6a1 1 0 010 1.414l-6 6L6.25 13.25 10.499 9H2V7h8.585L6.25 2.664 7.664 1.25z\" fill-rule=\"nonzero\"></path></svg></a></div></div><div class=\"\"><p class=\"font-copy font--article-body gray-darkest ma-0 pb-md\" data-el=\"text\" data-qa=\"drop-cap-letter\">But as the election — and Halloween — approaches, he has tossed in a witches’ brew of attacks on Democrats that are over-the-top even by his standards. The language changes from rally to rally, but the themes are the same. One can almost imagine him thinking, “I’ll toss in a little Venezuelan socialism here, a bit of MS-13 there” — as he mixes his latest batch of invective.</p></div><div class=\"\"><div class=\"cb dn db-ns\" data-qa=\"article-body-ad\"><div aria-hidden=\"true\" class=\"hide-for-print relative flex justify-center content-box items-center b bh mb-md mt-none pt-lg pb-lg\" style=\"min-height:250px;border-top-color:;border-bottom-color:\"><div class=\"center absolute w-100 border-box\" style=\"top:\"><div class=\"dib gray-dark pl-xs pr-xs font-sans-serif light font-xxxxs lh-md\" style=\"--primary-border-color:\"></div></div><div class=\"w-100 h-100 absolute flex flex-column justify-center border-box bg-offwhite\" data-testid=\"placeholder-box\" style=\"width:300px;height:250px\"><div class=\"flex flex-column justify-center font-sans-serif center font-xxs light gray-dark lh-md\"><div>Advertisement</div></div></div></div></div></div><div class=\"\"><div class=\"cb db dn-ns\" data-qa=\"article-body-ad\"><div aria-hidden=\"true\" class=\"hide-for-print relative flex justify-center content-box items-center b bh mb-md mt-sm pt-sm pb-sm\" style=\"min-height:600px;border-top-color:transparent;border-bottom-color:\"><div class=\"center absolute w-100 border-box\" style=\"top:-9px\"><div class=\"dib flex divider gray-dark pl-xs pr-xs font-sans-serif light font-xxxxs lh-md\" style=\"--primary-border-color:\">Story continues below advertisement</div></div><div class=\"w-100 h-100 absolute flex flex-column justify-center border-box bg-offwhite\" data-testid=\"placeholder-box\" style=\"height:600px\"><div class=\"flex flex-column justify-center font-sans-serif center font-xxs light gray-dark lh-md\"></div></div></div></div></div><div class=\"\"><p class=\"font-copy font--article-body gray-darkest ma-0 pb-md\" data-el=\"text\" data-qa=\"drop-cap-letter\">We’ve been busy getting our database of Trump’s claims ready for an update at the end of the month, but his rhetoric about the opposition party is simply astonishing. So we thought it would be helpful to provide a guide to some of the most outrageously false claims the president has made on the campaign trail this month, generally with no evidence offered.</p></div><div class=\"\"><h3 class=\" pb-sm pt-lgmod\" data-qa=\"article-header\" id=\"TNVLNKJTMJAY7AJ3SNFIX4V46Q\"><div>Democrats love undocumented immigrants</div></h3></div><div class=\"\"><p class=\"font-copy font--article-body gray-darkest ma-0 pb-md\" data-el=\"text\" data-qa=\"drop-cap-letter\"><i><b>“They [Democrats] want to give them cars, they want to give them driver’s licenses. I said last night, we did a great</b></i> —<i><b> we did a great, great rally in Arizona last night, and I said </b></i>—<i><b> I said last night, what kind of car will they supply them? Will it be a Rolls-Royce?” </b></i></p></div><div class=\"\"><div class=\"cb db dn-ns\" data-qa=\"article-body-ad\"><div aria-hidden=\"true\" class=\"hide-for-print relative flex justify-center content-box items-center b bh mb-md mt-sm pt-sm pb-sm\" style=\"min-height:250px;border-top-color:transparent;border-bottom-color:\"><div class=\"center absolute w-100 border-box\" style=\"top:-9px\"><div class=\"dib flex divider gray-dark pl-xs pr-xs font-sans-serif light font-xxxxs lh-md\" style=\"--primary-border-color:\">Story continues below advertisement</div></div><div class=\"w-100 h-100 absolute flex flex-column justify-center border-box bg-offwhite\" data-testid=\"placeholder-box\" style=\"height:250px\"><div class=\"flex flex-column justify-center font-sans-serif center font-xxs light gray-dark lh-md\"></div></div></div></div></div><div class=\"\"><p class=\"font-copy font--article-body gray-darkest ma-0 pb-md\" data-el=\"text\" data-qa=\"drop-cap-letter\">— <b>Oct. 20 rally, Elko. Nev.</b></p></div><div class=\"\"><p class=\"font-copy font--article-body gray-darkest ma-0 pb-md\" data-el=\"text\" data-qa=\"drop-cap-letter\">There are <a href=\"http://www.ncsl.org/research/immigration/states-offering-driver-s-licenses-to-immigrants.aspx\" target=\"_blank\">12 states</a> — including Nevada, where Trump was speaking and which has a Republican governor — that allow undocumented immigrants to receive driver’s licenses. (Another such state is Utah, which is solidly Republican; the rest, including California and Maryland, tend to be Democratic.)</p></div><div class=\"\"><div class=\"cb dn db-ns\" data-qa=\"article-body-ad\"><div aria-hidden=\"true\" class=\"hide-for-print relative flex justify-center content-box items-center b bh mb-md mt-none pt-lg pb-lg\" style=\"min-height:250px;border-top-color:;border-bottom-color:\"><div class=\"center absolute w-100 border-box\" style=\"top:\"><div class=\"dib gray-dark pl-xs pr-xs font-sans-serif light font-xxxxs lh-md\" style=\"--primary-border-color:\"></div></div><div class=\"w-100 h-100 absolute flex flex-column justify-center border-box bg-offwhite\" data-testid=\"placeholder-box\" style=\"width:300px;height:250px\"><div class=\"flex flex-column justify-center font-sans-serif center font-xxs light gray-dark lh-md\"><div>Advertisement</div></div></div></div></div></div><div class=\"\"><p class=\"font-copy font--article-body gray-darkest ma-0 pb-md\" data-el=\"text\" data-qa=\"drop-cap-letter\">But it’s simply a fantasy to claim that Democrats want to give illegal immigrants cars, let alone luxury ones. The day before, in Mesa, Ariz., Trump had speculated that Democrats might want to give illegal immigrants cars. A day later, he asserted it as an accepted fact. (Note: after this fact check appeared, Trump in a speech on Oct. 24 claimed he had only been joking.)</p></div><div class=\"\"><div class=\"cb db dn-ns\" data-qa=\"article-body-ad\"><div aria-hidden=\"true\" class=\"hide-for-print relative flex justify-center content-box items-center b bh mb-md mt-sm pt-sm pb-sm\" style=\"min-height:250px;border-top-color:transparent;border-bottom-color:\"><div class=\"center absolute w-100 border-box\" style=\"top:-9px\"><div class=\"dib flex divider gray-dark pl-xs pr-xs font-sans-serif light font-xxxxs lh-md\" style=\"--primary-border-color:\">Story continues below advertisement</div></div><div class=\"w-100 h-100 absolute flex flex-column justify-center border-box bg-offwhite\" data-testid=\"placeholder-box\" style=\"height:250px\"><div class=\"flex flex-column justify-center font-sans-serif center font-xxs light gray-dark lh-md\"></div></div></div></div></div><div class=\"\"><p class=\"font-copy font--article-body gray-darkest ma-0 pb-md\" data-el=\"text\" data-qa=\"drop-cap-letter\"><i><b>“Democrats want to give illegal immigrants the right to vote. I’ll tell you, we’ll go down fighting for that one. Can you imagine? People </b></i>—<i><b> you know, the vote was always so sacred.” </b></i></p></div><div class=\"\"><p class=\"font-copy font--article-body gray-darkest ma-0 pb-md\" data-el=\"text\" data-qa=\"drop-cap-letter\">— <b>Oct. 20 rally, Elko, Nev.</b></p></div><div class=\"\"><p class=\"font-copy font--article-body gray-darkest ma-0 pb-md\" data-el=\"text\" data-qa=\"drop-cap-letter\">Trump seemingly ignores the fact that it is illegal for undocumented immigrants to vote in federal elections. The <a href=\"http://uscode.house.gov/view.xhtml?req=(title:18%20section:611%20edition:prelim)%20OR%20(granuleid:USC-prelim-title18-section611)&amp;f=treesort&amp;edition=prelim&amp;num=0&amp;jumpTo=true\" target=\"_blank\">U.S. code</a> is pretty clear on that: “It shall be unlawful for any alien to vote in any election held solely or in part for the purpose of electing a candidate for the office of President, Vice President, Presidential elector, Member of the Senate, Member of the House of Representatives, Delegate from the District of Columbia, or Resident Commissioner.”</p></div><div class=\"\"><div class=\"cb dn db-ns\" data-qa=\"article-body-ad\"><div aria-hidden=\"true\" class=\"hide-for-print relative flex justify-center content-box items-center b bh mb-md mt-none pt-lg pb-lg\" style=\"min-height:250px;border-top-color:;border-bottom-color:\"><div class=\"center absolute w-100 border-box\" style=\"top:\"><div class=\"dib gray-dark pl-xs pr-xs font-sans-serif light font-xxxxs lh-md\" style=\"--primary-border-color:\"></div></div><div class=\"w-100 h-100 absolute flex flex-column justify-center border-box bg-offwhite\" data-testid=\"placeholder-box\" style=\"width:300px;height:250px\"><div class=\"flex flex-column justify-center font-sans-serif center font-xxs light gray-dark lh-md\"><div>Advertisement</div></div></div></div></div></div><div class=\"\"><div class=\"cb db dn-ns\" data-qa=\"article-body-ad\"><div aria-hidden=\"true\" class=\"hide-for-print relative flex justify-center content-box items-center b bh mb-md mt-sm pt-sm pb-sm\" style=\"min-height:250px;border-top-color:transparent;border-bottom-color:\"><div class=\"center absolute w-100 border-box\" style=\"top:-9px\"><div class=\"dib flex divider gray-dark pl-xs pr-xs font-sans-serif light font-xxxxs lh-md\" style=\"--primary-border-color:\">Story continues below advertisement</div></div><div class=\"w-100 h-100 absolute flex flex-column justify-center border-box bg-offwhite\" data-testid=\"placeholder-box\" style=\"height:250px\"><div class=\"flex flex-column justify-center font-sans-serif center font-xxs light gray-dark lh-md\"></div></div></div></div></div><div class=\"\"><p class=\"font-copy font--article-body gray-darkest ma-0 pb-md\" data-el=\"text\" data-qa=\"drop-cap-letter\">There is an exception in the law for nonfederal elections, and some municipalities (such as <a href=\"https://sfelections.sfgov.org/non-citizen-registration-and-voting\" target=\"_blank\">San Francisco</a> and <a href=\"https://www.washingtonpost.com/local/md-politics/college-park-decides-to-allow-noncitizens-to-vote-in-local-elections/2017/09/13/2b7adb4a-987b-11e7-87fc-c3f7ee4035c9_story.html?utm_term=.089b96d7c876&amp;itid=lk_inline_manual_22\" target=\"_blank\">College Park, Md.</a>) allow noncitizens to vote for school board or other local elective posts. But no Democratic Party leaders have called for the federal law to be overturned to allow noncitizen voting in federal elections, often the main focus of Trump’s rallies.</p></div><div class=\"\"><p class=\"font-copy font--article-body gray-darkest ma-0 pb-md\" data-el=\"text\" data-qa=\"drop-cap-letter\"><i><b>“They [Democrats] wanted that caravan, and there are those that say that caravan didn’t just happen. . . . A lot of money has been passing to people to come up and try and get to the border by Election Day, because they think that’s a negative for us.” </b></i></p></div><div class=\"\"><p class=\"font-copy font--article-body gray-darkest ma-0 pb-md\" data-el=\"text\" data-qa=\"drop-cap-letter\">— <b>Oct. 18 rally, Missoula, Mont.</b></p></div><div class=\"\"><div class=\"cb db dn-ns\" data-qa=\"article-body-ad\"><div aria-hidden=\"true\" class=\"hide-for-print relative flex justify-center content-box items-center b bh mb-md mt-sm pt-sm pb-sm\" style=\"min-height:250px;border-top-color:transparent;border-bottom-color:\"><div class=\"center absolute w-100 border-box\" style=\"top:-9px\"><div class=\"dib flex divider gray-dark pl-xs pr-xs font-sans-serif light font-xxxxs lh-md\" style=\"--primary-border-color:\">Story continues below advertisement</div></div><div class=\"w-100 h-100 absolute flex flex-column justify-center border-box bg-offwhite\" data-testid=\"placeholder-box\" style=\"height:250px\"><div class=\"flex flex-column justify-center font-sans-serif center font-xxs light gray-dark lh-md\"></div></div></div></div></div><div class=\"\"><p class=\"font-copy font--article-body gray-darkest ma-0 pb-md\" data-el=\"text\" data-qa=\"drop-cap-letter\">Trump has raised alarms about a group of thousands of refugees and migrants making their way from Central America into Mexico, darkly warning that “unknown Middle Easterners” were among them (no evidence) and that Democrats (such as the billionaire George Soros) were financing the effort. <a href=\"https://www.washingtonpost.com/politics/2018/10/19/grainy-video-guatemala-sparks-trump-conspiracy-theory/?utm_term=.799c5b892edb&amp;itid=lk_inline_manual_26\" target=\"_blank\">As we have previously documented</a>, there is no evidence that that is the case. Vice President Pence, interviewed at The Washington Post, cited the Honduran president in claiming that Venezuela was financing the migrants. There is no evidence that that is the case, either. The Daily Beast <a href=\"https://www.thedailybeast.com/forget-trump-hysteria-heres-how-the-migrant-caravan-crisis-really-began?ref=home\" target=\"_blank\">reported</a> that the caravan started because a pro-government news channel erroneously reported that a former politician would pay for food and transportation. Trump later acknowledged that he had “no proof” of Middle Easterners being among those migrants but said there “very well could be.”</p></div><div class=\"\"><h3 class=\" pb-sm pt-lgmod\" data-qa=\"article-header\" id=\"UROD4ZLNOZDJLCIHWZVMUQTWPQ\"><div>Democrats will hurt you</div></h3></div><div class=\"\"><p class=\"font-copy font--article-body gray-darkest ma-0 pb-md\" data-el=\"text\" data-qa=\"drop-cap-letter\"><i><b>“They want to turn America, these Democrats — and that’s what they want — into a giant sanctuary for criminal aliens and the MS-13 killers.” </b></i></p></div><div class=\"\"><div class=\"cb dn db-ns\" data-qa=\"article-body-ad\"><div aria-hidden=\"true\" class=\"hide-for-print relative flex justify-center content-box items-center b bh mb-md mt-none pt-lg pb-lg\" style=\"min-height:250px;border-top-color:;border-bottom-color:\"><div class=\"center absolute w-100 border-box\" style=\"top:\"><div class=\"dib gray-dark pl-xs pr-xs font-sans-serif light font-xxxxs lh-md\" style=\"--primary-border-color:\"></div></div><div class=\"w-100 h-100 absolute flex flex-column justify-center border-box bg-offwhite\" data-testid=\"placeholder-box\" style=\"width:300px;height:250px\"><div class=\"flex flex-column justify-center font-sans-serif center font-xxs light gray-dark lh-md\"><div>Advertisement</div></div></div></div></div></div><div class=\"\"><div class=\"cb db dn-ns\" data-qa=\"article-body-ad\"><div aria-hidden=\"true\" class=\"hide-for-print relative flex justify-center content-box items-center b bh mb-md mt-sm pt-sm pb-sm\" style=\"min-height:250px;border-top-color:transparent;border-bottom-color:\"><div class=\"center absolute w-100 border-box\" style=\"top:-9px\"><div class=\"dib flex divider gray-dark pl-xs pr-xs font-sans-serif light font-xxxxs lh-md\" style=\"--primary-border-color:\">Story continues below advertisement</div></div><div class=\"w-100 h-100 absolute flex flex-column justify-center border-box bg-offwhite\" data-testid=\"placeholder-box\" style=\"height:250px\"><div class=\"flex flex-column justify-center font-sans-serif center font-xxs light gray-dark lh-md\"></div></div></div></div></div><div class=\"\"><p class=\"font-copy font--article-body gray-darkest ma-0 pb-md\" data-el=\"text\" data-qa=\"drop-cap-letter\"><i><b>— </b></i><b>Oct. 9 rally, Council Bluffs, Iowa</b></p></div><div class=\"\"><p class=\"font-copy font--article-body gray-darkest ma-0 pb-md\" data-el=\"text\" data-qa=\"drop-cap-letter\"><i><b>“Democrats want to abolish America’s borders and allow drugs and gangs to pour into our country unabated.” </b></i></p></div><div class=\"\"><p class=\"font-copy font--article-body gray-darkest ma-0 pb-md\" data-el=\"text\" data-qa=\"drop-cap-letter\"><i><b>— </b></i><b>Oct. 10 rally, Erie, Pa.</b></p></div><div class=\"\"><p class=\"font-copy font--article-body gray-darkest ma-0 pb-md\" data-el=\"text\" data-qa=\"drop-cap-letter\"><i><b>“Democrats want to raise your taxes, impose socialism on our country, turn us into a Venezuela . . . turn us into another Venezuela, take away your health care, destroy your Second Amendment, and Democrats want to throw your borders wide open to deadly drugs and ruthless gangs. Come on in, everybody.” </b></i></p></div><div class=\"\"><p class=\"font-copy font--article-body gray-darkest ma-0 pb-md\" data-el=\"text\" data-qa=\"drop-cap-letter\"><i><b>— </b></i><b>Oct. 19 rally, Mesa, Ariz.</b></p></div><div class=\"\"><p class=\"font-copy font--article-body gray-darkest ma-0 pb-md\" data-el=\"text\" data-qa=\"drop-cap-letter\"><i><b>“And by the way, your 401(k)s? Boom, they will go down like a sinking something. What sinks rapidly? Give me — a rock. They will go down like a rock. Democrats want to massively raise your taxes, impose socialism on our country. We’ll be another Venezuela. They want to take away your health care, destroy your Second Amendment, and I think the people in Nevada are not big on having your Second Amendment taken away.” </b></i></p></div><div class=\"\"><div class=\"cb dn db-ns\" data-qa=\"article-body-ad\"><div aria-hidden=\"true\" class=\"hide-for-print relative flex justify-center content-box items-center b bh mb-md mt-none pt-lg pb-lg\" style=\"min-height:250px;border-top-color:;border-bottom-color:\"><div class=\"center absolute w-100 border-box\" style=\"top:\"><div class=\"dib gray-dark pl-xs pr-xs font-sans-serif light font-xxxxs lh-md\" style=\"--primary-border-color:\"></div></div><div class=\"w-100 h-100 absolute flex flex-column justify-center border-box bg-offwhite\" data-testid=\"placeholder-box\" style=\"width:300px;height:250px\"><div class=\"flex flex-column justify-center font-sans-serif center font-xxs light gray-dark lh-md\"><div>Advertisement</div></div></div></div></div></div><div class=\"\"><div class=\"cb db dn-ns\" data-qa=\"article-body-ad\"><div aria-hidden=\"true\" class=\"hide-for-print relative flex justify-center content-box items-center b bh mb-md mt-sm pt-sm pb-sm\" style=\"min-height:250px;border-top-color:transparent;border-bottom-color:\"><div class=\"center absolute w-100 border-box\" style=\"top:-9px\"><div class=\"dib flex divider gray-dark pl-xs pr-xs font-sans-serif light font-xxxxs lh-md\" style=\"--primary-border-color:\">Story continues below advertisement</div></div><div class=\"w-100 h-100 absolute flex flex-column justify-center border-box bg-offwhite\" data-testid=\"placeholder-box\" style=\"height:250px\"><div class=\"flex flex-column justify-center font-sans-serif center font-xxs light gray-dark lh-md\"></div></div></div></div></div><div class=\"\"><p class=\"font-copy font--article-body gray-darkest ma-0 pb-md\" data-el=\"text\" data-qa=\"drop-cap-letter\"><i><b>— </b></i><b>Oct. 20 rally, Elko, Nev.</b></p></div><div class=\"\"><p class=\"font-copy font--article-body gray-darkest ma-0 pb-md\" data-el=\"text\" data-qa=\"drop-cap-letter\">Presidents will often knock the opposition party <i>—</i> Harry Truman <a href=\"http://www.speeches-usa.com/Transcripts/harry_truman-nothing.html\" target=\"_blank\">famously attacked the “Do-nothing Congress”</a> and called Republicans “reactionaries” <i>—</i> but Trump goes after the Democrats with a machete.</p></div><div class=\"\"><p class=\"font-copy font--article-body gray-darkest ma-0 pb-md\" data-el=\"text\" data-qa=\"drop-cap-letter\">The president says Democrats will turn the entire country into a “sanctuary” for MS-13 gang members (no), that they want to abolish borders (no) and want no controls on illicit drugs and gangs (no). He frequently brings up Venezuela, an increasingly failed state after years of dictatorship and economic mismanagement, as an example of what Democrats would to do to the United States. He says Democrats want to take away health care, when they have been fighting to preserve the Affordable Care Act, which Trump wanted to repeal. Many Democrats do want to raise taxes on the wealthy <i>—</i> not middle-income Americans <i>—</i> and do favor relatively modest gun-control proposals (which probably have little chance of passage). Such subtleties are lost in Trump’s rallies.</p></div><div class=\"\"><h3 class=\" pb-sm pt-lgmod\" data-qa=\"article-header\" id=\"7J43JNASR5FDBAJQNCJQSX4EBI\"><div>Democrats hate America</div></h3></div><div class=\"\"><p class=\"font-copy font--article-body gray-darkest ma-0 pb-md\" data-el=\"text\" data-qa=\"drop-cap-letter\"><i><b>“[Democrats] don’t want to spend any money on the military. You know, the beautiful thing about military — number one, you need it.” </b></i></p></div><div class=\"\"><div class=\"cb dn db-ns\" data-qa=\"article-body-ad\"><div aria-hidden=\"true\" class=\"hide-for-print relative flex justify-center content-box items-center b bh mb-md mt-none pt-lg pb-lg\" style=\"min-height:250px;border-top-color:;border-bottom-color:\"><div class=\"center absolute w-100 border-box\" style=\"top:\"><div class=\"dib gray-dark pl-xs pr-xs font-sans-serif light font-xxxxs lh-md\" style=\"--primary-border-color:\"></div></div><div class=\"w-100 h-100 absolute flex flex-column justify-center border-box bg-offwhite\" data-testid=\"placeholder-box\" style=\"width:300px;height:250px\"><div class=\"flex flex-column justify-center font-sans-serif center font-xxs light gray-dark lh-md\"><div>Advertisement</div></div></div></div></div></div><div class=\"\"><div class=\"cb db dn-ns\" data-qa=\"article-body-ad\"><div aria-hidden=\"true\" class=\"hide-for-print relative flex justify-center content-box items-center b bh mb-md mt-sm pt-sm pb-sm\" style=\"min-height:250px;border-top-color:transparent;border-bottom-color:\"><div class=\"center absolute w-100 border-box\" style=\"top:-9px\"><div class=\"dib flex divider gray-dark pl-xs pr-xs font-sans-serif light font-xxxxs lh-md\" style=\"--primary-border-color:\">Story continues below advertisement</div></div><div class=\"w-100 h-100 absolute flex flex-column justify-center border-box bg-offwhite\" data-testid=\"placeholder-box\" style=\"height:250px\"><div class=\"flex flex-column justify-center font-sans-serif center font-xxs light gray-dark lh-md\"></div></div></div></div></div><div class=\"\"><p class=\"font-copy font--article-body gray-darkest ma-0 pb-md\" data-el=\"text\" data-qa=\"drop-cap-letter\"><i><b>—</b></i> <b>Oct. 1 rally, Johnson City, Tenn.</b></p></div><div class=\"\"><p class=\"font-copy font--article-body gray-darkest ma-0 pb-md\" data-el=\"text\" data-qa=\"drop-cap-letter\">Who knew Democrats wanted to completely defund the military? Most lawmakers are strong supporters of a robust defense, though some Democrats might prefer not to shortchange social spending because of higher military spending. The National Defense Authorization Act of 2019 was overwhelmingly supported by Democrats in the House (<a href=\"https://www.govtrack.us/congress/votes/115-2018/h230\" target=\"_blank\">131 to 59</a>) and the Senate (<a href=\"https://www.govtrack.us/congress/votes/115-2018/s128\" target=\"_blank\">38 to 7</a>), and the final conference report received even more Democratic votes in both chambers.</p></div><div class=\"\"><p class=\"font-copy font--article-body gray-darkest ma-0 pb-md\" data-el=\"text\" data-qa=\"drop-cap-letter\"><i><b>“As we speak, the Democrat Party is openly encouraging millions of illegal aliens to break our laws, violate our borders and overwhelm our nation. That’s what’s happening. The Democrats have launched an assault on the sovereignty of our country, the security of our nation, and the safety of every single American.” </b></i></p></div><div class=\"\"><div class=\"cb dn db-ns\" data-qa=\"article-body-ad\"><div aria-hidden=\"true\" class=\"hide-for-print relative flex justify-center content-box items-center b bh mb-md mt-none pt-lg pb-lg\" style=\"min-height:250px;border-top-color:;border-bottom-color:\"><div class=\"center absolute w-100 border-box\" style=\"top:\"><div class=\"dib gray-dark pl-xs pr-xs font-sans-serif light font-xxxxs lh-md\" style=\"--primary-border-color:\"></div></div><div class=\"w-100 h-100 absolute flex flex-column justify-center border-box bg-offwhite\" data-testid=\"placeholder-box\" style=\"width:300px;height:250px\"><div class=\"flex flex-column justify-center font-sans-serif center font-xxs light gray-dark lh-md\"><div>Advertisement</div></div></div></div></div></div><div class=\"\"><p class=\"font-copy font--article-body gray-darkest ma-0 pb-md\" data-el=\"text\" data-qa=\"drop-cap-letter\"><i><b>— </b></i><b>Oct. 22 rally, Houston</b></p></div><div class=\"\"><p class=\"font-copy font--article-body gray-darkest ma-0 pb-md\" data-el=\"text\" data-qa=\"drop-cap-letter\">Hmm, Democrats have encouraged illegal immigrants to “overwhelm our nation” and launched an assault on “the safety of every single American”? That kind of scorching rhetoric might not be easily forgotten after the election.</p></div><div class=\"\"><p class=\"font-copy font--article-body gray-darkest ma-0 pb-md\" data-el=\"text\" data-qa=\"drop-cap-letter\"><i><b>“I don’t think we like sanctuary cities up here. By the way, a lot of people in California don’t want them, either. They’re rioting now. They want to get out of their sanctuary cities. You know, there’s a big turn being made, folks. A lot of these sanctuary cities you’ve been hearing about in California and other places, but California, they want to get out, they’re demanding they be released from sanctuary cities.” </b></i></p></div><div class=\"\"><p class=\"font-copy font--article-body gray-darkest ma-0 pb-md\" data-el=\"text\" data-qa=\"drop-cap-letter\"><i><b>—</b></i> <b>Oct. 20 rally, Elko, Nev.</b></p></div><div class=\"\"><p class=\"font-copy font--article-body gray-darkest ma-0 pb-md\" data-el=\"text\" data-qa=\"drop-cap-letter\">There’s no <a href=\"https://www.washingtonpost.com/news/fact-checker/wp/2016/09/07/what-exactly-are-sanctuary-cities-in-immigration-policy/?postshare=4601485314681247&amp;utm_term=.ceaaad8bac3a&amp;itid=lk_inline_manual_54\" target=\"_blank\">official definition</a> for “sanctuary” in immigration policy or law. In general, it refers to rules restricting state and local governments from alerting federal authorities about people who may be in the country illegally. Major cities such as San Francisco, Chicago, New York, Baltimore and Boston are sanctuary cities. In any case, there are no riots over sanctuary cities, in California or anywhere else.</p></div><div class=\"\"><h3 class=\" pb-sm pt-lgmod\" data-qa=\"article-header\" id=\"EKEYLSC2TNCH3BPO4B7HF2CR5A\"><div>False bragging</div></h3></div><div class=\"\"><p class=\"font-copy font--article-body gray-darkest ma-0 pb-md\" data-el=\"text\" data-qa=\"drop-cap-letter\"><i><b>“I’ll soon sign into the law the largest legislative effort in history to address the opioid crisis where just this year we got $6 billion from Congress — thanks to [Sen.] Rob Portman [R-Ohio] and a lot of others — thank you, Rob</b></i><i> —</i><i><b> but Rob and so many others helped. Very little Democrat support.” </b></i></p></div><div class=\"\"><div class=\"cb dn db-ns\" data-qa=\"article-body-ad\"><div aria-hidden=\"true\" class=\"hide-for-print relative flex justify-center content-box items-center b bh mb-md mt-none pt-lg pb-lg\" style=\"min-height:250px;border-top-color:;border-bottom-color:\"><div class=\"center absolute w-100 border-box\" style=\"top:\"><div class=\"dib gray-dark pl-xs pr-xs font-sans-serif light font-xxxxs lh-md\" style=\"--primary-border-color:\"></div></div><div class=\"w-100 h-100 absolute flex flex-column justify-center border-box bg-offwhite\" data-testid=\"placeholder-box\" style=\"width:300px;height:250px\"><div class=\"flex flex-column justify-center font-sans-serif center font-xxs light gray-dark lh-md\"><div>Advertisement</div></div></div></div></div></div><div class=\"\"><p class=\"font-copy font--article-body gray-darkest ma-0 pb-md\" data-el=\"text\" data-qa=\"drop-cap-letter\"><i><b>—</b></i> <b>Oct. 12 rally, Lebanon, Ohio</b></p></div><div class=\"\"><p class=\"font-copy font--article-body gray-darkest ma-0 pb-md\" data-el=\"text\" data-qa=\"drop-cap-letter\">When the other party is the enemy, it must be hard to realize that it sometimes plays a constructive role. Trump told a rally that the opiate bill passed with “very little Democrat support.” In reality, the vote was <a href=\"http://time.com/5416380/opioid-bill-congress/\" target=\"_blank\">overwhelmingly bipartisan</a>: 98 to 1 (with one Republican voting against it) in the Senate and 393 to 8 in the House.</p></div><div class=\"\"><p class=\"font-copy font--article-body gray-darkest ma-0 pb-md\" data-el=\"text\" data-qa=\"drop-cap-letter\"><i><b>“We’re going to be putting in a 10 percent tax cut for middle-income families. It’s going to be put in next week, 10 percent tax cut. Kevin Brady is working on it. We’ve been working on it for a few months, a 10 percent brand-new — and that is in addition to the big tax cuts that you’ve already gotten. But this one is for middle income. This is — no business. Business is now good. They’re coming back. The jobs are coming back. The plants and factories are coming back like never before. They’re all coming back. This is for middle-income people, all middle-income people, a big tax, 10 percent. We’ll be putting it in next week.” </b></i></p></div><div class=\"\"><p class=\"font-copy font--article-body gray-darkest ma-0 pb-md\" data-el=\"text\" data-qa=\"drop-cap-letter\"><i><b>—</b></i> <b>Oct. 22 rally, Houston</b></p></div><div class=\"\"><p class=\"font-copy font--article-body gray-darkest ma-0 pb-md\" data-el=\"text\" data-qa=\"drop-cap-letter\"><a href=\"https://www.washingtonpost.com/politics/in-the-service-of-whim-officials-scramble-to-make-trumps-false-assertions-real/2018/10/23/0c271586-d6de-11e8-83a2-d1c3da28d6b6_story.html?itid=lk_inline_manual_62\" target=\"_blank\">Taking lawmakers and the White House by surprise</a>, Trump claimed that a bill to provide a 10 percent tax cut for “middle-income families” was drafted and ready for a vote “next week.” One problem: Congress is out of session. Another problem: The House and the Senate have not passed a budget resolution for the fiscal year that would accommodate a tax cut. Another problem: There was no such bill. Brady put out <a href=\"https://twitter.com/FoxReports/status/1054819311527837696\" target=\"_blank\">a statement</a> saying he would “continue” to work on such a bill “in the coming weeks.” Trump’s promise of a new tax cut for middle-income people was a tacit admission that the GOP tax bill had lost the messaging war.</p></div><div class=\"\"><p class=\"font-copy font--article-body gray-darkest ma-0 pb-md\" data-el=\"text\" data-qa=\"drop-cap-letter\"><i><b>“Republicans will always protect Americans with preexisting conditions. We protect you. Preexisting conditions. Right? The Democrat plan to destroy American health care includes free health care and education to illegal aliens paid for by you, thank you very much, the American taxpayer.” </b></i></p></div><div class=\"\"><p class=\"font-copy font--article-body gray-darkest ma-0 pb-md\" data-el=\"text\" data-qa=\"drop-cap-letter\"><i><b>—</b></i> <b>Oct. 22 rally, Houston</b></p></div><div class=\"\"><p class=\"font-copy font--article-body gray-darkest ma-0 pb-md\" data-el=\"text\" data-qa=\"drop-cap-letter\">In the midterms, Democrats have launched attack after attack on GOP lawmakers who had supported Trump’s ill-fated effort to repeal the Affordable Care Act. That’s because the House version contained language that the Congressional Budget Office said could lead to unraveling insurance markets and soaring health-care premiums for people with existing health conditions in states that took advantage of the bill’s waivers.</p></div><div class=\"\"><p class=\"font-copy font--article-body gray-darkest ma-0 pb-md\" data-el=\"text\" data-qa=\"drop-cap-letter\">Moreover, the Trump administration has sided with plaintiffs who had argued that <a href=\"https://www.washingtonpost.com/news/fact-checker/wp/2018/06/14/president-trumps-flip-flop-on-coverage-for-pre-existing-conditions/?utm_term=.0d7ab4b3e3a4&amp;itid=lk_inline_manual_66\" target=\"_blank\">the ACA’s provisions on preexisting conditions were now unconstitutional</a> because Congress, in the tax bill, eliminated the penalty for not buying insurance, known as the individual mandate. In effect, the president supports an effort to nullify the provisions that make it possible for millions of people to purchase affordable insurance. Yet he stands before audiences and claims exactly the opposite.</p></div><div class=\"\"><h3 class=\" pb-sm pt-lgmod\" data-qa=\"article-header\" id=\"ZORRR7IDSRHJFCDDARMZFGZZRU\"><div>The Pinocchio Test</div></h3></div><div class=\"\"><p class=\"font-copy font--article-body gray-darkest ma-0 pb-md\" data-el=\"text\" data-qa=\"drop-cap-letter\">Is there any doubt?</p></div><div class=\"\"><h3 class=\" pb-sm pt-lgmod\" data-qa=\"article-header\" id=\"Z6SESDEXWRGCVEI5YXZL73HM3Q\"><div>Four Pinocchios</div></h3></div><div class=\"\"><div data-qa=\"article-image\"><div style=\"min-height:358px\"></div></div></div><div class=\"\"><p class=\"font-copy font--article-body gray-darkest ma-0 pb-md\" data-el=\"text\" data-qa=\"drop-cap-letter\">(<a href=\"http://www.washingtonpost.com/blogs/fact-checker/about-the-fact-checker/?itid=lk_inline_manual_71\">About our rating scale</a>)</p></div><div class=\"\"><p class=\"font-copy font--article-body gray-darkest ma-0 pb-md\" data-el=\"text\" data-qa=\"drop-cap-letter\"><b>Send us facts to check by filling out </b><a href=\"https://washingtonpost.wufoo.com/forms/fact-check-this/\"><b>this form</b></a></p></div><div class=\"\"><p class=\"font-copy font--article-body gray-darkest ma-0 pb-md\" data-el=\"text\" data-qa=\"drop-cap-letter\"><b>Sign up for The Fact Checker </b><a href=\"http://wapo.st/1OGIZWF\"><b>weekly newsletter</b></a></p></div><div class=\"\"><p class=\"font-copy font--article-body gray-darkest ma-0 pb-md\" data-el=\"text\" data-qa=\"drop-cap-letter\"><b>The Fact Checker is a verified </b><a href=\"https://www.washingtonpost.com/news/fact-checker/about-the-fact-checker/#code?itid=lk_inline_manual_74\"><b>signatory to the International Fact-Checking Network code of principles</b></a></p></div><div class=\"\"><div data-qa=\"article-share-the-facts\"><div class=\"pb-md\"><div class=\"sharethefacts_microdata_embed\" data-sharethefacts-uuid=\"b9b11131-f2ed-4a62-8dbf-5ec5135a8835\" itemscope=\"\" itemtype=\"http://schema.org/ClaimReview\" style=\"width: 100%; height: 200px; padding: 10px 10px 30px 10px; margin-bottom: 50px; color: gray; font-style: italic; font-family: Helvetica, Arial, sans-serif\">\n",
      "<div style=\"font-size: 12px;\">Share the Facts</div>\n",
      "<div itemprop=\"datePublished\" style=\"display: none;\">2018-10-24 10:37:34 UTC</div>\n",
      "<div style=\"width: auto; margin: 20px 25px 20px 25px\">\n",
      "<div itemprop=\"author\" itemscope=\"\" itemtype=\"http://schema.org/Organization\" style=\"display: none;\">\n",
      "<div itemprop=\"name\">\n",
      "<a href=\"https://www.washingtonpost.com\" itemprop=\"url\">Washington Post</a>\n",
      "</div>\n",
      "<img alt=\"Washington Post\" itemprop=\"image\" src=\"https://s3.amazonaws.com/share-the-facts/logos/washington_post_logo.png\"/>\n",
      "</div>\n",
      "<div itemprop=\"reviewRating\" itemscope=\"\" itemtype=\"http://schema.org/Rating\" style=\"font-size: 14px; margin: 0px, 0px, 0px, 0px\">\n",
      "<div itemprop=\"ratingValue\" style=\"display: none;\">1</div>\n",
      "<div itemprop=\"worstRating\" style=\"display: none;\">1</div>\n",
      "<div itemprop=\"bestRating\" style=\"display: none;\">5</div>\n",
      "<img alt=\"Washington Post rating logo\" itemprop=\"image\" src=\"https://s3.amazonaws.com/share-the-facts/rating_images/washpo/washpo_pinnochios_4.png\" style=\"display: none;\"/>Washington Post Rating:\n",
      "      <div itemprop=\"alternateName\" style=\"font-weight: bold\">Four Pinocchios</div>\n",
      "</div>\n",
      "<div itemprop=\"claimReviewed\" style=\"margin: 20px 0px 10px 0px\">“We’re going to be putting in a 10 percent tax cut for middle-income\n",
      "      families. It’s going to be put in next week, 10 percent tax cut.\"</div>\n",
      "<div style=\"font-size: 12px; margin: 10px 10px 20px 150px\">\n",
      "<div itemprop=\"itemReviewed\" itemscope=\"\" itemtype=\"http://schema.org/CreativeWork\">\n",
      "<div itemprop=\"author\" itemscope=\"\" itemtype=\"http://schema.org/Person\">\n",
      "<div itemprop=\"name\">Donald Trump</div>\n",
      "<div itemprop=\"jobTitle\">President</div>\n",
      "<div itemprop=\"sameAs\" style=\"display: none;\">www.whitehouse.gov</div>\n",
      "</div>\n",
      "<img itemprop=\"image\" src=\"https://img.washingtonpost.com/rf/image_220x164/2010-2019/WashingtonPost/2016/03/30/Editorial-Opinion/Images/518238610-1267.jpg\" style=\"display:none;\"/>\n",
      "<div itemprop=\"name\" style=\"margin: 5px 0px 0px 14px\">at a campaign rally in Houston</div>\n",
      "<div style=\"margin: 0px 0px 0px 14px\">Saturday, October 20, 2018</div>\n",
      "<div itemprop=\"datePublished\" style=\"display: none;\">2018-10-20</div>\n",
      "</div>\n",
      "</div>\n",
      "<div style=\"font-size: 12px; margin: 5px 0px 0px 0px; width: 400px;\">\n",
      "<a href=\"https://www.washingtonpost.com/politics/2018/10/24/president-trumps-witchs-brew-over-the-top-attacks/?utm_term=.6f7db8bf5c6b\" itemprop=\"url\">Read More</a>\n",
      "<div style=\"float: right\">\n",
      "<a href=\"#\">info</a>\n",
      "</div>\n",
      "</div>\n",
      "</div>\n",
      "</div></div></div></div><div class=\"\"><div data-qa=\"article-share-the-facts\"><div class=\"pb-md\"><div class=\"sharethefacts_microdata_embed\" data-sharethefacts-uuid=\"1ff8a16b-f515-45b8-ad47-698c89bb02f7\" itemscope=\"\" itemtype=\"http://schema.org/ClaimReview\" style=\"width: 100%; height: 200px; padding: 10px 10px 30px 10px; margin-bottom: 50px; color: gray; font-style: italic; font-family: Helvetica, Arial, sans-serif\">\n",
      "<div style=\"font-size: 12px;\">Share the Facts</div>\n",
      "<div itemprop=\"datePublished\" style=\"display: none;\">2018-10-24 10:35:48 UTC</div>\n",
      "<div style=\"width: auto; margin: 20px 25px 20px 25px\">\n",
      "<div itemprop=\"author\" itemscope=\"\" itemtype=\"http://schema.org/Organization\" style=\"display: none;\">\n",
      "<div itemprop=\"name\">\n",
      "<a href=\"https://www.washingtonpost.com\" itemprop=\"url\">Washington Post</a>\n",
      "</div>\n",
      "<img alt=\"Washington Post\" itemprop=\"image\" src=\"https://s3.amazonaws.com/share-the-facts/logos/washington_post_logo.png\"/>\n",
      "</div>\n",
      "<div itemprop=\"reviewRating\" itemscope=\"\" itemtype=\"http://schema.org/Rating\" style=\"font-size: 14px; margin: 0px, 0px, 0px, 0px\">\n",
      "<div itemprop=\"ratingValue\" style=\"display: none;\">1</div>\n",
      "<div itemprop=\"worstRating\" style=\"display: none;\">1</div>\n",
      "<div itemprop=\"bestRating\" style=\"display: none;\">5</div>\n",
      "<img alt=\"Washington Post rating logo\" itemprop=\"image\" src=\"https://s3.amazonaws.com/share-the-facts/rating_images/washpo/washpo_pinnochios_4.png\" style=\"display: none;\"/>Washington Post Rating:\n",
      "      <div itemprop=\"alternateName\" style=\"font-weight: bold\">Four Pinocchios</div>\n",
      "</div>\n",
      "<div itemprop=\"claimReviewed\" style=\"margin: 20px 0px 10px 0px\">“I’ll soon sign into the law the largest legislative effort\n",
      "      in history to address the opioid crisis where just this year\n",
      "      we got $6 billion from Congress — thanks to [Sen.] Rob Portman\n",
      "      [R-Ohio] and a lot of others — thank you, Rob — but Rob and so\n",
      "      many others helped. Very little Democrat support.”</div>\n",
      "<div style=\"font-size: 12px; margin: 10px 10px 20px 150px\">\n",
      "<div itemprop=\"itemReviewed\" itemscope=\"\" itemtype=\"http://schema.org/CreativeWork\">\n",
      "<div itemprop=\"author\" itemscope=\"\" itemtype=\"http://schema.org/Person\">\n",
      "<div itemprop=\"name\">Donald Trump</div>\n",
      "<div itemprop=\"jobTitle\">President</div>\n",
      "<div itemprop=\"sameAs\" style=\"display: none;\">www.whitehouse.gov</div>\n",
      "</div>\n",
      "<img itemprop=\"image\" src=\"https://img.washingtonpost.com/rf/image_220x164/2010-2019/WashingtonPost/2016/03/30/Editorial-Opinion/Images/518238610-1267.jpg\" style=\"display:none;\"/>\n",
      "<div itemprop=\"name\" style=\"margin: 5px 0px 0px 14px\">at a campaign rally in Lebanon, Iowa</div>\n",
      "<div style=\"margin: 0px 0px 0px 14px\">Friday, October 12, 2018</div>\n",
      "<div itemprop=\"datePublished\" style=\"display: none;\">2018-10-12</div>\n",
      "</div>\n",
      "</div>\n",
      "<div style=\"font-size: 12px; margin: 5px 0px 0px 0px; width: 400px;\">\n",
      "<a href=\"https://www.washingtonpost.com/politics/2018/10/24/president-trumps-witchs-brew-over-the-top-attacks/?utm_term=.6f7db8bf5c6b\" itemprop=\"url\">Read More</a>\n",
      "<div style=\"float: right\">\n",
      "<a href=\"#\">info</a>\n",
      "</div>\n",
      "</div>\n",
      "</div>\n",
      "</div></div></div></div><div class=\"\"><div data-qa=\"article-share-the-facts\"><div class=\"pb-md\"><div class=\"sharethefacts_microdata_embed\" data-sharethefacts-uuid=\"68c44f1d-cad0-4750-97dd-5763a8ac442c\" itemscope=\"\" itemtype=\"http://schema.org/ClaimReview\" style=\"width: 100%; height: 200px; padding: 10px 10px 30px 10px; margin-bottom: 50px; color: gray; font-style: italic; font-family: Helvetica, Arial, sans-serif\">\n",
      "<div style=\"font-size: 12px;\">Share the Facts</div>\n",
      "<div itemprop=\"datePublished\" style=\"display: none;\">2018-10-24 10:33:45 UTC</div>\n",
      "<div style=\"width: auto; margin: 20px 25px 20px 25px\">\n",
      "<div itemprop=\"author\" itemscope=\"\" itemtype=\"http://schema.org/Organization\" style=\"display: none;\">\n",
      "<div itemprop=\"name\">\n",
      "<a href=\"https://www.washingtonpost.com\" itemprop=\"url\">Washington Post</a>\n",
      "</div>\n",
      "<img alt=\"Washington Post\" itemprop=\"image\" src=\"https://s3.amazonaws.com/share-the-facts/logos/washington_post_logo.png\"/>\n",
      "</div>\n",
      "<div itemprop=\"reviewRating\" itemscope=\"\" itemtype=\"http://schema.org/Rating\" style=\"font-size: 14px; margin: 0px, 0px, 0px, 0px\">\n",
      "<div itemprop=\"ratingValue\" style=\"display: none;\">1</div>\n",
      "<div itemprop=\"worstRating\" style=\"display: none;\">1</div>\n",
      "<div itemprop=\"bestRating\" style=\"display: none;\">5</div>\n",
      "<img alt=\"Washington Post rating logo\" itemprop=\"image\" src=\"https://s3.amazonaws.com/share-the-facts/rating_images/washpo/washpo_pinnochios_4.png\" style=\"display: none;\"/>Washington Post Rating:\n",
      "      <div itemprop=\"alternateName\" style=\"font-weight: bold\">Four Pinocchios</div>\n",
      "</div>\n",
      "<div itemprop=\"claimReviewed\" style=\"margin: 20px 0px 10px 0px\">“They want to turn America, these Democrats — and that’s what\n",
      "      they want — into a giant sanctuary for criminal aliens and the\n",
      "      MS-13 killers.”</div>\n",
      "<div style=\"font-size: 12px; margin: 10px 10px 20px 150px\">\n",
      "<div itemprop=\"itemReviewed\" itemscope=\"\" itemtype=\"http://schema.org/CreativeWork\">\n",
      "<div itemprop=\"author\" itemscope=\"\" itemtype=\"http://schema.org/Person\">\n",
      "<div itemprop=\"name\">Donald Trump</div>\n",
      "<div itemprop=\"jobTitle\">President</div>\n",
      "<div itemprop=\"sameAs\" style=\"display: none;\">www.whitehouse.gov</div>\n",
      "</div>\n",
      "<img itemprop=\"image\" src=\"https://img.washingtonpost.com/rf/image_220x164/2010-2019/WashingtonPost/2016/03/30/Editorial-Opinion/Images/518238610-1267.jpg\" style=\"display:none;\"/>\n",
      "<div itemprop=\"name\" style=\"margin: 5px 0px 0px 14px\">at a campaign rally in Council Bluffs, Iowa</div>\n",
      "<div style=\"margin: 0px 0px 0px 14px\">Tuesday, October 9, 2018</div>\n",
      "<div itemprop=\"datePublished\" style=\"display: none;\">2018-10-09</div>\n",
      "</div>\n",
      "</div>\n",
      "<div style=\"font-size: 12px; margin: 5px 0px 0px 0px; width: 400px;\">\n",
      "<a href=\"https://www.washingtonpost.com/politics/2018/10/24/president-trumps-witchs-brew-over-the-top-attacks/?utm_term=.6f7db8bf5c6b\" itemprop=\"url\">Read More</a>\n",
      "<div style=\"float: right\">\n",
      "<a href=\"#\">info</a>\n",
      "</div>\n",
      "</div>\n",
      "</div>\n",
      "</div></div></div></div><div class=\"\"><div data-qa=\"article-share-the-facts\"><div class=\"pb-md\"><div class=\"sharethefacts_microdata_embed\" data-sharethefacts-uuid=\"c3897dbb-5b13-48f6-aa2e-f14da58bfdee\" itemscope=\"\" itemtype=\"http://schema.org/ClaimReview\" style=\"width: 100%; height: 200px; padding: 10px 10px 30px 10px; margin-bottom: 50px; color: gray; font-style: italic; font-family: Helvetica, Arial, sans-serif\">\n",
      "<div style=\"font-size: 12px;\">Share the Facts</div>\n",
      "<div itemprop=\"datePublished\" style=\"display: none;\">2018-10-24 10:32:17 UTC</div>\n",
      "<div style=\"width: auto; margin: 20px 25px 20px 25px\">\n",
      "<div itemprop=\"author\" itemscope=\"\" itemtype=\"http://schema.org/Organization\" style=\"display: none;\">\n",
      "<div itemprop=\"name\">\n",
      "<a href=\"https://www.washingtonpost.com\" itemprop=\"url\">Washington Post</a>\n",
      "</div>\n",
      "<img alt=\"Washington Post\" itemprop=\"image\" src=\"https://s3.amazonaws.com/share-the-facts/logos/washington_post_logo.png\"/>\n",
      "</div>\n",
      "<div itemprop=\"reviewRating\" itemscope=\"\" itemtype=\"http://schema.org/Rating\" style=\"font-size: 14px; margin: 0px, 0px, 0px, 0px\">\n",
      "<div itemprop=\"ratingValue\" style=\"display: none;\">1</div>\n",
      "<div itemprop=\"worstRating\" style=\"display: none;\">1</div>\n",
      "<div itemprop=\"bestRating\" style=\"display: none;\">5</div>\n",
      "<img alt=\"Washington Post rating logo\" itemprop=\"image\" src=\"https://s3.amazonaws.com/share-the-facts/rating_images/washpo/washpo_pinnochios_4.png\" style=\"display: none;\"/>Washington Post Rating:\n",
      "      <div itemprop=\"alternateName\" style=\"font-weight: bold\">Four Pinocchios</div>\n",
      "</div>\n",
      "<div itemprop=\"claimReviewed\" style=\"margin: 20px 0px 10px 0px\">“They [Democrats] wanted that caravan, and there are those that\n",
      "      say that caravan didn’t just happen. . . . A lot of money has\n",
      "      been passing to people to come up and try and get to the border\n",
      "      by Election Day, because they think that’s a negative for us.”</div>\n",
      "<div style=\"font-size: 12px; margin: 10px 10px 20px 150px\">\n",
      "<div itemprop=\"itemReviewed\" itemscope=\"\" itemtype=\"http://schema.org/CreativeWork\">\n",
      "<div itemprop=\"author\" itemscope=\"\" itemtype=\"http://schema.org/Person\">\n",
      "<div itemprop=\"name\">Donald Trump</div>\n",
      "<div itemprop=\"jobTitle\">President</div>\n",
      "<div itemprop=\"sameAs\" style=\"display: none;\">www.whitehouse.gov</div>\n",
      "</div>\n",
      "<img itemprop=\"image\" src=\"https://img.washingtonpost.com/rf/image_220x164/2010-2019/WashingtonPost/2016/03/30/Editorial-Opinion/Images/518238610-1267.jpg\" style=\"display:none;\"/>\n",
      "<div itemprop=\"name\" style=\"margin: 5px 0px 0px 14px\">at a campaign rally in Missoula, Mont.</div>\n",
      "<div style=\"margin: 0px 0px 0px 14px\">Thursday, October 18, 2018</div>\n",
      "<div itemprop=\"datePublished\" style=\"display: none;\">2018-10-18</div>\n",
      "</div>\n",
      "</div>\n",
      "<div style=\"font-size: 12px; margin: 5px 0px 0px 0px; width: 400px;\">\n",
      "<a href=\"https://www.washingtonpost.com/politics/2018/10/24/president-trumps-witchs-brew-over-the-top-attacks/?utm_term=.6f7db8bf5c6b\" itemprop=\"url\">Read More</a>\n",
      "<div style=\"float: right\">\n",
      "<a href=\"#\">info</a>\n",
      "</div>\n",
      "</div>\n",
      "</div>\n",
      "</div></div></div></div><div class=\"\"><div data-qa=\"article-share-the-facts\"><div class=\"pb-md\"><div class=\"sharethefacts_microdata_embed\" data-sharethefacts-uuid=\"c2036306-fd0b-4bbe-b95a-9d1da616b90f\" itemscope=\"\" itemtype=\"http://schema.org/ClaimReview\" style=\"width: 100%; height: 200px; padding: 10px 10px 30px 10px; margin-bottom: 50px; color: gray; font-style: italic; font-family: Helvetica, Arial, sans-serif\">\n",
      "<div style=\"font-size: 12px;\">Share the Facts</div>\n",
      "<div itemprop=\"datePublished\" style=\"display: none;\">2018-10-24 10:30:53 UTC</div>\n",
      "<div style=\"width: auto; margin: 20px 25px 20px 25px\">\n",
      "<div itemprop=\"author\" itemscope=\"\" itemtype=\"http://schema.org/Organization\" style=\"display: none;\">\n",
      "<div itemprop=\"name\">\n",
      "<a href=\"https://www.washingtonpost.com\" itemprop=\"url\">Washington Post</a>\n",
      "</div>\n",
      "<img alt=\"Washington Post\" itemprop=\"image\" src=\"https://s3.amazonaws.com/share-the-facts/logos/washington_post_logo.png\"/>\n",
      "</div>\n",
      "<div itemprop=\"reviewRating\" itemscope=\"\" itemtype=\"http://schema.org/Rating\" style=\"font-size: 14px; margin: 0px, 0px, 0px, 0px\">\n",
      "<div itemprop=\"ratingValue\" style=\"display: none;\">1</div>\n",
      "<div itemprop=\"worstRating\" style=\"display: none;\">1</div>\n",
      "<div itemprop=\"bestRating\" style=\"display: none;\">5</div>\n",
      "<img alt=\"Washington Post rating logo\" itemprop=\"image\" src=\"https://s3.amazonaws.com/share-the-facts/rating_images/washpo/washpo_pinnochios_4.png\" style=\"display: none;\"/>Washington Post Rating:\n",
      "      <div itemprop=\"alternateName\" style=\"font-weight: bold\">Four Pinocchios</div>\n",
      "</div>\n",
      "<div itemprop=\"claimReviewed\" style=\"margin: 20px 0px 10px 0px\">“Democrats want to give illegal immigrants the right to vote.\n",
      "      I’ll tell you, we’ll go down fighting for that one. Can you imagine?\"</div>\n",
      "<div style=\"font-size: 12px; margin: 10px 10px 20px 150px\">\n",
      "<div itemprop=\"itemReviewed\" itemscope=\"\" itemtype=\"http://schema.org/CreativeWork\">\n",
      "<div itemprop=\"author\" itemscope=\"\" itemtype=\"http://schema.org/Person\">\n",
      "<div itemprop=\"name\">Donald Trump</div>\n",
      "<div itemprop=\"jobTitle\">President</div>\n",
      "<div itemprop=\"sameAs\" style=\"display: none;\">www.whitehouse.gov</div>\n",
      "</div>\n",
      "<img itemprop=\"image\" src=\"https://img.washingtonpost.com/rf/image_220x164/2010-2019/WashingtonPost/2016/03/30/Editorial-Opinion/Images/518238610-1267.jpg\" style=\"display:none;\"/>\n",
      "<div itemprop=\"name\" style=\"margin: 5px 0px 0px 14px\">at a campaign rally in Elko, Nev.</div>\n",
      "<div style=\"margin: 0px 0px 0px 14px\">Saturday, October 20, 2018</div>\n",
      "<div itemprop=\"datePublished\" style=\"display: none;\">2018-10-20</div>\n",
      "</div>\n",
      "</div>\n",
      "<div style=\"font-size: 12px; margin: 5px 0px 0px 0px; width: 400px;\">\n",
      "<a href=\"https://www.washingtonpost.com/politics/2018/10/24/president-trumps-witchs-brew-over-the-top-attacks/?utm_term=.6f7db8bf5c6b\" itemprop=\"url\">Read More</a>\n",
      "<div style=\"float: right\">\n",
      "<a href=\"#\">info</a>\n",
      "</div>\n",
      "</div>\n",
      "</div>\n",
      "</div></div></div></div><div class=\"\"><div data-qa=\"article-share-the-facts\"><div class=\"pb-md\"><div class=\"sharethefacts_microdata_embed\" data-sharethefacts-uuid=\"33090895-68bc-4355-a3b1-cf9a8a526440\" itemscope=\"\" itemtype=\"http://schema.org/ClaimReview\" style=\"width: 100%; height: 200px; padding: 10px 10px 30px 10px; margin-bottom: 50px; color: gray; font-style: italic; font-family: Helvetica, Arial, sans-serif\">\n",
      "<div style=\"font-size: 12px;\">Share the Facts</div>\n",
      "<div itemprop=\"datePublished\" style=\"display: none;\">2018-10-24 10:29:31 UTC</div>\n",
      "<div style=\"width: auto; margin: 20px 25px 20px 25px\">\n",
      "<div itemprop=\"author\" itemscope=\"\" itemtype=\"http://schema.org/Organization\" style=\"display: none;\">\n",
      "<div itemprop=\"name\">\n",
      "<a href=\"https://www.washingtonpost.com\" itemprop=\"url\">Washington Post</a>\n",
      "</div>\n",
      "<img alt=\"Washington Post\" itemprop=\"image\" src=\"https://s3.amazonaws.com/share-the-facts/logos/washington_post_logo.png\"/>\n",
      "</div>\n",
      "<div itemprop=\"reviewRating\" itemscope=\"\" itemtype=\"http://schema.org/Rating\" style=\"font-size: 14px; margin: 0px, 0px, 0px, 0px\">\n",
      "<div itemprop=\"ratingValue\" style=\"display: none;\">1</div>\n",
      "<div itemprop=\"worstRating\" style=\"display: none;\">1</div>\n",
      "<div itemprop=\"bestRating\" style=\"display: none;\">5</div>\n",
      "<img alt=\"Washington Post rating logo\" itemprop=\"image\" src=\"https://s3.amazonaws.com/share-the-facts/rating_images/washpo/washpo_pinnochios_4.png\" style=\"display: none;\"/>Washington Post Rating:\n",
      "      <div itemprop=\"alternateName\" style=\"font-weight: bold\">Four Pinocchios</div>\n",
      "</div>\n",
      "<div itemprop=\"claimReviewed\" style=\"margin: 20px 0px 10px 0px\">“They [Democrats] want to give them cars, they want to give\n",
      "      them driver’s licenses. I said last night, we did a great — we\n",
      "      did a great, great rally in Arizona last night, and I said —\n",
      "      I said last night, what kind of car will they supply them? Will\n",
      "      it be a Rolls-Royce?”</div>\n",
      "<div style=\"font-size: 12px; margin: 10px 10px 20px 150px\">\n",
      "<div itemprop=\"itemReviewed\" itemscope=\"\" itemtype=\"http://schema.org/CreativeWork\">\n",
      "<div itemprop=\"author\" itemscope=\"\" itemtype=\"http://schema.org/Person\">\n",
      "<div itemprop=\"name\">Donald Trump</div>\n",
      "<div itemprop=\"jobTitle\">President</div>\n",
      "<div itemprop=\"sameAs\" style=\"display: none;\">www.whitehouse.gov</div>\n",
      "</div>\n",
      "<img itemprop=\"image\" src=\"https://img.washingtonpost.com/rf/image_220x164/2010-2019/WashingtonPost/2016/03/30/Editorial-Opinion/Images/518238610-1267.jpg\" style=\"display:none;\"/>\n",
      "<div itemprop=\"name\" style=\"margin: 5px 0px 0px 14px\">at a campaign rally in Elko, Nev.</div>\n",
      "<div style=\"margin: 0px 0px 0px 14px\">Saturday, October 20, 2018</div>\n",
      "<div itemprop=\"datePublished\" style=\"display: none;\">2018-10-20</div>\n",
      "</div>\n",
      "</div>\n",
      "<div style=\"font-size: 12px; margin: 5px 0px 0px 0px; width: 400px;\">\n",
      "<a href=\"https://www.washingtonpost.com/politics/2018/10/24/president-trumps-witchs-brew-over-the-top-attacks/?utm_term=.6f7db8bf5c6b\" itemprop=\"url\">Read More</a>\n",
      "<div style=\"float: right\">\n",
      "<a href=\"#\">info</a>\n",
      "</div>\n",
      "</div>\n",
      "</div>\n",
      "</div></div></div></div></section></div></div>\n"
     ]
    }
   ],
   "source": [
    "print(datasets[7][1336]['html_article'])"
   ],
   "metadata": {
    "collapsed": false,
    "pycharm": {
     "name": "#%%\n"
    }
   }
  },
  {
   "cell_type": "code",
   "execution_count": 10,
   "outputs": [
    {
     "data": {
      "text/plain": "dict_keys(['id', 'text', 'claimant', 'claimDate', 'cR_p_name', 'cR_p_site', 'cR_url', 'cR_title', 'cR_reviewDate', 'cR_textualRating', 'lCode', 'links_article', 'text_article', 'html_article'])"
     },
     "execution_count": 10,
     "metadata": {},
     "output_type": "execute_result"
    }
   ],
   "source": [
    "datasets[0][0].keys()"
   ],
   "metadata": {
    "collapsed": false,
    "pycharm": {
     "name": "#%%\n"
    }
   }
  },
  {
   "cell_type": "code",
   "execution_count": 11,
   "outputs": [],
   "source": [
    "def replace_label(label):\n",
    "    for k, v in coarse_map.items():\n",
    "        if label in v:\n",
    "            return k\n",
    "    return 'UNKNOWN'\n",
    "\n",
    "\n",
    "def process_label(label):\n",
    "    label = str(label).lower().replace('_', ' ').replace('- ', '').replace('.', '').replace('this', '').replace('fasle', 'false')\n",
    "    label = label.replace('may be', '').replace('the', '').replace('claim', '').replace(' is ', ' ').replace('just', '').replace('flat', '').strip()\n",
    "    if len(label) < 40:\n",
    "        if any(label.startswith(n) for n in ['no', 'false']):\n",
    "            return 'false'\n",
    "        elif any(c in label for c in ['misleading', 'context']):\n",
    "            return 'misleading'\n",
    "    return label"
   ],
   "metadata": {
    "collapsed": false,
    "pycharm": {
     "name": "#%%\n"
    }
   }
  },
  {
   "cell_type": "code",
   "execution_count": 12,
   "outputs": [],
   "source": [
    "import matplotlib.pyplot as plt\n",
    "import pandas as pd\n",
    "\n",
    "\n",
    "def barh_from_counter(ctrs):\n",
    "    index = ['TRUE', 'ALMOST', 'HALF', 'HARDLY', 'FALSE', 'MISLEADING', 'SATIRE']\n",
    "    df = pd.DataFrame({k: [v.get(i, 0) for i in index] for k, v in ctrs.items()}, index)\n",
    "    df.plot.barh()\n",
    "    plt.show()\n"
   ],
   "metadata": {
    "collapsed": false,
    "pycharm": {
     "name": "#%%\n"
    }
   }
  },
  {
   "cell_type": "code",
   "execution_count": 13,
   "outputs": [
    {
     "name": "stdout",
     "output_type": "stream",
     "text": [
      "Dataset: data/climatefeedback.csv.jsonl\n",
      "4\n",
      "Dataset: data/factcheck.csv.jsonl\n",
      "7\n",
      "Dataset: data/nytimes.csv.jsonl\n",
      "7\n",
      "Dataset: data/politifact.csv.jsonl\n",
      "7\n",
      "Dataset: data/snopes.csv.jsonl\n",
      "8\n",
      "Dataset: data/washingtonpost.csv.jsonl\n",
      "7\n"
     ]
    },
    {
     "data": {
      "text/plain": "<Figure size 432x288 with 1 Axes>",
      "image/png": "[encoded data removed]"
     },
     "metadata": {
      "needs_background": "light"
     },
     "output_type": "display_data"
    }
   ],
   "source": [
    "from collections import Counter\n",
    "\n",
    "\n",
    "def label_distribution_ds(ds, name, cutoff=1):\n",
    "    labels = [replace_label(process_label(d['cR_textualRating'])) for d in ds]\n",
    "    full_ctr = Counter(labels)\n",
    "    ctr = {x: y for x, y in full_ctr.most_common() if y >= cutoff}\n",
    "    print('Dataset:', name)\n",
    "    print(len(ctr))\n",
    "    return ctr\n",
    "\n",
    "\n",
    "coarse_map = {\n",
    "    'TRUE': ['accurate', 'correct', 'true', 'legit'],\n",
    "    'FALSE': ['inaccurate', 'unsupported', 'flawed reasoning', 'incorrect', 'lacks context', 'false', 'wrong', 'scam', 'falso', 'fake',\n",
    "              'manipulated image', 'altered video', 'doctored image', 'hoax', 'faux', 'altered image', 'pants on fire', 'full flop',\n",
    "              'legend' 'four pinocchios'],\n",
    "    'MISLEADING': ['misleading', 'lacks context', 'missing context', 'misleading context', 'misattributed', 'out of context', 'exaggerated',\n",
    "                   'exaggeration', 'unsubstantiated', 'outdated'],\n",
    "    'ALMOST': ['imprecise', 'mostly correct', 'mostly accurate', 'correct but…', 'mostly true', 'lacks evidence', 'largely correct',\n",
    "               'largely accurate', 'close to accurate', 'one pinocchio'],\n",
    "    'HALF': ['mixture', 'mixed', 'half true', 'partly false', 'half-right, half-wrong', 'half flip', 'partially accurate', 'two pinocchios',\n",
    "             'half flop'],\n",
    "    'HARDLY': ['partly false', 'mostly false', 'three pinocchios'],\n",
    "    'SATIRE': ['satire', 'false satire', 'april fool', 'originated as satire', 'labelled satire']\n",
    "}\n",
    "ctrs = dict()\n",
    "for ds, f in zip(datasets, files):\n",
    "\n",
    "    if all(n not in f for n in ['fullfact', 'bbc']):\n",
    "        ctrs[f] = label_distribution_ds(ds, f)\n",
    "\n",
    "barh_from_counter(ctrs)\n",
    "\n"
   ],
   "metadata": {
    "collapsed": false,
    "pycharm": {
     "name": "#%%\n"
    }
   }
  },
  {
   "cell_type": "code",
   "execution_count": 14,
   "outputs": [],
   "source": [
    "def augment_labels(ds):\n",
    "    for d in ds:\n",
    "        d['label'] = replace_label(process_label(d['cR_textualRating']))\n",
    "\n",
    "\n",
    "for ds, f in zip(datasets, files):\n",
    "    if all(n not in f for n in ['fullfact', 'bbc']):\n",
    "        augment_labels(ds)\n"
   ],
   "metadata": {
    "collapsed": false,
    "pycharm": {
     "name": "#%%\n"
    }
   }
  },
  {
   "cell_type": "code",
   "execution_count": 15,
   "outputs": [
    {
     "name": "stdout",
     "output_type": "stream",
     "text": [
      "Dataset: data/bbc.csv.jsonl\n",
      " rating: The UN estimates that there were 8.8 million people in the UK in 2017 who were not born here, but that doesn’t mean the government has found homes for them.\n",
      " title: This viral image on immigration and homelessness has a fundamental flaw - Full Fact\n",
      "\n",
      " rating: This is far too high. There are various estimates for the prevalence of long Covid. The Office for National Statistics estimated that 7.5% of people infected with Covid-19 self-reported having long Covid three  months after infection which limited their  daily activities.\n",
      " title: Washington Post overstates prevalence of long Covid - Full Fact\n",
      "\n",
      " rating: Car accident victims who had their feet on the dashboard have suffered serious facial injuries.\n",
      " title: You are at risk of serious facial injuries if your feet are on the dashboard during a car crash - Full Fact\n",
      "\n",
      " rating: This is unlikely outside of some very particular circumstances.\n",
      " title: You almost certainly won’t get arrested for flying a British flag - Full Fact\n",
      "\n",
      " rating: It did not. CNN’s website has rolling news video at the top of some of its articles reflecting the current news, not the news at the time of that particular article’s publication.\n",
      " title: False claims about first vaccine recipients spread on social media - Full Fact\n",
      "\n",
      " rating: This is not true. The real number, in England, is around 52,000. It will be slightly higher for the whole UK and if antibody and surveillance tests are included.\n",
      " title: We do not test 330,000 people a day for Covid-19 - Full Fact\n",
      "\n",
      " rating: Not quite. Nando’s serves only halal chicken in 76 of its 434 UK branches. The ad shared in the post was from Nando’s in Singapore.\n",
      " title: Not every Nando’s UK restaurant is halal - Full Fact\n",
      "\n",
      " rating: This is not proved by this study. It finds children have a high viral load, but offers no evidence on transmission.\n",
      " title: Study doesn’t show that children are ‘silent super-spreaders’ of coronavirus - Full Fact\n",
      "\n",
      " rating: This figure compares wages for full-time employees between 2010 and 2020, not “today”. Other wage statistics show wages for all employees in July 2021 were worth about £1,480 more than in 2010 in real terms.\n",
      " title: Angela Rayner wrong on wage growth - Full Fact\n",
      "\n",
      " rating: Correct up to May.This was reported by the ECDC.\n",
      " title: It’s not true that 58% of Covid-19 deaths in Scotland were in care homes - Full Fact\n",
      "\n",
      "--------------------------------------------------------------------------------\n",
      "Dataset: data/climatefeedback.csv.jsonl\n",
      " rating: Incorrect\n",
      " title: In CNN interview, William Happer incorrectly claims temperatures don’t match climate model projections\n",
      "\n",
      " rating: Incorrect\n",
      " title: Non-peer-reviewed manuscript falsely claims natural cloud changes can explain global warming\n",
      "\n",
      " rating: Incorrect\n",
      " title: Claim that cosmic rays are a crucial player for current climate change is unsupported\n",
      "\n",
      " rating: Incorrect\n",
      " title: Fred Singer incorrectly claims sea level rise is not caused by climate change\n",
      "\n",
      " rating: Inaccurate\n",
      " title: Sea level rise is accelerating, and with it the risk associated with coastal storm surge, contrary to claim in Forbes\n",
      "\n",
      " rating: Unsupported\n",
      " title: Investor’s Business Daily editorial doesn’t support claims about UN statements\n",
      "\n",
      " rating: Inaccurate\n",
      " title: NOAA does not fraudulently adjust data to create the illusion of a global warming trend\n",
      "\n",
      " rating: Mostly_Correct\n",
      " title: The world’s coral reefs are severely threatened by climate change and other human impacts, as ABC story notes\n",
      "\n",
      " rating: Inaccurate\n",
      " title: Article falsely attributes invented quotes to James Hansen\n",
      "\n",
      " rating: Accurate\n",
      " title: Scientists observe most widespread bleaching event ever recorded at The Great Barrier Reef\n",
      "\n",
      "--------------------------------------------------------------------------------\n",
      "Dataset: data/factcheck.csv.jsonl\n",
      " rating: Misleading\n",
      " title: This video has circulated in reports about the aftermath of flooding near Jakarta in 2020\n",
      "\n",
      " rating: False\n",
      " title: No, this story originated from a satirical website\n",
      "\n",
      " rating: Fake\n",
      " title: No, the polio vaccine did not infect millions of Americans with cancer\n",
      "\n",
      " rating: False\n",
      " title: This video shows workmen uncovering a bat-infested roof in the US state of Florida in 2011\n",
      "\n",
      " rating: False\n",
      " title: Unlocked doors in Canada’s ‘polar bear capital’ are custom, but not law\n",
      "\n",
      " rating: False\n",
      " title: This video shows a Philippine senator celebrating her birthday in 2015, not at a prison party in 2020\n",
      "\n",
      " rating: False\n",
      " title: Facebook posts falsely claim Australian PM’s Covid-19 vaccination was 'faked'\n",
      "\n",
      " rating: FALSE\n",
      " title: No, this video is not 'breaking news' revealing electoral fraud by India’s ruling party\n",
      "\n",
      " rating: Misleading\n",
      " title: This MRI scan of a mother with her child has been altered\n",
      "\n",
      " rating: False\n",
      " title: The Malaysian Ministry of Defence says these photos show a dead woman’s body, not the bodies of two missing Malaysian soldiers\n",
      "\n",
      "--------------------------------------------------------------------------------\n",
      "Dataset: data/fullfact.csv.jsonl\n",
      " rating: The video is not of Ms Begum. The rest of the video shows that it’s a different and much younger person.\n",
      " title: This video does not show Shamima Begum beheading someone in Syria - Full Fact\n",
      "\n",
      " rating: Correct according to figures available since the 1970s.\n",
      " title: Unemployment is at a 10-year low - Full Fact\n",
      "\n",
      " rating: These estimated benefits are relative to 2018 when the UK (as part of the EU) had no FTA with Japan. It’s not relative to the existing EU-Japan trade deal which currently governs trade between the UK and Japan.\n",
      " title: £1.5bn GDP boost from UK-Japan trade deal is not on top of existing EU-Japan deal benefits - Full Fact\n",
      "\n",
      " rating: This is correct as of 11 May.\n",
      " title: It’s true that recent changes to lockdown rules are slightly different throughout the UK - Full Fact\n",
      "\n",
      " rating: While asset sales can reduce the reported deficit in the short run, they won't have a significant effect in the longer term: the government can only sell an asset once.\n",
      " title: Do asset sales save the government money? - Full Fact\n",
      "\n",
      " rating: It employed around 500 staff in March 2017 to work with taxpayers with assets over £10m, and another 500 staff to investigate the tax affairs of taxpayers with assets over £1 million, or an income over £150,000 a year. In 2016, they were estimated to account for around £2bn in lost tax revenue.\n",
      " title: Do benefit fraud investigators outnumber super-rich tax inspectors 8:1? - Full Fact\n",
      "\n",
      " rating: Incorrect. The US MMR vaccine package insert, under “adverse reactions”, says death from various and sometimes unknown causes has been reported after vaccination but a causal relationship hasn’t been found in healthy individuals. Death isn’t listed under adverse reactions on either MMR vaccine used in the UK.\n",
      " title: Measles is not the “number one side effect” of the MMR vaccine - Full Fact\n",
      "\n",
      " rating: Incorrect. McDonald’s has said it has no plans to reopen at this stage.\n",
      " title: UK branches of McDonald’s did not reopen on 27 April - Full Fact\n",
      "\n",
      " rating: Correct.\n",
      " title: England hasn’t ‘kept’ £450 billion of Scottish taxes since 2001 - Full Fact\n",
      "\n",
      " rating: Correct.\n",
      " title: Violence and drugs in prison - Full Fact\n",
      "\n",
      "--------------------------------------------------------------------------------\n",
      "Dataset: data/nytimes.csv.jsonl\n",
      " rating: Fact and omission.\n",
      " title: Fact-Checking Pompeo on Iran\n",
      "\n",
      " rating: False.\n",
      " title: Fact-Checking Biden on the Coronavirus and His Own Record (Published 2020)\n",
      "\n",
      " rating: False.\n",
      " title: After Acquittal, Trump Repeats Inaccurate Claims on Impeachment and Ukraine (Published 2020)\n",
      "\n",
      " rating: Baseless\n",
      " title: George Soros Smears Find New Life in Roseanne’s Twitter Tantrum (Published 2018)\n",
      "\n",
      " rating: False\n",
      " title: Fact Checking Mike Pence on the Coronavirus Pandemic\n",
      "\n",
      " rating: Not how it works.\n",
      " title: Fact Checks of the 2016 Election\n",
      "\n",
      " rating: False.\n",
      " title: Fact Check: Trump's Claims on the Economy\n",
      "\n",
      " rating: This is misleading.\n",
      " title: Fact Checking President Trump on Coronavirus Pandemic\n",
      "\n",
      " rating: An exaggeration.\n",
      " title: Fact Checks of the 2016 Election\n",
      "\n",
      " rating: Wrong timing.\n",
      " title: Fact Checks of the 2016 Election\n",
      "\n",
      "--------------------------------------------------------------------------------\n",
      "Dataset: data/politifact.csv.jsonl\n",
      " rating: False\n",
      " title: No, the military doesn't have COVID-19 quarantine team Humvees in Michigan\n",
      "\n",
      " rating: True\n",
      " title: Yes, the average American family pays more in hospital expenditures than federal taxes\n",
      "\n",
      " rating: Half True\n",
      " title: Donald Trump's talk of a historic Senate gain depends on races that remain undecided\n",
      "\n",
      " rating: False\n",
      " title: Claim that vaccine campaign boosted COVID-19 deaths errs in several ways\n",
      "\n",
      " rating: False\n",
      " title: 'Leaked documents' don't prove US hospitals preparing for 96 million coronavirus cases\n",
      "\n",
      " rating: False\n",
      " title: Posts saying Trump's July 4 event drew small crowd are wrong\n",
      "\n",
      " rating: Pants on Fire\n",
      " title: No, study did not find that 80 percent of black men in Atlanta are gay\n",
      "\n",
      " rating: False\n",
      " title: Jeanine Pirro's new book falsely declares the Russia investigation over\n",
      "\n",
      " rating: Half True\n",
      " title: After Parkland, Paul Ryan cites law on mentally ill and guns, but it has limited reach\n",
      "\n",
      " rating: False\n",
      " title: Jen Psaki incorrect in saying no economist thinks Biden bill will boost inflation\n",
      "\n",
      "--------------------------------------------------------------------------------\n",
      "Dataset: data/snopes.csv.jsonl\n",
      " rating: Miscaptioned\n",
      " title: Did Emily Murphy Attend a Trump Rally in a 'F*ck Your Feelings' Shirt?\n",
      "\n",
      " rating: Mixture\n",
      " title: Did Trump Say Governors Had To Treat Him Well To Get COVID-19 Supplies?\n",
      "\n",
      " rating: Mixture\n",
      " title: Did BYU Repeatedly Wash Away Pro-LGBT+ Chalk Art on Campus?\n",
      "\n",
      " rating: Miscaptioned\n",
      " title: Is This Photo of a Baby Albino Bat Real?\n",
      "\n",
      " rating: False\n",
      " title: Did Biden Fart During a Town Hall?\n",
      "\n",
      " rating: Miscaptioned\n",
      " title: Is the 'California is a Shithole' Starterpack Accurate?\n",
      "\n",
      " rating: True\n",
      " title: Does Disneyland Sell a Pickle Corn Dog with Panko Crust?\n",
      "\n",
      " rating: Miscaptioned\n",
      " title: Pic of Gas Generator Charging Tesla Wasn't Shot in U.S.\n",
      "\n",
      " rating: False\n",
      " title: Is Ruby Tuesday Closing Permanently?\n",
      "\n",
      " rating: True\n",
      " title: Was Pence Rushed Out of Capitol During Electoral College Count?\n",
      "\n",
      "--------------------------------------------------------------------------------\n",
      "Dataset: data/washingtonpost.csv.jsonl\n",
      " rating: Two Pinocchios\n",
      " title: Analysis | Did Colorado have the ‘number one economy’ in the past three years?\n",
      "\n",
      " rating: Flip Flop\n",
      " title: Analysis | President Trump’s bushel of false claims in his Fox Business interview\n",
      "\n",
      " rating: Four Pinocchios\n",
      " title: Analysis | Trump’s bogus effort to blame Obama for sluggish coronavirus testing\n",
      "\n",
      " rating: Not the whole story\n",
      " title: Analysis | Kamala Harris’s claim that Medicare-for-all ‘doesn’t get rid of all insurance’\n",
      "\n",
      " rating: False\n",
      " title: Fact-checking Alexandria Ocasio-Cortez's media blitz\n",
      "\n",
      " rating: Four Pinocchios\n",
      " title: Analysis | How false hope spread about hydroxychloroquine to treat covid-19 — and the consequences that followed\n",
      "\n",
      " rating: Two Pinocchios\n",
      " title: Analysis | Sen. Lindsey Graham’s claim that 1996 welfare overhaul ‘worked like a charm’\n",
      "\n",
      " rating: Three Pinocchios\n",
      " title: Analysis | Trump’s repeated claim that China is paying ‘billions’ in tariffs to the Treasury\n",
      "\n",
      " rating: Four Pinocchios\n",
      " title: Analysis | President Trump’s claim that he ‘turned West Virginia around’ by cutting regulations on mining\n",
      "\n",
      " rating: Spins the facts\n",
      " title: Analysis | Fact-checking Democrats’ rhetoric on the GOP health-care bill\n",
      "\n",
      "--------------------------------------------------------------------------------\n"
     ]
    }
   ],
   "source": [
    "import random\n",
    "\n",
    "\n",
    "def does_output_make_sense(ds, name, k=5):\n",
    "    print('Dataset:', name)\n",
    "    for d in random.sample(ds, k):\n",
    "        print(' rating:', d['cR_textualRating'])\n",
    "        print(' title:', d['cR_title'])\n",
    "        print()\n",
    "    print('----' * 20)\n",
    "\n",
    "\n",
    "for ds, f in zip(datasets, files):\n",
    "    does_output_make_sense(ds, f, 10)\n"
   ],
   "metadata": {
    "collapsed": false,
    "pycharm": {
     "name": "#%%\n"
    }
   }
  },
  {
   "cell_type": "code",
   "execution_count": 16,
   "outputs": [],
   "source": [
    "def augment_explanation(ds, concat=False):\n",
    "    for d in ds:\n",
    "        if concat:\n",
    "            explanation = '. '.join((str(d['cR_textualRating']), d['cR_title']))\n",
    "        else:\n",
    "            explanation = str(d['cR_textualRating'])\n",
    "        d['explanation'] = explanation\n",
    "\n",
    "\n",
    "for ds, f in zip(datasets, files):\n",
    "    augment_explanation(ds, concat=any(n in f for n in ['climatefeedback', 'factcheck']))\n"
   ],
   "metadata": {
    "collapsed": false,
    "pycharm": {
     "name": "#%%\n"
    }
   }
  },
  {
   "cell_type": "code",
   "execution_count": 17,
   "outputs": [
    {
     "name": "stdout",
     "output_type": "stream",
     "text": [
      "data/augmented-bbc.csv.jsonl\n",
      "data/augmented-climatefeedback.csv.jsonl\n",
      "data/augmented-factcheck.csv.jsonl\n",
      "data/augmented-fullfact.csv.jsonl\n",
      "data/augmented-nytimes.csv.jsonl\n",
      "data/augmented-politifact.csv.jsonl\n",
      "data/augmented-snopes.csv.jsonl\n",
      "data/augmented-washingtonpost.csv.jsonl\n"
     ]
    }
   ],
   "source": [
    "from handystuff.loaders import write_jsonl\n",
    "\n",
    "\n",
    "def write_out_ds(ds, f):\n",
    "    f = f.replace('data/', 'data/augmented-')\n",
    "    print(f)\n",
    "    write_jsonl(ds, f)\n",
    "\n",
    "\n",
    "for ds, f in zip(datasets, files):\n",
    "    write_out_ds(ds, f)\n"
   ],
   "metadata": {
    "collapsed": false,
    "pycharm": {
     "name": "#%%\n"
    }
   }
  },
  {
   "cell_type": "code",
   "execution_count": 20,
   "outputs": [],
   "source": [
    "#@formatter:off\n",
    "!cd data/ && for i in augmented-bbc.csv.jsonl augmented-climatefeedback.csv.jsonl augmented-factcheck.csv.jsonl augmented-fullfact.csv.jsonl augmented-nytimes.csv.jsonl augmented-politifact.csv.jsonl augmented-snopes.csv.jsonl augmented-washingtonpost.csv.jsonl; do cat $i | mlr --ijsonl --ojsonl cut -f text,text_article,label,explanation > processed-$i; done\n",
    "#@formatter:on"
   ],
   "metadata": {
    "collapsed": false,
    "pycharm": {
     "name": "#%%\n"
    }
   }
  },
  {
   "cell_type": "code",
   "execution_count": 18,
   "outputs": [],
   "source": [],
   "metadata": {
    "collapsed": false,
    "pycharm": {
     "name": "#%%\n"
    }
   }
  }
 ],
 "metadata": {
  "kernelspec": {
   "display_name": "Python 3",
   "language": "python",
   "name": "python3"
  },
  "language_info": {
   "codemirror_mode": {
    "name": "ipython",
    "version": 2
   },
   "file_extension": ".py",
   "mimetype": "text/x-python",
   "name": "python",
   "nbconvert_exporter": "python",
   "pygments_lexer": "ipython2",
   "version": "2.7.6"
  }
 },
 "nbformat": 4,
 "nbformat_minor": 0
}