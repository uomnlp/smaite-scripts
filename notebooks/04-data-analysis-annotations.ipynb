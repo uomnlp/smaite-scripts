{
 "cells": [
  {
   "cell_type": "code",
   "execution_count": 1,
   "metadata": {
    "collapsed": true,
    "pycharm": {
     "name": "#%%\n"
    }
   },
   "outputs": [
    {
     "name": "stdout",
     "output_type": "stream",
     "text": [
      "/home/viktor/workspace/smaite-scripts\n"
     ]
    }
   ],
   "source": [
    "# @formatter:off\n",
    "import random\n",
    "\n",
    "import numpy as np\n",
    "%load_ext autoreload\n",
    "%autoreload 2\n",
    "# @formatter:on\n",
    "import os\n",
    "\n",
    "os.chdir('../')\n",
    "print(os.getcwd())"
   ]
  },
  {
   "cell_type": "code",
   "execution_count": 2,
   "metadata": {
    "collapsed": false,
    "pycharm": {
     "name": "#%%\n"
    }
   },
   "outputs": [
    {
     "name": "stdout",
     "output_type": "stream",
     "text": [
      "['data/processed/len1001-1500-batch1.jsonl', 'data/processed/len1001-1500-batch2.jsonl', 'data/processed/len1001-1500-batch3.jsonl', 'data/processed/len1501-2000-batch1.jsonl', 'data/processed/len1501-2000-batch2.jsonl', 'data/processed/len1501-2000-batch3.jsonl', 'data/processed/len1501-2000-batch4.jsonl']\n"
     ]
    }
   ],
   "source": [
    "## adjust this accordingly\n",
    "#@formatter:off\n",
    "files = !ls data/processed/*.jsonl\n",
    "#@formatter:on\n",
    "print(files)"
   ]
  },
  {
   "cell_type": "code",
   "execution_count": 3,
   "metadata": {},
   "outputs": [],
   "source": [
    "from handystuff.loaders import load_jsonl\n",
    "data = []\n",
    "for f in files:\n",
    "    data.extend(load_jsonl(f))"
   ]
  },
  {
   "cell_type": "code",
   "execution_count": 4,
   "metadata": {},
   "outputs": [
    {
     "data": {
      "text/plain": [
       "2621"
      ]
     },
     "execution_count": 4,
     "metadata": {},
     "output_type": "execute_result"
    }
   ],
   "source": [
    "len(data)"
   ]
  },
  {
   "cell_type": "code",
   "execution_count": 5,
   "metadata": {},
   "outputs": [],
   "source": [
    "chatgpt_answers = load_jsonl('chatgpt0-2621.jsonl')"
   ]
  },
  {
   "cell_type": "code",
   "execution_count": 6,
   "metadata": {},
   "outputs": [],
   "source": [
    "assert len(data) == len(chatgpt_answers)"
   ]
  },
  {
   "cell_type": "code",
   "execution_count": 7,
   "metadata": {},
   "outputs": [],
   "source": [
    "binary = ['contra-article_1', 'contra-self_1', 'convince_1', 'new_1', 'verdict_1', 'simplified_verdict_1']\n",
    "ordinal = ['rate_1']"
   ]
  },
  {
   "cell_type": "code",
   "execution_count": 8,
   "metadata": {},
   "outputs": [],
   "source": [
    "ordinal_scale_mapping = {\n",
    "    'false': 'false',\n",
    "    'true': 'true',\n",
    "    'satire': 'false',\n",
    "    'unk': 'half',\n",
    "    'half': 'half',\n",
    "    'hardly': 'half',\n",
    "    'almost': 'half',\n",
    "    'false': 'false',\n",
    "    -1: -1,\n",
    "    False: 'false',\n",
    "    True: 'true',\n",
    "    'inbetween': 'half',\n",
    "}"
   ]
  },
  {
   "cell_type": "code",
   "execution_count": 9,
   "metadata": {},
   "outputs": [],
   "source": [
    "simplified_ordinal_scale_mapping = {\n",
    "    'false': 'false',\n",
    "    'true': 'true',\n",
    "    'satire': 'false',\n",
    "    'unk': 'inbetween',\n",
    "    'half': 'inbetween',\n",
    "    'hardly': 'inbetween',\n",
    "    'almost': 'inbetween',\n",
    "    -1: -1,\n",
    "    False: 'false',\n",
    "    True: 'true',\n",
    "    'inbetween': 'inbetween',\n",
    "}"
   ]
  },
  {
   "cell_type": "code",
   "execution_count": 10,
   "metadata": {},
   "outputs": [
    {
     "name": "stdout",
     "output_type": "stream",
     "text": [
      "{'almost', 'half', 'true', 'satire', 'unk', 'false', -1, 'hardly'}\n"
     ]
    }
   ],
   "source": [
    "print(set(a['verdict_1'] for d in data for a in d['answers']))"
   ]
  },
  {
   "cell_type": "code",
   "execution_count": 11,
   "metadata": {},
   "outputs": [],
   "source": [
    "from typing import Any, List\n",
    "\n",
    "\n",
    "def how_many_equal(values: List[Any]):\n",
    "    max_agreements = max(sum(k == values[i] for j, k in enumerate(values) if i != j) + 1 for i in range(len(values)))\n",
    "    return max_agreements if max_agreements > 1 else 0"
   ]
  },
  {
   "cell_type": "code",
   "execution_count": 12,
   "metadata": {},
   "outputs": [
    {
     "name": "stdout",
     "output_type": "stream",
     "text": [
      "ChatGPT mee mee mee content policy bleurgh\n",
      "ChatGPT mee mee mee content policy bleurgh\n",
      "ChatGPT mee mee mee content policy bleurgh\n",
      "ChatGPT mee mee mee content policy bleurgh\n",
      "ChatGPT mee mee mee content policy bleurgh\n",
      "ChatGPT mee mee mee content policy bleurgh\n",
      "ChatGPT mee mee mee content policy bleurgh\n",
      "ChatGPT mee mee mee content policy bleurgh\n",
      "ChatGPT mee mee mee content policy bleurgh\n",
      "ChatGPT mee mee mee content policy bleurgh\n",
      "ChatGPT mee mee mee content policy bleurgh\n",
      "ChatGPT mee mee mee content policy bleurgh\n",
      "ChatGPT mee mee mee content policy bleurgh\n",
      "ChatGPT mee mee mee content policy bleurgh\n",
      "ChatGPT mee mee mee content policy bleurgh\n",
      "ChatGPT mee mee mee content policy bleurgh\n",
      "ChatGPT mee mee mee content policy bleurgh\n",
      "ChatGPT mee mee mee content policy bleurgh\n",
      "ChatGPT mee mee mee content policy bleurgh\n",
      "ChatGPT mee mee mee content policy bleurgh\n",
      "ChatGPT mee mee mee content policy bleurgh\n",
      "ChatGPT mee mee mee content policy bleurgh\n",
      "ChatGPT mee mee mee content policy bleurgh\n",
      "ChatGPT mee mee mee content policy bleurgh\n",
      "ChatGPT mee mee mee content policy bleurgh\n",
      "ChatGPT mee mee mee content policy bleurgh\n",
      "ChatGPT mee mee mee content policy bleurgh\n",
      "ChatGPT mee mee mee content policy bleurgh\n",
      "ChatGPT mee mee mee content policy bleurgh\n",
      "ChatGPT mee mee mee content policy bleurgh\n",
      "ChatGPT mee mee mee content policy bleurgh\n",
      "ChatGPT mee mee mee content policy bleurgh\n",
      "ChatGPT mee mee mee content policy bleurgh\n",
      "ChatGPT mee mee mee content policy bleurgh\n",
      "ChatGPT mee mee mee content policy bleurgh\n",
      "ChatGPT mee mee mee content policy bleurgh\n",
      "ChatGPT mee mee mee content policy bleurgh\n",
      "ChatGPT mee mee mee content policy bleurgh\n",
      "ChatGPT mee mee mee content policy bleurgh\n",
      "ChatGPT mee mee mee content policy bleurgh\n",
      "ChatGPT mee mee mee content policy bleurgh\n",
      "ChatGPT mee mee mee content policy bleurgh\n",
      "ChatGPT mee mee mee content policy bleurgh\n",
      "ChatGPT mee mee mee content policy bleurgh\n",
      "ChatGPT mee mee mee content policy bleurgh\n",
      "ChatGPT mee mee mee content policy bleurgh\n",
      "ChatGPT mee mee mee content policy bleurgh\n",
      "ChatGPT mee mee mee content policy bleurgh\n",
      "ChatGPT mee mee mee content policy bleurgh\n",
      "ChatGPT mee mee mee content policy bleurgh\n",
      "\n",
      "\n",
      "\n",
      "\n",
      "\n",
      "\n",
      "\n",
      "ChatGPT mee mee mee content policy bleurgh\n",
      "ChatGPT mee mee mee content policy bleurgh\n",
      "ChatGPT mee mee mee content policy bleurgh\n",
      "ChatGPT mee mee mee content policy bleurgh\n",
      "ChatGPT mee mee mee content policy bleurgh\n",
      "ChatGPT mee mee mee content policy bleurgh\n",
      "ChatGPT mee mee mee content policy bleurgh\n",
      "ChatGPT mee mee mee content policy bleurgh\n",
      "ChatGPT mee mee mee content policy bleurgh\n",
      "ChatGPT mee mee mee content policy bleurgh\n",
      "ChatGPT mee mee mee content policy bleurgh\n",
      "ChatGPT mee mee mee content policy bleurgh\n",
      "ChatGPT mee mee mee content policy bleurgh\n",
      "ChatGPT mee mee mee content policy bleurgh\n",
      "ChatGPT mee mee mee content policy bleurgh\n",
      "ChatGPT mee mee mee content policy bleurgh\n",
      "ChatGPT mee mee mee content policy bleurgh\n",
      "ChatGPT mee mee mee content policy bleurgh\n",
      "ChatGPT mee mee mee content policy bleurgh\n",
      "ChatGPT mee mee mee content policy bleurgh\n",
      "ChatGPT mee mee mee content policy bleurgh\n",
      "ChatGPT mee mee mee content policy bleurgh\n",
      "ChatGPT mee mee mee content policy bleurgh\n",
      "ChatGPT mee mee mee content policy bleurgh\n",
      "ChatGPT mee mee mee content policy bleurgh\n",
      "ChatGPT mee mee mee content policy bleurgh\n",
      "ChatGPT mee mee mee content policy bleurgh\n",
      "ChatGPT mee mee mee content policy bleurgh\n",
      "ChatGPT mee mee mee content policy bleurgh\n",
      "ChatGPT mee mee mee content policy bleurgh\n",
      "ChatGPT mee mee mee content policy bleurgh\n",
      "ChatGPT mee mee mee content policy bleurgh\n",
      "ChatGPT mee mee mee content policy bleurgh\n",
      "ChatGPT mee mee mee content policy bleurgh\n",
      "ChatGPT mee mee mee content policy bleurgh\n",
      "ChatGPT mee mee mee content policy bleurgh\n",
      "ChatGPT mee mee mee content policy bleurgh\n",
      "ChatGPT mee mee mee content policy bleurgh\n",
      "ChatGPT mee mee mee content policy bleurgh\n",
      "ChatGPT mee mee mee content policy bleurgh\n",
      "ChatGPT mee mee mee content policy bleurgh\n",
      "ChatGPT mee mee mee content policy bleurgh\n",
      "ChatGPT mee mee mee content policy bleurgh\n",
      "ChatGPT mee mee mee content policy bleurgh\n",
      "ChatGPT mee mee mee content policy bleurgh\n",
      "ChatGPT mee mee mee content policy bleurgh\n",
      "ChatGPT mee mee mee content policy bleurgh\n",
      "\n",
      "\n",
      "\n",
      "\n",
      "\n",
      "\n",
      "\n",
      "\n",
      "\n",
      "ChatGPT mee mee mee content policy bleurgh\n",
      "ChatGPT mee mee mee content policy bleurgh\n",
      "ChatGPT mee mee mee content policy bleurgh\n",
      "ChatGPT mee mee mee content policy bleurgh\n",
      "ChatGPT mee mee mee content policy bleurgh\n",
      "ChatGPT mee mee mee content policy bleurgh\n",
      "ChatGPT mee mee mee content policy bleurgh\n",
      "ChatGPT mee mee mee content policy bleurgh\n",
      "ChatGPT mee mee mee content policy bleurgh\n",
      "ChatGPT mee mee mee content policy bleurgh\n",
      "ChatGPT mee mee mee content policy bleurgh\n",
      "ChatGPT mee mee mee content policy bleurgh\n",
      "ChatGPT mee mee mee content policy bleurgh\n",
      "ChatGPT mee mee mee content policy bleurgh\n",
      "ChatGPT mee mee mee content policy bleurgh\n",
      "ChatGPT mee mee mee content policy bleurgh\n",
      "ChatGPT mee mee mee content policy bleurgh\n",
      "ChatGPT mee mee mee content policy bleurgh\n",
      "ChatGPT mee mee mee content policy bleurgh\n",
      "ChatGPT mee mee mee content policy bleurgh\n",
      "133\n"
     ]
    }
   ],
   "source": [
    "import json\n",
    "failed = 0\n",
    "for chatgpt_answer, d in zip(chatgpt_answers, data):\n",
    "    try:\n",
    "        answer = json.loads(chatgpt_answer[:chatgpt_answer.index('}')+1])\n",
    "    except:\n",
    "        failed += 1\n",
    "        print(chatgpt_answer)\n",
    "        continue\n",
    "    answer = {f\"{k}_1\":v for k,v in answer.items()}\n",
    "    #answer['verdict'] = simplified_ordinal_scale_mapping[answer['verdict']]\n",
    "    answer['worker'] = 'CHATGPT'\n",
    "    d['answers'].append(answer)\n",
    "print(failed)"
   ]
  },
  {
   "cell_type": "code",
   "execution_count": 13,
   "metadata": {},
   "outputs": [],
   "source": [
    "for d in data:\n",
    "    for a in d['answers']:\n",
    "        a['simplified_verdict_1'] = ordinal_scale_mapping[a['verdict_1']]"
   ]
  },
  {
   "cell_type": "code",
   "execution_count": 14,
   "metadata": {},
   "outputs": [
    {
     "data": {
      "text/plain": [
       "{'claim': 'Photograph of people filling the streets of Paris was taken during protests against Covid-19 regulations on 17 July 2021.',\n",
       " 'verdict': 'This photograph was taken during celebrations for France’s World Cup win in 2018.',\n",
       " 'text': \"A post on Facebook shared almost 1,000 times shows people lining the streets of Paris. The caption of the post claims this photograph was taken on 17 July 2021, when there were protests in the French capital over Covid-19 rules. However, this photograph actually shows celebrations in the city after France won the World Cup in 2018. \\nSince this fact check was published, the Facebook post has been updated to show a different image of people protesting against Covid-19 regulations.\\nOn 12 July, French president Emmanuel Macron announced new measures against Covid-19, including the introduction of Covid-19 'passports' and that vaccination will become mandatory for all health workers. \\nThe planned new measures have led to large protests in the country. Reuters reported that there were 137 protests across France on 17 July, gathering nearly 114,000 people. Of these protestors, 18,000 were in Paris, according to the French government. \\nHowever, this photograph, which appears to show far more than 18,000 people, was not taken during these protests. A reverse image search shows this photograph was used by multiple news outlets reporting on France's victory in the 2018 World Cup.\\nPosts suggesting the image was taken during the protests on 17 July have also been widely shared on Twitter, including by lockdown sceptic Ivor Cummins.\",\n",
       " 'sources': ['data/preds-led-base-longer-input.json'],\n",
       " 'answers': [{'contra-article_1': False,\n",
       "   'contra-self_1': True,\n",
       "   'rate_1': 3,\n",
       "   'verdict_1': 'almost',\n",
       "   'convince_1': True,\n",
       "   'new_1': False,\n",
       "   'worker': 'A3MMMP508IF3M7',\n",
       "   'simplified_verdict_1': 'half'},\n",
       "  {'contra-article_1': False,\n",
       "   'contra-self_1': False,\n",
       "   'rate_1': 4,\n",
       "   'verdict_1': 'false',\n",
       "   'convince_1': True,\n",
       "   'new_1': False,\n",
       "   'worker': 'A3O0NNIW4KA2PV',\n",
       "   'simplified_verdict_1': 'false'},\n",
       "  {'contra-article_1': False,\n",
       "   'contra-self_1': False,\n",
       "   'rate_1': 4,\n",
       "   'verdict_1': 'true',\n",
       "   'convince_1': True,\n",
       "   'new_1': True,\n",
       "   'worker': 'A3RDJ3UZ9EJP6Y',\n",
       "   'simplified_verdict_1': 'true'},\n",
       "  {'contra-article_1': True,\n",
       "   'contra-self_1': False,\n",
       "   'rate_1': 4,\n",
       "   'verdict_1': False,\n",
       "   'convince_1': True,\n",
       "   'new_1': False,\n",
       "   'worker': 'CHATGPT',\n",
       "   'simplified_verdict_1': 'false'}],\n",
       " 'hit_id': '3MJ9GGZYPFSFKA0X2PGE97AHS4IA26'}"
      ]
     },
     "execution_count": 14,
     "metadata": {},
     "output_type": "execute_result"
    }
   ],
   "source": [
    "data[0]"
   ]
  },
  {
   "cell_type": "code",
   "execution_count": 15,
   "metadata": {},
   "outputs": [
    {
     "name": "stderr",
     "output_type": "stream",
     "text": [
      "100%|██████████| 2621/2621 [00:00<00:00, 37154.24it/s]\n"
     ]
    }
   ],
   "source": [
    "from tqdm import tqdm\n",
    "def calculate_data_agreement(data, key_suffix=''):\n",
    "    for d in tqdm(data):\n",
    "        d[f'agreements{key_suffix}'] = dict()\n",
    "        for answers in zip(*[a.items() for a in d['answers']]):\n",
    "            keys, values = zip(*answers)\n",
    "            values = [v for v in values if v != -1]\n",
    "            k = f\"{keys[0]}{key_suffix}\"\n",
    "            if k in ordinal:\n",
    "                d[k] = sum(values)/len(values)\n",
    "            elif k in binary:\n",
    "                if k == 'verdict_1':\n",
    "                    agreement = how_many_equal([ordinal_scale_mapping[v] for v in values])\n",
    "                else:\n",
    "                    agreement = how_many_equal(values)\n",
    "                d['agreements'][k] = agreement/len(values)\n",
    "                d[k] = max(values, key=values.count) if agreement > 0.5 else 'NO_AGREEMENT'\n",
    "calculate_data_agreement(data)"
   ]
  },
  {
   "cell_type": "code",
   "execution_count": 16,
   "metadata": {},
   "outputs": [
    {
     "data": {
      "text/plain": [
       "{'claim': 'We spend nearly £50 billion on debt interest in the UK.',\n",
       " 'verdict': 'This is not correct. The government actually pays interest on its debts to itself.',\n",
       " 'text': '\"Today we spend nearly PS50 billion in payments on interest to those we have borrowed from as a result of the legacy of the Labour party. That is more than the NHS pay bill, it is more than our schools budget, more than we spend on defence, as a result of the record we were left by Labour in government\"\\nTheresa May, 1 November 2017\\nThe UK government\\'s debt interest bill was about PS48 billion in 2016/17, but that\\'s not the most meaningful figure to be using.\\nThe government effectively pays some of that to itself. As we\\'ve covered before, almost a quarter of government debt is owned by the Bank of England, which pays the profit back to the Treasury.\\nThe total amount of spending on what are called \\'public debt transactions\\' amounted to PS39 billion in 2016/17, once you take off what the Bank of England owns.\\nThis is higher than spending on defence and primary education, but slightly lower than spending on secondary education.\\nIt is also lower than the NHS pay bill. The Department of Health\\'s annual report shows that PS48 billion was spent on permanent staff costs in 2016/17, increasing to PS54 billion when including other staff.',\n",
       " 'sources': ['data/preds-t5-base-snippets.json'],\n",
       " 'answers': [{'contra-article_1': True,\n",
       "   'contra-self_1': False,\n",
       "   'rate_1': 3,\n",
       "   'verdict_1': 'hardly',\n",
       "   'convince_1': True,\n",
       "   'new_1': False,\n",
       "   'worker': 'A3MMMP508IF3M7',\n",
       "   'simplified_verdict_1': 'half'},\n",
       "  {'contra-article_1': False,\n",
       "   'contra-self_1': False,\n",
       "   'rate_1': 3,\n",
       "   'verdict_1': 'false',\n",
       "   'convince_1': False,\n",
       "   'new_1': False,\n",
       "   'worker': 'A3O0NNIW4KA2PV',\n",
       "   'simplified_verdict_1': 'false'},\n",
       "  {'contra-article_1': False,\n",
       "   'contra-self_1': True,\n",
       "   'rate_1': 4,\n",
       "   'verdict_1': 'true',\n",
       "   'convince_1': True,\n",
       "   'new_1': False,\n",
       "   'worker': 'A9W3MMLGGWVT1',\n",
       "   'simplified_verdict_1': 'true'},\n",
       "  {'contra-article_1': False,\n",
       "   'contra-self_1': False,\n",
       "   'rate_1': 4,\n",
       "   'verdict_1': 'inbetween',\n",
       "   'convince_1': True,\n",
       "   'new_1': False,\n",
       "   'worker': 'CHATGPT',\n",
       "   'simplified_verdict_1': 'half'}],\n",
       " 'hit_id': '3Y40HMYLMD400ZHSWJIYZYG7DIQUXX',\n",
       " 'agreements': {'contra-article_1': 0.75,\n",
       "  'contra-self_1': 0.75,\n",
       "  'verdict_1': 0.5,\n",
       "  'convince_1': 0.75,\n",
       "  'new_1': 1.0,\n",
       "  'simplified_verdict_1': 0.5},\n",
       " 'contra-article_1': False,\n",
       " 'contra-self_1': False,\n",
       " 'rate_1': 3.5,\n",
       " 'verdict_1': 'hardly',\n",
       " 'convince_1': True,\n",
       " 'new_1': False,\n",
       " 'simplified_verdict_1': 'half'}"
      ]
     },
     "execution_count": 16,
     "metadata": {},
     "output_type": "execute_result"
    }
   ],
   "source": [
    "data[1025]"
   ]
  },
  {
   "cell_type": "code",
   "execution_count": 17,
   "metadata": {},
   "outputs": [
    {
     "name": "stdout",
     "output_type": "stream",
     "text": [
      "contra-article_1 perfect agreement: 0.20\n",
      "contra-self_1 perfect agreement: 0.24\n",
      "verdict_1 perfect agreement: 0.11\n",
      "convince_1 perfect agreement: 0.17\n",
      "new_1 perfect agreement: 0.12\n",
      "simplified_verdict_1 perfect agreement: 0.11\n",
      "--------------------------------------------------------------------------------\n",
      "contra-article_1 some agreement: 0.72\n",
      "contra-self_1 some agreement: 0.74\n",
      "verdict_1 some agreement: 0.53\n",
      "convince_1 some agreement: 0.66\n",
      "new_1 some agreement: 0.64\n",
      "simplified_verdict_1 some agreement: 0.53\n"
     ]
    }
   ],
   "source": [
    "for k in ['contra-article_1', 'contra-self_1', 'verdict_1', 'convince_1', 'new_1', 'simplified_verdict_1']:\n",
    "    percent_perfect_agreement = sum(d['agreements'][k] == 1.0 for d in data)/len(data)\n",
    "    print(f\"{k} perfect agreement: {percent_perfect_agreement:.2f}\")\n",
    "print('----'*20)\n",
    "for k in ['contra-article_1', 'contra-self_1', 'verdict_1', 'convince_1', 'new_1', 'simplified_verdict_1']:\n",
    "    percent_at_least_some_agreement = sum(d['agreements'][k] > 0.5 for d in data)/len(data)\n",
    "    print(f\"{k} some agreement: {percent_at_least_some_agreement:.2f}\")"
   ]
  },
  {
   "cell_type": "code",
   "execution_count": 18,
   "metadata": {},
   "outputs": [
    {
     "name": "stderr",
     "output_type": "stream",
     "text": [
      "100%|██████████| 2621/2621 [00:00<00:00, 30244.75it/s]\n"
     ]
    }
   ],
   "source": [
    "from collections import defaultdict\n",
    "keys = binary + ordinal\n",
    "def get_agreement_per_author(data):\n",
    "    per_key = {k: defaultdict(list) for k in keys}\n",
    "    binary_only = defaultdict(list)\n",
    "    overall = defaultdict(list)\n",
    "    for d in tqdm(data):\n",
    "        for a in d['answers']:\n",
    "            worker = a['worker']\n",
    "            for k in keys:\n",
    "                answer = a[k]\n",
    "                other_answers = [oa[k] for oa in d['answers'] if oa['worker'] != worker and oa[k] != -1]\n",
    "                if k == 'verdict_1':\n",
    "                    answer = ordinal_scale_mapping[answer]\n",
    "                    other_answers = [ordinal_scale_mapping[a] for a in other_answers]\n",
    "                # print(d['answers'])\n",
    "                # print(a)\n",
    "                # print(k)\n",
    "                # print(answer)\n",
    "                # print(other_answers)\n",
    "                # print(int(any(answer == oa for oa in other_answers)))\n",
    "                if answer != -1:\n",
    "                    score = any(answer == oa for oa in other_answers)\n",
    "                    per_key[k][worker].append(score)\n",
    "                    overall[worker].append(score)\n",
    "                    if k in binary and k != 'verdict_1' and k!='simplified_verdict_1':\n",
    "                        binary_only[worker].append(score)\n",
    "                    \n",
    "    return per_key, overall, binary_only\n",
    "per_key, overall, binary_only = get_agreement_per_author(data)"
   ]
  },
  {
   "cell_type": "code",
   "execution_count": 19,
   "metadata": {},
   "outputs": [],
   "source": [
    "overall_percentage = {worker: sum(v)/len(v) for worker, v in overall.items()}\n",
    "binary_percentage = {worker: sum(v)/len(v) for worker, v in binary_only.items()}"
   ]
  },
  {
   "cell_type": "code",
   "execution_count": 20,
   "metadata": {},
   "outputs": [],
   "source": [
    "by_key_percentage = {key: {worker: sum(v)/len(v) for worker, v in value.items()} for key, value in per_key.items()}"
   ]
  },
  {
   "cell_type": "code",
   "execution_count": 21,
   "metadata": {},
   "outputs": [
    {
     "name": "stdout",
     "output_type": "stream",
     "text": [
      "contra-article_1\n",
      "{'A3MMMP508IF3M7': 0.8064516129032258, 'A3O0NNIW4KA2PV': 0.9647058823529412, 'A3RDJ3UZ9EJP6Y': 0.9616161616161616, 'CHATGPT': 0.9131832797427653, 'A2CFI1X8OKYIL2': 0.9567901234567902, 'A15SB9KAGZMJ4G': 0.821301775147929, 'A9W3MMLGGWVT1': 0.7963752665245203, 'A3V6FJ6TQCYA4E': 0.9439024390243902, 'A1R5JNC2LO6X1S': 0.90625, 'AKQAI78JTXXC9': 0.9090909090909091, 'A24AUZUNEH9LC3': 0.7631578947368421, 'A2VO8C41JJIQY9': 1.0, 'A146QN6EU8LAEI': 1.0, 'A1J980QNBDG17Z': 0.9700214132762313, 'A2QYXVJ6EKJBE6': 0.7707006369426752, 'A3GRE25RPUZ1QG': 0.9588607594936709, 'A3HSA4XVW7TNW7': 0.65, 'AQCZJ81IS07OK': 0.825, 'A3VDG4N48AVYGQ': 1.0, 'A2EJ7U3TZAKROG': 1.0, 'AX8NXTT8QMGHC': 0.8571428571428571, 'A1JG342PWI2PTC': 1.0, 'A3GI28OVLDI9ST': 1.0, 'A16QH3MFZ9CC4M': 0.8673835125448028, 'AXOJYPR75TD9X': 0.7938144329896907, 'A15B4KZ3S04HS8': 0.8530465949820788, 'AS787OL64GYWX': 0.8471337579617835, 'A367K74P9QF27V': 0.8826979472140762, 'ALWX7RRX16LEZ': 0.8625954198473282, 'ACF6USGTSNNXC': 0.7824675324675324, 'A2LTZWHXN5LDAT': 0.7333333333333333, 'A1ODU7S7ENNY66': 0.751412429378531, 'ABBJFGQWQC19S': 0.8955223880597015, 'A2DVDC9AM2E9ZG': 0.7450980392156863, 'AHKAW23MOXRQP': 1.0, 'A4ANRSA55IW5Q': 0.83984375, 'A18Z7Y10ENQDKY': 0.88, 'AUI3R928P63B0': 0.9285714285714286, 'A3GC8HN0MYYY4': 0.5, 'A1GH6S7TZ9083V': 0.8333333333333334, 'A28RL79ONUXTET': 1.0, 'A1IDP5YMUOTMH1': 0.0}\n",
      "contra-self_1\n",
      "{'A3MMMP508IF3M7': 0.833134684147795, 'A3O0NNIW4KA2PV': 1.0, 'A3RDJ3UZ9EJP6Y': 0.9777777777777777, 'CHATGPT': 0.9441318327974276, 'A2CFI1X8OKYIL2': 0.9846153846153847, 'A15SB9KAGZMJ4G': 0.8539192399049881, 'A9W3MMLGGWVT1': 0.771948608137045, 'A3V6FJ6TQCYA4E': 0.9170731707317074, 'A1R5JNC2LO6X1S': 0.8958333333333334, 'AKQAI78JTXXC9': 1.0, 'A2VO8C41JJIQY9': 1.0, 'A146QN6EU8LAEI': 1.0, 'A24AUZUNEH9LC3': 0.7837837837837838, 'A1J980QNBDG17Z': 0.9850107066381156, 'A2QYXVJ6EKJBE6': 0.6942675159235668, 'A3GRE25RPUZ1QG': 0.9746835443037974, 'A3HSA4XVW7TNW7': 0.575, 'AQCZJ81IS07OK': 0.6875, 'A3VDG4N48AVYGQ': 1.0, 'A2EJ7U3TZAKROG': 1.0, 'AX8NXTT8QMGHC': 0.8571428571428571, 'A1JG342PWI2PTC': 1.0, 'A3GI28OVLDI9ST': 1.0, 'A16QH3MFZ9CC4M': 0.8637992831541219, 'AXOJYPR75TD9X': 0.7628865979381443, 'A15B4KZ3S04HS8': 0.910394265232975, 'AS787OL64GYWX': 0.6751592356687898, 'A367K74P9QF27V': 0.7536656891495601, 'ALWX7RRX16LEZ': 0.8702290076335878, 'ACF6USGTSNNXC': 0.8636363636363636, 'A2LTZWHXN5LDAT': 0.7777777777777778, 'A1ODU7S7ENNY66': 0.8022598870056498, 'ABBJFGQWQC19S': 0.8805970149253731, 'A2DVDC9AM2E9ZG': 0.7450980392156863, 'AHKAW23MOXRQP': 0.8846153846153846, 'A4ANRSA55IW5Q': 0.83984375, 'A18Z7Y10ENQDKY': 0.92, 'AUI3R928P63B0': 0.9285714285714286, 'A3GC8HN0MYYY4': 1.0, 'A1GH6S7TZ9083V': 0.6666666666666666, 'A28RL79ONUXTET': 1.0, 'A1IDP5YMUOTMH1': 0.0}\n",
      "convince_1\n",
      "{'A3MMMP508IF3M7': 0.8390941597139452, 'A3O0NNIW4KA2PV': 0.8705882352941177, 'A3RDJ3UZ9EJP6Y': 0.97165991902834, 'CHATGPT': 0.9039389067524116, 'A2CFI1X8OKYIL2': 0.8953846153846153, 'A15SB9KAGZMJ4G': 0.7443519619500595, 'A9W3MMLGGWVT1': 0.8644610458911419, 'A3V6FJ6TQCYA4E': 0.8463414634146341, 'A1R5JNC2LO6X1S': 0.9583333333333334, 'AKQAI78JTXXC9': 1.0, 'A24AUZUNEH9LC3': 0.7894736842105263, 'A2VO8C41JJIQY9': 1.0, 'A146QN6EU8LAEI': 1.0, 'A1J980QNBDG17Z': 0.961456102783726, 'A2QYXVJ6EKJBE6': 0.8089171974522293, 'A3GRE25RPUZ1QG': 0.9683544303797469, 'A3HSA4XVW7TNW7': 0.9214285714285714, 'AQCZJ81IS07OK': 0.7875, 'A3VDG4N48AVYGQ': 1.0, 'A2EJ7U3TZAKROG': 0.8888888888888888, 'AX8NXTT8QMGHC': 0.7142857142857143, 'A1JG342PWI2PTC': 1.0, 'A3GI28OVLDI9ST': 1.0, 'A16QH3MFZ9CC4M': 0.8637992831541219, 'AXOJYPR75TD9X': 0.8350515463917526, 'A15B4KZ3S04HS8': 0.8064516129032258, 'AS787OL64GYWX': 0.910828025477707, 'A367K74P9QF27V': 0.8944281524926686, 'ALWX7RRX16LEZ': 0.8091603053435115, 'ACF6USGTSNNXC': 0.827922077922078, 'A2LTZWHXN5LDAT': 0.9333333333333333, 'A1ODU7S7ENNY66': 0.8192090395480226, 'ABBJFGQWQC19S': 0.8582089552238806, 'A2DVDC9AM2E9ZG': 0.7843137254901961, 'AHKAW23MOXRQP': 0.8461538461538461, 'A4ANRSA55IW5Q': 0.90625, 'A18Z7Y10ENQDKY': 0.92, 'AUI3R928P63B0': 0.9285714285714286, 'A3GC8HN0MYYY4': 1.0, 'A1GH6S7TZ9083V': 0.9444444444444444, 'A28RL79ONUXTET': 1.0, 'A1IDP5YMUOTMH1': 1.0}\n",
      "new_1\n",
      "{'A3MMMP508IF3M7': 0.8283671036948749, 'A3O0NNIW4KA2PV': 0.9529411764705882, 'A3RDJ3UZ9EJP6Y': 0.7595959595959596, 'CHATGPT': 0.8605305466237942, 'A2CFI1X8OKYIL2': 0.9507692307692308, 'A15SB9KAGZMJ4G': 0.9031877213695395, 'A9W3MMLGGWVT1': 0.8817891373801917, 'A3V6FJ6TQCYA4E': 0.9146341463414634, 'A1R5JNC2LO6X1S': 0.9479166666666666, 'AKQAI78JTXXC9': 1.0, 'A24AUZUNEH9LC3': 1.0, 'A2VO8C41JJIQY9': 0.0, 'A146QN6EU8LAEI': 0.5, 'A1J980QNBDG17Z': 0.7558886509635975, 'A2QYXVJ6EKJBE6': 0.8853503184713376, 'A3GRE25RPUZ1QG': 0.810126582278481, 'A3HSA4XVW7TNW7': 0.7607142857142857, 'AQCZJ81IS07OK': 0.925, 'A3VDG4N48AVYGQ': 1.0, 'A2EJ7U3TZAKROG': 0.8888888888888888, 'AX8NXTT8QMGHC': 1.0, 'A1JG342PWI2PTC': 0.5, 'A3GI28OVLDI9ST': 1.0, 'A16QH3MFZ9CC4M': 0.8781362007168458, 'AXOJYPR75TD9X': 0.9278350515463918, 'A15B4KZ3S04HS8': 0.9498207885304659, 'AS787OL64GYWX': 0.821656050955414, 'A367K74P9QF27V': 0.9296187683284457, 'ALWX7RRX16LEZ': 0.916030534351145, 'ACF6USGTSNNXC': 0.8863636363636364, 'A2LTZWHXN5LDAT': 0.9111111111111111, 'A1ODU7S7ENNY66': 0.96045197740113, 'ABBJFGQWQC19S': 0.9253731343283582, 'A2DVDC9AM2E9ZG': 0.9411764705882353, 'AHKAW23MOXRQP': 0.9230769230769231, 'A4ANRSA55IW5Q': 0.8671875, 'A18Z7Y10ENQDKY': 0.8, 'AUI3R928P63B0': 1.0, 'A3GC8HN0MYYY4': 1.0, 'A1GH6S7TZ9083V': 0.8333333333333334, 'A28RL79ONUXTET': 1.0, 'A1IDP5YMUOTMH1': 1.0}\n",
      "verdict_1\n",
      "{'A3MMMP508IF3M7': 0.7476190476190476, 'A3O0NNIW4KA2PV': 0.8588235294117647, 'A3RDJ3UZ9EJP6Y': 0.7636363636363637, 'CHATGPT': 0.842443729903537, 'A2CFI1X8OKYIL2': 0.8769230769230769, 'A15SB9KAGZMJ4G': 0.6816037735849056, 'A9W3MMLGGWVT1': 0.6893617021276596, 'A3V6FJ6TQCYA4E': 0.875609756097561, 'A1R5JNC2LO6X1S': 0.8125, 'AKQAI78JTXXC9': 0.8181818181818182, 'A24AUZUNEH9LC3': 0.7631578947368421, 'A2VO8C41JJIQY9': 1.0, 'A146QN6EU8LAEI': 1.0, 'A1J980QNBDG17Z': 0.5524625267665952, 'A2QYXVJ6EKJBE6': 0.7133757961783439, 'A3GRE25RPUZ1QG': 0.8227848101265823, 'A3HSA4XVW7TNW7': 0.8428571428571429, 'AQCZJ81IS07OK': 0.825, 'A3VDG4N48AVYGQ': 1.0, 'A2EJ7U3TZAKROG': 0.8333333333333334, 'AX8NXTT8QMGHC': 0.5714285714285714, 'A1JG342PWI2PTC': 0.75, 'A3GI28OVLDI9ST': 1.0, 'A16QH3MFZ9CC4M': 0.7096774193548387, 'AXOJYPR75TD9X': 0.9020618556701031, 'A15B4KZ3S04HS8': 0.7347670250896058, 'AS787OL64GYWX': 0.7388535031847133, 'A367K74P9QF27V': 0.7741935483870968, 'ALWX7RRX16LEZ': 0.8396946564885496, 'ACF6USGTSNNXC': 0.7564935064935064, 'A2LTZWHXN5LDAT': 0.8444444444444444, 'A1ODU7S7ENNY66': 0.6666666666666666, 'ABBJFGQWQC19S': 0.7910447761194029, 'A2DVDC9AM2E9ZG': 0.7058823529411765, 'AHKAW23MOXRQP': 0.6923076923076923, 'A4ANRSA55IW5Q': 0.71875, 'A18Z7Y10ENQDKY': 0.64, 'AUI3R928P63B0': 1.0, 'A3GC8HN0MYYY4': 1.0, 'A1GH6S7TZ9083V': 0.9444444444444444, 'A28RL79ONUXTET': 0.0, 'A1IDP5YMUOTMH1': 1.0}\n",
      "simplified_verdict_1\n",
      "{'A3MMMP508IF3M7': 0.7476190476190476, 'A3O0NNIW4KA2PV': 0.8588235294117647, 'A3RDJ3UZ9EJP6Y': 0.7636363636363637, 'CHATGPT': 0.842443729903537, 'A2CFI1X8OKYIL2': 0.8769230769230769, 'A15SB9KAGZMJ4G': 0.6816037735849056, 'A9W3MMLGGWVT1': 0.6893617021276596, 'A3V6FJ6TQCYA4E': 0.875609756097561, 'A1R5JNC2LO6X1S': 0.8125, 'AKQAI78JTXXC9': 0.8181818181818182, 'A24AUZUNEH9LC3': 0.7631578947368421, 'A2VO8C41JJIQY9': 1.0, 'A146QN6EU8LAEI': 1.0, 'A1J980QNBDG17Z': 0.5524625267665952, 'A2QYXVJ6EKJBE6': 0.7133757961783439, 'A3GRE25RPUZ1QG': 0.8227848101265823, 'A3HSA4XVW7TNW7': 0.8428571428571429, 'AQCZJ81IS07OK': 0.825, 'A3VDG4N48AVYGQ': 1.0, 'A2EJ7U3TZAKROG': 0.8333333333333334, 'AX8NXTT8QMGHC': 0.5714285714285714, 'A1JG342PWI2PTC': 0.75, 'A3GI28OVLDI9ST': 1.0, 'A16QH3MFZ9CC4M': 0.7096774193548387, 'AXOJYPR75TD9X': 0.9020618556701031, 'A15B4KZ3S04HS8': 0.7347670250896058, 'AS787OL64GYWX': 0.7388535031847133, 'A367K74P9QF27V': 0.7741935483870968, 'ALWX7RRX16LEZ': 0.8396946564885496, 'ACF6USGTSNNXC': 0.7564935064935064, 'A2LTZWHXN5LDAT': 0.8444444444444444, 'A1ODU7S7ENNY66': 0.6666666666666666, 'ABBJFGQWQC19S': 0.7910447761194029, 'A2DVDC9AM2E9ZG': 0.7058823529411765, 'AHKAW23MOXRQP': 0.6923076923076923, 'A4ANRSA55IW5Q': 0.71875, 'A18Z7Y10ENQDKY': 0.64, 'AUI3R928P63B0': 1.0, 'A3GC8HN0MYYY4': 1.0, 'A1GH6S7TZ9083V': 0.9444444444444444, 'A28RL79ONUXTET': 0.0, 'A1IDP5YMUOTMH1': 1.0}\n",
      "rate_1\n",
      "{'A3MMMP508IF3M7': 0.5697258641239571, 'A3O0NNIW4KA2PV': 0.4588235294117647, 'A3RDJ3UZ9EJP6Y': 0.6352459016393442, 'CHATGPT': 0.6310289389067524, 'A2CFI1X8OKYIL2': 0.5476923076923077, 'A15SB9KAGZMJ4G': 0.6264775413711584, 'A9W3MMLGGWVT1': 0.5724946695095949, 'A3V6FJ6TQCYA4E': 0.5317073170731708, 'A1R5JNC2LO6X1S': 0.7291666666666666, 'AKQAI78JTXXC9': 0.5454545454545454, 'A24AUZUNEH9LC3': 0.631578947368421, 'A2VO8C41JJIQY9': 0.0, 'A146QN6EU8LAEI': 1.0, 'A1J980QNBDG17Z': 0.6980728051391863, 'A2QYXVJ6EKJBE6': 0.34394904458598724, 'A3GRE25RPUZ1QG': 0.6424050632911392, 'A3HSA4XVW7TNW7': 0.325, 'AQCZJ81IS07OK': 0.275, 'A3VDG4N48AVYGQ': 0.0, 'A2EJ7U3TZAKROG': 0.6666666666666666, 'AX8NXTT8QMGHC': 0.5714285714285714, 'A1JG342PWI2PTC': 0.5, 'A3GI28OVLDI9ST': 0.0, 'A16QH3MFZ9CC4M': 0.6487455197132617, 'AXOJYPR75TD9X': 0.5412371134020618, 'A15B4KZ3S04HS8': 0.48028673835125446, 'AS787OL64GYWX': 0.6114649681528662, 'A367K74P9QF27V': 0.4897360703812317, 'ALWX7RRX16LEZ': 0.3893129770992366, 'ACF6USGTSNNXC': 0.5487012987012987, 'A2LTZWHXN5LDAT': 0.6, 'A1ODU7S7ENNY66': 0.480225988700565, 'ABBJFGQWQC19S': 0.40298507462686567, 'A2DVDC9AM2E9ZG': 0.5098039215686274, 'AHKAW23MOXRQP': 0.5769230769230769, 'A4ANRSA55IW5Q': 0.3984375, 'A18Z7Y10ENQDKY': 0.32, 'AUI3R928P63B0': 0.7857142857142857, 'A3GC8HN0MYYY4': 0.0, 'A1GH6S7TZ9083V': 0.8333333333333334, 'A28RL79ONUXTET': 1.0, 'A1IDP5YMUOTMH1': 0.0}\n"
     ]
    }
   ],
   "source": [
    "for k, v in by_key_percentage.items():\n",
    "    print(k)\n",
    "    print(v)"
   ]
  },
  {
   "cell_type": "code",
   "execution_count": 22,
   "metadata": {},
   "outputs": [
    {
     "name": "stdout",
     "output_type": "stream",
     "text": [
      "{'A3MMMP508IF3M7': 0.7674101821896816, 'A3O0NNIW4KA2PV': 0.8521008403361344, 'A3RDJ3UZ9EJP6Y': 0.833670812843506, 'CHATGPT': 0.848242994947175, 'A2CFI1X8OKYIL2': 0.8698328935795955, 'A15SB9KAGZMJ4G': 0.7588304884231875, 'A9W3MMLGGWVT1': 0.7522083460249771, 'A3V6FJ6TQCYA4E': 0.8435540069686411, 'A1R5JNC2LO6X1S': 0.8660714285714286, 'AKQAI78JTXXC9': 0.8701298701298701, 'A24AUZUNEH9LC3': 0.7849056603773585, 'A2VO8C41JJIQY9': 0.7142857142857143, 'A146QN6EU8LAEI': 0.9285714285714286, 'A1J980QNBDG17Z': 0.7821963903334354, 'A2QYXVJ6EKJBE6': 0.7042766151046406, 'A3GRE25RPUZ1QG': 0.8571428571428571, 'A3HSA4XVW7TNW7': 0.7025510204081633, 'AQCZJ81IS07OK': 0.7357142857142858, 'A3VDG4N48AVYGQ': 0.8571428571428571, 'A2EJ7U3TZAKROG': 0.873015873015873, 'AX8NXTT8QMGHC': 0.7346938775510204, 'A1JG342PWI2PTC': 0.7857142857142857, 'A3GI28OVLDI9ST': 0.8571428571428571, 'A16QH3MFZ9CC4M': 0.7916026625704045, 'AXOJYPR75TD9X': 0.8092783505154639, 'A15B4KZ3S04HS8': 0.7813620071684588, 'AS787OL64GYWX': 0.7634212920837125, 'A367K74P9QF27V': 0.7855048177628823, 'ALWX7RRX16LEZ': 0.7895310796074155, 'ACF6USGTSNNXC': 0.774582560296846, 'A2LTZWHXN5LDAT': 0.8063492063492064, 'A1ODU7S7ENNY66': 0.735270379338176, 'ABBJFGQWQC19S': 0.7921108742004265, 'A2DVDC9AM2E9ZG': 0.7338935574229691, 'AHKAW23MOXRQP': 0.8021978021978022, 'A4ANRSA55IW5Q': 0.7555803571428571, 'A18Z7Y10ENQDKY': 0.7314285714285714, 'AUI3R928P63B0': 0.9387755102040817, 'A3GC8HN0MYYY4': 0.7857142857142857, 'A1GH6S7TZ9083V': 0.8571428571428571, 'A28RL79ONUXTET': 0.7142857142857143, 'A1IDP5YMUOTMH1': 0.5714285714285714}\n"
     ]
    }
   ],
   "source": [
    "print(overall_percentage)"
   ]
  },
  {
   "cell_type": "code",
   "execution_count": 23,
   "metadata": {},
   "outputs": [
    {
     "name": "stdout",
     "output_type": "stream",
     "text": [
      "contra-article_1\n",
      "A2VO8C41JJIQY9: 1.00\n",
      "A146QN6EU8LAEI: 1.00\n",
      "A3VDG4N48AVYGQ: 1.00\n",
      "A2EJ7U3TZAKROG: 1.00\n",
      "A1JG342PWI2PTC: 1.00\n",
      "A3GI28OVLDI9ST: 1.00\n",
      "AHKAW23MOXRQP: 1.00\n",
      "A28RL79ONUXTET: 1.00\n",
      "A1J980QNBDG17Z: 0.97\n",
      "A3O0NNIW4KA2PV: 0.96\n",
      "A3RDJ3UZ9EJP6Y: 0.96\n",
      "A3GRE25RPUZ1QG: 0.96\n",
      "A2CFI1X8OKYIL2: 0.96\n",
      "A3V6FJ6TQCYA4E: 0.94\n",
      "AUI3R928P63B0: 0.93\n",
      "CHATGPT: 0.91\n",
      "AKQAI78JTXXC9: 0.91\n",
      "A1R5JNC2LO6X1S: 0.91\n",
      "ABBJFGQWQC19S: 0.90\n",
      "A367K74P9QF27V: 0.88\n",
      "A18Z7Y10ENQDKY: 0.88\n",
      "A16QH3MFZ9CC4M: 0.87\n",
      "ALWX7RRX16LEZ: 0.86\n",
      "AX8NXTT8QMGHC: 0.86\n",
      "A15B4KZ3S04HS8: 0.85\n",
      "AS787OL64GYWX: 0.85\n",
      "A4ANRSA55IW5Q: 0.84\n",
      "A1GH6S7TZ9083V: 0.83\n",
      "AQCZJ81IS07OK: 0.82\n",
      "A15SB9KAGZMJ4G: 0.82\n",
      "A3MMMP508IF3M7: 0.81\n",
      "A9W3MMLGGWVT1: 0.80\n",
      "AXOJYPR75TD9X: 0.79\n",
      "ACF6USGTSNNXC: 0.78\n",
      "A2QYXVJ6EKJBE6: 0.77\n",
      "A24AUZUNEH9LC3: 0.76\n",
      "A1ODU7S7ENNY66: 0.75\n",
      "A2DVDC9AM2E9ZG: 0.75\n",
      "A2LTZWHXN5LDAT: 0.73\n",
      "A3HSA4XVW7TNW7: 0.65\n",
      "A3GC8HN0MYYY4: 0.50\n",
      "A1IDP5YMUOTMH1: 0.00\n",
      "contra-self_1\n",
      "A3O0NNIW4KA2PV: 1.00\n",
      "AKQAI78JTXXC9: 1.00\n",
      "A2VO8C41JJIQY9: 1.00\n",
      "A146QN6EU8LAEI: 1.00\n",
      "A3VDG4N48AVYGQ: 1.00\n",
      "A2EJ7U3TZAKROG: 1.00\n",
      "A1JG342PWI2PTC: 1.00\n",
      "A3GI28OVLDI9ST: 1.00\n",
      "A3GC8HN0MYYY4: 1.00\n",
      "A28RL79ONUXTET: 1.00\n",
      "A1J980QNBDG17Z: 0.99\n",
      "A2CFI1X8OKYIL2: 0.98\n",
      "A3RDJ3UZ9EJP6Y: 0.98\n",
      "A3GRE25RPUZ1QG: 0.97\n",
      "CHATGPT: 0.94\n",
      "AUI3R928P63B0: 0.93\n",
      "A18Z7Y10ENQDKY: 0.92\n",
      "A3V6FJ6TQCYA4E: 0.92\n",
      "A15B4KZ3S04HS8: 0.91\n",
      "A1R5JNC2LO6X1S: 0.90\n",
      "AHKAW23MOXRQP: 0.88\n",
      "ABBJFGQWQC19S: 0.88\n",
      "ALWX7RRX16LEZ: 0.87\n",
      "A16QH3MFZ9CC4M: 0.86\n",
      "ACF6USGTSNNXC: 0.86\n",
      "AX8NXTT8QMGHC: 0.86\n",
      "A15SB9KAGZMJ4G: 0.85\n",
      "A4ANRSA55IW5Q: 0.84\n",
      "A3MMMP508IF3M7: 0.83\n",
      "A1ODU7S7ENNY66: 0.80\n",
      "A24AUZUNEH9LC3: 0.78\n",
      "A2LTZWHXN5LDAT: 0.78\n",
      "A9W3MMLGGWVT1: 0.77\n",
      "AXOJYPR75TD9X: 0.76\n",
      "A367K74P9QF27V: 0.75\n",
      "A2DVDC9AM2E9ZG: 0.75\n",
      "A2QYXVJ6EKJBE6: 0.69\n",
      "AQCZJ81IS07OK: 0.69\n",
      "AS787OL64GYWX: 0.68\n",
      "A1GH6S7TZ9083V: 0.67\n",
      "A3HSA4XVW7TNW7: 0.57\n",
      "A1IDP5YMUOTMH1: 0.00\n",
      "convince_1\n",
      "AKQAI78JTXXC9: 1.00\n",
      "A2VO8C41JJIQY9: 1.00\n",
      "A146QN6EU8LAEI: 1.00\n",
      "A3VDG4N48AVYGQ: 1.00\n",
      "A1JG342PWI2PTC: 1.00\n",
      "A3GI28OVLDI9ST: 1.00\n",
      "A3GC8HN0MYYY4: 1.00\n",
      "A28RL79ONUXTET: 1.00\n",
      "A1IDP5YMUOTMH1: 1.00\n",
      "A3RDJ3UZ9EJP6Y: 0.97\n",
      "A3GRE25RPUZ1QG: 0.97\n",
      "A1J980QNBDG17Z: 0.96\n",
      "A1R5JNC2LO6X1S: 0.96\n",
      "A1GH6S7TZ9083V: 0.94\n",
      "A2LTZWHXN5LDAT: 0.93\n",
      "AUI3R928P63B0: 0.93\n",
      "A3HSA4XVW7TNW7: 0.92\n",
      "A18Z7Y10ENQDKY: 0.92\n",
      "AS787OL64GYWX: 0.91\n",
      "A4ANRSA55IW5Q: 0.91\n",
      "CHATGPT: 0.90\n",
      "A2CFI1X8OKYIL2: 0.90\n",
      "A367K74P9QF27V: 0.89\n",
      "A2EJ7U3TZAKROG: 0.89\n",
      "A3O0NNIW4KA2PV: 0.87\n",
      "A9W3MMLGGWVT1: 0.86\n",
      "A16QH3MFZ9CC4M: 0.86\n",
      "ABBJFGQWQC19S: 0.86\n",
      "A3V6FJ6TQCYA4E: 0.85\n",
      "AHKAW23MOXRQP: 0.85\n",
      "A3MMMP508IF3M7: 0.84\n",
      "AXOJYPR75TD9X: 0.84\n",
      "ACF6USGTSNNXC: 0.83\n",
      "A1ODU7S7ENNY66: 0.82\n",
      "ALWX7RRX16LEZ: 0.81\n",
      "A2QYXVJ6EKJBE6: 0.81\n",
      "A15B4KZ3S04HS8: 0.81\n",
      "A24AUZUNEH9LC3: 0.79\n",
      "AQCZJ81IS07OK: 0.79\n",
      "A2DVDC9AM2E9ZG: 0.78\n",
      "A15SB9KAGZMJ4G: 0.74\n",
      "AX8NXTT8QMGHC: 0.71\n",
      "new_1\n",
      "AKQAI78JTXXC9: 1.00\n",
      "A24AUZUNEH9LC3: 1.00\n",
      "A3VDG4N48AVYGQ: 1.00\n",
      "AX8NXTT8QMGHC: 1.00\n",
      "A3GI28OVLDI9ST: 1.00\n",
      "AUI3R928P63B0: 1.00\n",
      "A3GC8HN0MYYY4: 1.00\n",
      "A28RL79ONUXTET: 1.00\n",
      "A1IDP5YMUOTMH1: 1.00\n",
      "A1ODU7S7ENNY66: 0.96\n",
      "A3O0NNIW4KA2PV: 0.95\n",
      "A2CFI1X8OKYIL2: 0.95\n",
      "A15B4KZ3S04HS8: 0.95\n",
      "A1R5JNC2LO6X1S: 0.95\n",
      "A2DVDC9AM2E9ZG: 0.94\n",
      "A367K74P9QF27V: 0.93\n",
      "AXOJYPR75TD9X: 0.93\n",
      "ABBJFGQWQC19S: 0.93\n",
      "AQCZJ81IS07OK: 0.93\n",
      "AHKAW23MOXRQP: 0.92\n",
      "ALWX7RRX16LEZ: 0.92\n",
      "A3V6FJ6TQCYA4E: 0.91\n",
      "A2LTZWHXN5LDAT: 0.91\n",
      "A15SB9KAGZMJ4G: 0.90\n",
      "A2EJ7U3TZAKROG: 0.89\n",
      "ACF6USGTSNNXC: 0.89\n",
      "A2QYXVJ6EKJBE6: 0.89\n",
      "A9W3MMLGGWVT1: 0.88\n",
      "A16QH3MFZ9CC4M: 0.88\n",
      "A4ANRSA55IW5Q: 0.87\n",
      "CHATGPT: 0.86\n",
      "A1GH6S7TZ9083V: 0.83\n",
      "A3MMMP508IF3M7: 0.83\n",
      "AS787OL64GYWX: 0.82\n",
      "A3GRE25RPUZ1QG: 0.81\n",
      "A18Z7Y10ENQDKY: 0.80\n",
      "A3HSA4XVW7TNW7: 0.76\n",
      "A3RDJ3UZ9EJP6Y: 0.76\n",
      "A1J980QNBDG17Z: 0.76\n",
      "A146QN6EU8LAEI: 0.50\n",
      "A1JG342PWI2PTC: 0.50\n",
      "A2VO8C41JJIQY9: 0.00\n",
      "verdict_1\n",
      "A2VO8C41JJIQY9: 1.00\n",
      "A146QN6EU8LAEI: 1.00\n",
      "A3VDG4N48AVYGQ: 1.00\n",
      "A3GI28OVLDI9ST: 1.00\n",
      "AUI3R928P63B0: 1.00\n",
      "A3GC8HN0MYYY4: 1.00\n",
      "A1IDP5YMUOTMH1: 1.00\n",
      "A1GH6S7TZ9083V: 0.94\n",
      "AXOJYPR75TD9X: 0.90\n",
      "A2CFI1X8OKYIL2: 0.88\n",
      "A3V6FJ6TQCYA4E: 0.88\n",
      "A3O0NNIW4KA2PV: 0.86\n",
      "A2LTZWHXN5LDAT: 0.84\n",
      "A3HSA4XVW7TNW7: 0.84\n",
      "CHATGPT: 0.84\n",
      "ALWX7RRX16LEZ: 0.84\n",
      "A2EJ7U3TZAKROG: 0.83\n",
      "AQCZJ81IS07OK: 0.82\n",
      "A3GRE25RPUZ1QG: 0.82\n",
      "AKQAI78JTXXC9: 0.82\n",
      "A1R5JNC2LO6X1S: 0.81\n",
      "ABBJFGQWQC19S: 0.79\n",
      "A367K74P9QF27V: 0.77\n",
      "A3RDJ3UZ9EJP6Y: 0.76\n",
      "A24AUZUNEH9LC3: 0.76\n",
      "ACF6USGTSNNXC: 0.76\n",
      "A1JG342PWI2PTC: 0.75\n",
      "A3MMMP508IF3M7: 0.75\n",
      "AS787OL64GYWX: 0.74\n",
      "A15B4KZ3S04HS8: 0.73\n",
      "A4ANRSA55IW5Q: 0.72\n",
      "A2QYXVJ6EKJBE6: 0.71\n",
      "A16QH3MFZ9CC4M: 0.71\n",
      "A2DVDC9AM2E9ZG: 0.71\n",
      "AHKAW23MOXRQP: 0.69\n",
      "A9W3MMLGGWVT1: 0.69\n",
      "A15SB9KAGZMJ4G: 0.68\n",
      "A1ODU7S7ENNY66: 0.67\n",
      "A18Z7Y10ENQDKY: 0.64\n",
      "AX8NXTT8QMGHC: 0.57\n",
      "A1J980QNBDG17Z: 0.55\n",
      "A28RL79ONUXTET: 0.00\n",
      "simplified_verdict_1\n",
      "A2VO8C41JJIQY9: 1.00\n",
      "A146QN6EU8LAEI: 1.00\n",
      "A3VDG4N48AVYGQ: 1.00\n",
      "A3GI28OVLDI9ST: 1.00\n",
      "AUI3R928P63B0: 1.00\n",
      "A3GC8HN0MYYY4: 1.00\n",
      "A1IDP5YMUOTMH1: 1.00\n",
      "A1GH6S7TZ9083V: 0.94\n",
      "AXOJYPR75TD9X: 0.90\n",
      "A2CFI1X8OKYIL2: 0.88\n",
      "A3V6FJ6TQCYA4E: 0.88\n",
      "A3O0NNIW4KA2PV: 0.86\n",
      "A2LTZWHXN5LDAT: 0.84\n",
      "A3HSA4XVW7TNW7: 0.84\n",
      "CHATGPT: 0.84\n",
      "ALWX7RRX16LEZ: 0.84\n",
      "A2EJ7U3TZAKROG: 0.83\n",
      "AQCZJ81IS07OK: 0.82\n",
      "A3GRE25RPUZ1QG: 0.82\n",
      "AKQAI78JTXXC9: 0.82\n",
      "A1R5JNC2LO6X1S: 0.81\n",
      "ABBJFGQWQC19S: 0.79\n",
      "A367K74P9QF27V: 0.77\n",
      "A3RDJ3UZ9EJP6Y: 0.76\n",
      "A24AUZUNEH9LC3: 0.76\n",
      "ACF6USGTSNNXC: 0.76\n",
      "A1JG342PWI2PTC: 0.75\n",
      "A3MMMP508IF3M7: 0.75\n",
      "AS787OL64GYWX: 0.74\n",
      "A15B4KZ3S04HS8: 0.73\n",
      "A4ANRSA55IW5Q: 0.72\n",
      "A2QYXVJ6EKJBE6: 0.71\n",
      "A16QH3MFZ9CC4M: 0.71\n",
      "A2DVDC9AM2E9ZG: 0.71\n",
      "AHKAW23MOXRQP: 0.69\n",
      "A9W3MMLGGWVT1: 0.69\n",
      "A15SB9KAGZMJ4G: 0.68\n",
      "A1ODU7S7ENNY66: 0.67\n",
      "A18Z7Y10ENQDKY: 0.64\n",
      "AX8NXTT8QMGHC: 0.57\n",
      "A1J980QNBDG17Z: 0.55\n",
      "A28RL79ONUXTET: 0.00\n",
      "rate_1\n",
      "A146QN6EU8LAEI: 1.00\n",
      "A28RL79ONUXTET: 1.00\n",
      "A1GH6S7TZ9083V: 0.83\n",
      "AUI3R928P63B0: 0.79\n",
      "A1R5JNC2LO6X1S: 0.73\n",
      "A1J980QNBDG17Z: 0.70\n",
      "A2EJ7U3TZAKROG: 0.67\n",
      "A16QH3MFZ9CC4M: 0.65\n",
      "A3GRE25RPUZ1QG: 0.64\n",
      "A3RDJ3UZ9EJP6Y: 0.64\n",
      "A24AUZUNEH9LC3: 0.63\n",
      "CHATGPT: 0.63\n",
      "A15SB9KAGZMJ4G: 0.63\n",
      "AS787OL64GYWX: 0.61\n",
      "A2LTZWHXN5LDAT: 0.60\n",
      "AHKAW23MOXRQP: 0.58\n",
      "A9W3MMLGGWVT1: 0.57\n",
      "AX8NXTT8QMGHC: 0.57\n",
      "A3MMMP508IF3M7: 0.57\n",
      "ACF6USGTSNNXC: 0.55\n",
      "A2CFI1X8OKYIL2: 0.55\n",
      "AKQAI78JTXXC9: 0.55\n",
      "AXOJYPR75TD9X: 0.54\n",
      "A3V6FJ6TQCYA4E: 0.53\n",
      "A2DVDC9AM2E9ZG: 0.51\n",
      "A1JG342PWI2PTC: 0.50\n",
      "A367K74P9QF27V: 0.49\n",
      "A15B4KZ3S04HS8: 0.48\n",
      "A1ODU7S7ENNY66: 0.48\n",
      "A3O0NNIW4KA2PV: 0.46\n",
      "ABBJFGQWQC19S: 0.40\n",
      "A4ANRSA55IW5Q: 0.40\n",
      "ALWX7RRX16LEZ: 0.39\n",
      "A2QYXVJ6EKJBE6: 0.34\n",
      "A3HSA4XVW7TNW7: 0.33\n",
      "A18Z7Y10ENQDKY: 0.32\n",
      "AQCZJ81IS07OK: 0.28\n",
      "A2VO8C41JJIQY9: 0.00\n",
      "A3VDG4N48AVYGQ: 0.00\n",
      "A3GI28OVLDI9ST: 0.00\n",
      "A3GC8HN0MYYY4: 0.00\n",
      "A1IDP5YMUOTMH1: 0.00\n",
      "overall\n",
      "AUI3R928P63B0: 0.94\n",
      "A146QN6EU8LAEI: 0.93\n",
      "A2EJ7U3TZAKROG: 0.87\n",
      "AKQAI78JTXXC9: 0.87\n",
      "A2CFI1X8OKYIL2: 0.87\n",
      "A1R5JNC2LO6X1S: 0.87\n",
      "A3GRE25RPUZ1QG: 0.86\n",
      "A3VDG4N48AVYGQ: 0.86\n",
      "A3GI28OVLDI9ST: 0.86\n",
      "A1GH6S7TZ9083V: 0.86\n",
      "A3O0NNIW4KA2PV: 0.85\n",
      "CHATGPT: 0.85\n",
      "A3V6FJ6TQCYA4E: 0.84\n",
      "A3RDJ3UZ9EJP6Y: 0.83\n",
      "AXOJYPR75TD9X: 0.81\n",
      "A2LTZWHXN5LDAT: 0.81\n",
      "AHKAW23MOXRQP: 0.80\n",
      "ABBJFGQWQC19S: 0.79\n",
      "A16QH3MFZ9CC4M: 0.79\n",
      "ALWX7RRX16LEZ: 0.79\n",
      "A1JG342PWI2PTC: 0.79\n",
      "A3GC8HN0MYYY4: 0.79\n",
      "A367K74P9QF27V: 0.79\n",
      "A24AUZUNEH9LC3: 0.78\n",
      "A1J980QNBDG17Z: 0.78\n",
      "A15B4KZ3S04HS8: 0.78\n",
      "ACF6USGTSNNXC: 0.77\n",
      "A3MMMP508IF3M7: 0.77\n",
      "AS787OL64GYWX: 0.76\n",
      "A15SB9KAGZMJ4G: 0.76\n",
      "A4ANRSA55IW5Q: 0.76\n",
      "A9W3MMLGGWVT1: 0.75\n",
      "AQCZJ81IS07OK: 0.74\n",
      "A1ODU7S7ENNY66: 0.74\n",
      "AX8NXTT8QMGHC: 0.73\n",
      "A2DVDC9AM2E9ZG: 0.73\n",
      "A18Z7Y10ENQDKY: 0.73\n",
      "A2VO8C41JJIQY9: 0.71\n",
      "A28RL79ONUXTET: 0.71\n",
      "A2QYXVJ6EKJBE6: 0.70\n",
      "A3HSA4XVW7TNW7: 0.70\n",
      "A1IDP5YMUOTMH1: 0.57\n",
      "binary only\n",
      "A3VDG4N48AVYGQ: 1.00\n",
      "A3GI28OVLDI9ST: 1.00\n",
      "A28RL79ONUXTET: 1.00\n",
      "AKQAI78JTXXC9: 0.98\n",
      "A3O0NNIW4KA2PV: 0.95\n",
      "A2CFI1X8OKYIL2: 0.95\n",
      "AUI3R928P63B0: 0.95\n",
      "A2EJ7U3TZAKROG: 0.94\n",
      "A3GRE25RPUZ1QG: 0.93\n",
      "A1R5JNC2LO6X1S: 0.93\n",
      "A1J980QNBDG17Z: 0.92\n",
      "A3RDJ3UZ9EJP6Y: 0.92\n",
      "AHKAW23MOXRQP: 0.91\n",
      "A3V6FJ6TQCYA4E: 0.91\n",
      "CHATGPT: 0.91\n",
      "ABBJFGQWQC19S: 0.89\n",
      "A18Z7Y10ENQDKY: 0.88\n",
      "A15B4KZ3S04HS8: 0.88\n",
      "A146QN6EU8LAEI: 0.88\n",
      "A1JG342PWI2PTC: 0.88\n",
      "A3GC8HN0MYYY4: 0.88\n",
      "A16QH3MFZ9CC4M: 0.87\n",
      "A367K74P9QF27V: 0.87\n",
      "ALWX7RRX16LEZ: 0.86\n",
      "A4ANRSA55IW5Q: 0.86\n",
      "AX8NXTT8QMGHC: 0.86\n",
      "ACF6USGTSNNXC: 0.84\n",
      "A2LTZWHXN5LDAT: 0.84\n",
      "A24AUZUNEH9LC3: 0.83\n",
      "A1ODU7S7ENNY66: 0.83\n",
      "A15SB9KAGZMJ4G: 0.83\n",
      "AXOJYPR75TD9X: 0.83\n",
      "A9W3MMLGGWVT1: 0.83\n",
      "A3MMMP508IF3M7: 0.83\n",
      "A1GH6S7TZ9083V: 0.82\n",
      "AS787OL64GYWX: 0.81\n",
      "AQCZJ81IS07OK: 0.81\n",
      "A2DVDC9AM2E9ZG: 0.80\n",
      "A2QYXVJ6EKJBE6: 0.79\n",
      "A2VO8C41JJIQY9: 0.75\n",
      "A3HSA4XVW7TNW7: 0.73\n",
      "A1IDP5YMUOTMH1: 0.50\n"
     ]
    }
   ],
   "source": [
    "for k, value in by_key_percentage.items():\n",
    "    print(k)\n",
    "    for k,v in sorted(value.items(), key=lambda x: x[1], reverse=True):\n",
    "        print(f'{k}: {v:.2f}')\n",
    "print('overall')\n",
    "for k,v in sorted(overall_percentage.items(), key=lambda x: x[1], reverse=True):\n",
    "    print(f'{k}: {v:.2f}')\n",
    "print('binary only')\n",
    "for k,v in sorted(binary_percentage.items(), key=lambda x: x[1], reverse=True):\n",
    "    print(f'{k}: {v:.2f}')"
   ]
  },
  {
   "cell_type": "code",
   "execution_count": 24,
   "metadata": {},
   "outputs": [
    {
     "data": {
      "text/plain": [
       "[{'contra-article_1': False,\n",
       "  'contra-self_1': True,\n",
       "  'rate_1': 3,\n",
       "  'verdict_1': 'almost',\n",
       "  'convince_1': True,\n",
       "  'new_1': False,\n",
       "  'worker': 'A3MMMP508IF3M7',\n",
       "  'simplified_verdict_1': 'half'},\n",
       " {'contra-article_1': False,\n",
       "  'contra-self_1': False,\n",
       "  'rate_1': 4,\n",
       "  'verdict_1': 'false',\n",
       "  'convince_1': True,\n",
       "  'new_1': False,\n",
       "  'worker': 'A3O0NNIW4KA2PV',\n",
       "  'simplified_verdict_1': 'false'},\n",
       " {'contra-article_1': False,\n",
       "  'contra-self_1': False,\n",
       "  'rate_1': 4,\n",
       "  'verdict_1': 'true',\n",
       "  'convince_1': True,\n",
       "  'new_1': True,\n",
       "  'worker': 'A3RDJ3UZ9EJP6Y',\n",
       "  'simplified_verdict_1': 'true'},\n",
       " {'contra-article_1': True,\n",
       "  'contra-self_1': False,\n",
       "  'rate_1': 4,\n",
       "  'verdict_1': False,\n",
       "  'convince_1': True,\n",
       "  'new_1': False,\n",
       "  'worker': 'CHATGPT',\n",
       "  'simplified_verdict_1': 'false'}]"
      ]
     },
     "execution_count": 24,
     "metadata": {},
     "output_type": "execute_result"
    }
   ],
   "source": [
    "data[0]['answers']"
   ]
  },
  {
   "cell_type": "code",
   "execution_count": 25,
   "metadata": {},
   "outputs": [
    {
     "name": "stderr",
     "output_type": "stream",
     "text": [
      "100%|██████████| 2621/2621 [00:00<00:00, 29076.57it/s]\n"
     ]
    }
   ],
   "source": [
    "def calculate_data_agreement_reliability(data, reliability_dict, key_suffix='', min_reliability=0.5, by_key=False):\n",
    "    key_suffix = key_suffix or f'@{min_reliability}{\"_bk\" if by_key else \"\"}'\n",
    "    for d in tqdm(data):\n",
    "        d[f'agreements{key_suffix}'] = dict()\n",
    "        all_answers = [item for item in zip(*[a.items() for a in d['answers']]) if item[0][0] != 'worker']\n",
    "        workers = [a['worker'] for a in d['answers']]\n",
    "        #print(list(all_answers))\n",
    "        for answers in all_answers:\n",
    "            # print(d['answers'])\n",
    "            keys, values = zip(*answers)\n",
    "            # print(keys)\n",
    "            # print(values)\n",
    "            # print(workers)\n",
    "            original_k = keys[0]\n",
    "            k = f\"{keys[0]}{key_suffix}\"\n",
    "            if by_key:\n",
    "                values = [v for v,w in zip(values, workers) if v != -1 and reliability_dict[original_k][w] >= min_reliability]\n",
    "            else:\n",
    "                values = [v for v,w in zip(values, workers) if v != -1 and reliability_dict[w] >= min_reliability]\n",
    "            if values:                \n",
    "                #print(k)\n",
    "                if original_k in ordinal:\n",
    "                    d[k] = sum(values)/len(values)\n",
    "                elif original_k in binary:\n",
    "                    if original_k == 'verdict_1':\n",
    "                        agreement = how_many_equal([ordinal_scale_mapping[v] for v in values])\n",
    "                    else:\n",
    "                        agreement = how_many_equal(values)\n",
    "                    d[f'agreements{key_suffix}'][k] = agreement/len(values)\n",
    "                    #print(k)\n",
    "                    d[k] = max(values, key=values.count) if agreement > 0.5 else 'NO_AGREEMENT'\n",
    "            else:\n",
    "                d[k] = None\n",
    "calculate_data_agreement_reliability(data, overall_percentage, min_reliability=0.5, by_key=False)"
   ]
  },
  {
   "cell_type": "code",
   "execution_count": 26,
   "metadata": {},
   "outputs": [
    {
     "name": "stderr",
     "output_type": "stream",
     "text": [
      "100%|██████████| 2621/2621 [00:00<00:00, 30008.05it/s]\n"
     ]
    }
   ],
   "source": [
    "calculate_data_agreement_reliability(data, by_key_percentage, min_reliability=0.5, by_key=True)"
   ]
  },
  {
   "cell_type": "code",
   "execution_count": 27,
   "metadata": {},
   "outputs": [
    {
     "name": "stderr",
     "output_type": "stream",
     "text": [
      "100%|██████████| 2621/2621 [00:00<00:00, 33640.07it/s]\n"
     ]
    }
   ],
   "source": [
    "calculate_data_agreement_reliability(data, overall_percentage, min_reliability=0.75)"
   ]
  },
  {
   "cell_type": "code",
   "execution_count": 28,
   "metadata": {},
   "outputs": [
    {
     "name": "stderr",
     "output_type": "stream",
     "text": [
      "100%|██████████| 2621/2621 [00:00<00:00, 32055.02it/s]\n"
     ]
    }
   ],
   "source": [
    "calculate_data_agreement_reliability(data, by_key_percentage, min_reliability=0.75, by_key=True)"
   ]
  },
  {
   "cell_type": "code",
   "execution_count": 29,
   "metadata": {},
   "outputs": [
    {
     "name": "stderr",
     "output_type": "stream",
     "text": [
      "100%|██████████| 2621/2621 [00:00<00:00, 31694.05it/s]\n"
     ]
    }
   ],
   "source": [
    "calculate_data_agreement_reliability(data, overall_percentage, min_reliability=0.69, by_key=False)"
   ]
  },
  {
   "cell_type": "code",
   "execution_count": 30,
   "metadata": {},
   "outputs": [
    {
     "name": "stderr",
     "output_type": "stream",
     "text": [
      "100%|██████████| 2621/2621 [00:00<00:00, 31178.62it/s]\n"
     ]
    }
   ],
   "source": [
    "calculate_data_agreement_reliability(data, by_key_percentage, min_reliability=0.69, by_key=True)"
   ]
  },
  {
   "cell_type": "code",
   "execution_count": 31,
   "metadata": {},
   "outputs": [
    {
     "data": {
      "text/plain": [
       "dict_keys(['claim', 'verdict', 'text', 'sources', 'answers', 'hit_id', 'agreements', 'contra-article_1', 'contra-self_1', 'rate_1', 'verdict_1', 'convince_1', 'new_1', 'simplified_verdict_1', 'agreements@0.5', 'contra-article_1@0.5', 'contra-self_1@0.5', 'rate_1@0.5', 'verdict_1@0.5', 'convince_1@0.5', 'new_1@0.5', 'simplified_verdict_1@0.5', 'agreements@0.5_bk', 'contra-article_1@0.5_bk', 'contra-self_1@0.5_bk', 'rate_1@0.5_bk', 'verdict_1@0.5_bk', 'convince_1@0.5_bk', 'new_1@0.5_bk', 'simplified_verdict_1@0.5_bk', 'agreements@0.75', 'contra-article_1@0.75', 'contra-self_1@0.75', 'rate_1@0.75', 'verdict_1@0.75', 'convince_1@0.75', 'new_1@0.75', 'simplified_verdict_1@0.75', 'agreements@0.75_bk', 'contra-article_1@0.75_bk', 'contra-self_1@0.75_bk', 'rate_1@0.75_bk', 'verdict_1@0.75_bk', 'convince_1@0.75_bk', 'new_1@0.75_bk', 'simplified_verdict_1@0.75_bk', 'agreements@0.69', 'contra-article_1@0.69', 'contra-self_1@0.69', 'rate_1@0.69', 'verdict_1@0.69', 'convince_1@0.69', 'new_1@0.69', 'simplified_verdict_1@0.69', 'agreements@0.69_bk', 'contra-article_1@0.69_bk', 'contra-self_1@0.69_bk', 'rate_1@0.69_bk', 'verdict_1@0.69_bk', 'convince_1@0.69_bk', 'new_1@0.69_bk', 'simplified_verdict_1@0.69_bk'])"
      ]
     },
     "execution_count": 31,
     "metadata": {},
     "output_type": "execute_result"
    }
   ],
   "source": [
    "data[0].keys()"
   ]
  },
  {
   "cell_type": "code",
   "execution_count": 37,
   "metadata": {},
   "outputs": [],
   "source": [
    "for p in 'simplified_', '':\n",
    "    for k in ('0.5', '0.5_bk', '0.69', '0.69_bk', '0.75', '0.75_bk'):\n",
    "        for d in data:\n",
    "            d[f'{p}plausible@{k}'] = True if d[f'{p}verdict_1@{k}'] != 'NO_AGREEMENT' else False"
   ]
  },
  {
   "cell_type": "code",
   "execution_count": 40,
   "metadata": {},
   "outputs": [
    {
     "name": "stdout",
     "output_type": "stream",
     "text": [
      "contra-article_1 {False: 1885, True: 736}\n",
      "contra-article_1 {False: 1885, True: 736}\n",
      "contra-article_1@0.5 {False: 1885, True: 736}\n",
      "contra-article_1@0.5_bk {False: 1885, True: 736}\n",
      "contra-article_1@0.69 {False: 1885, True: 736}\n",
      "contra-article_1@0.69_bk {False: 1948, True: 670, 'NO_AGREEMENT': 3}\n",
      "contra-article_1@0.75 {False: 1965, True: 616, 'NO_AGREEMENT': 40}\n",
      "contra-article_1@0.75_bk {False: 1959, True: 650, 'NO_AGREEMENT': 12}\n",
      "contra-self_1 {False: 2037, True: 583, 'NO_AGREEMENT': 1}\n",
      "contra-self_1 {False: 2037, True: 583, 'NO_AGREEMENT': 1}\n",
      "contra-self_1@0.5 {False: 2037, True: 583, 'NO_AGREEMENT': 1}\n",
      "contra-self_1@0.5_bk {False: 2037, True: 583, 'NO_AGREEMENT': 1}\n",
      "contra-self_1@0.69 {False: 2037, True: 583, 'NO_AGREEMENT': 1}\n",
      "contra-self_1@0.69_bk {False: 2123, True: 480, 'NO_AGREEMENT': 18}\n",
      "contra-self_1@0.75 {False: 2137, True: 444, 'NO_AGREEMENT': 40}\n",
      "contra-self_1@0.75_bk {False: 2136, True: 454, 'NO_AGREEMENT': 31}\n",
      "rate_1 {3.75: 408, 4.25: 364, 3.5: 352, 4.0: 417, 3.3333333333333335: 21, 4.5: 223, 3.0: 192, 4.666666666666667: 9, 4.75: 94, 3.6666666666666665: 24, 3.25: 261, 5.0: 18, 2.25: 31, 4.333333333333333: 21, 2.6666666666666665: 9, 2.3333333333333335: 5, 2.5: 63, 2.0: 11, 2.75: 92, 1.75: 3, 1.3333333333333333: 1, 1.5: 1, 1.6666666666666667: 1}\n",
      "rate_1 {3.75: 408, 4.25: 364, 3.5: 352, 4.0: 417, 3.3333333333333335: 21, 4.5: 223, 3.0: 192, 4.666666666666667: 9, 4.75: 94, 3.6666666666666665: 24, 3.25: 261, 5.0: 18, 2.25: 31, 4.333333333333333: 21, 2.6666666666666665: 9, 2.3333333333333335: 5, 2.5: 63, 2.0: 11, 2.75: 92, 1.75: 3, 1.3333333333333333: 1, 1.5: 1, 1.6666666666666667: 1}\n",
      "rate_1@0.5 {3.75: 408, 4.25: 364, 3.5: 352, 4.0: 417, 3.3333333333333335: 21, 4.5: 223, 3.0: 192, 4.666666666666667: 9, 4.75: 94, 3.6666666666666665: 24, 3.25: 261, 5.0: 18, 2.25: 31, 4.333333333333333: 21, 2.6666666666666665: 9, 2.3333333333333335: 5, 2.5: 63, 2.0: 11, 2.75: 92, 1.75: 3, 1.3333333333333333: 1, 1.5: 1, 1.6666666666666667: 1}\n",
      "rate_1@0.5_bk {3.6666666666666665: 187, 4.333333333333333: 234, 4.25: 233, 3.5: 214, 4.0: 608, 3.3333333333333335: 124, 3.75: 186, 4.5: 233, 4.666666666666667: 122, 4.75: 63, 3.25: 63, 5.0: 99, 3.0: 159, 2.25: 3, 2.6666666666666665: 34, 2.3333333333333335: 8, 2.0: 8, 2.5: 23, 2.75: 15, 1.3333333333333333: 1, 1.5: 2, 1.6666666666666667: 1, None: 1}\n",
      "rate_1@0.69 {3.75: 408, 4.25: 364, 3.5: 352, 4.0: 417, 3.3333333333333335: 20, 4.5: 224, 3.0: 192, 4.666666666666667: 9, 4.75: 94, 3.6666666666666665: 24, 3.25: 261, 5.0: 18, 2.25: 31, 4.333333333333333: 21, 2.6666666666666665: 9, 2.3333333333333335: 5, 2.5: 63, 2.0: 11, 2.75: 92, 1.75: 3, 1.3333333333333333: 1, 1.5: 1, 1.6666666666666667: 1}\n",
      "rate_1@0.69_bk {None: 2039, 4.0: 420, 3.0: 18, 2.0: 20, 5.0: 114, 4.5: 5, 1.0: 3, 3.5: 2}\n",
      "rate_1@0.75 {3.75: 316, 4.25: 285, 3.5: 268, 4.0: 495, 3.3333333333333335: 86, 4.5: 218, 3.0: 180, 4.666666666666667: 75, 4.75: 75, 3.6666666666666665: 117, 3.25: 172, 5.0: 40, 2.25: 14, 4.333333333333333: 124, 2.6666666666666665: 29, 2.3333333333333335: 17, 2.0: 5, 2.5: 44, 2.75: 55, 1.75: 3, 1.3333333333333333: 1, 1.5: 1, 1.6666666666666667: 1}\n",
      "rate_1@0.75_bk {None: 2586, 4.0: 13, 5.0: 14, 3.0: 4, 1.0: 1, 2.0: 3}\n",
      "verdict_1 {'almost': 241, 'false': 925, 'true': 926, 'half': 362, 'hardly': 88, 'NO_AGREEMENT': 26, 'unk': 27, 'satire': 26}\n",
      "verdict_1 {'almost': 241, 'false': 925, 'true': 926, 'half': 362, 'hardly': 88, 'NO_AGREEMENT': 26, 'unk': 27, 'satire': 26}\n",
      "verdict_1@0.5 {'almost': 241, 'false': 925, 'true': 926, 'half': 362, 'hardly': 88, 'NO_AGREEMENT': 26, 'unk': 27, 'satire': 26}\n",
      "verdict_1@0.5_bk {'almost': 241, 'false': 925, 'true': 926, 'half': 362, 'hardly': 88, 'NO_AGREEMENT': 26, 'unk': 27, 'satire': 26}\n",
      "verdict_1@0.69 {'almost': 241, 'false': 924, 'true': 926, 'half': 362, 'hardly': 88, 'NO_AGREEMENT': 27, 'unk': 27, 'satire': 26}\n",
      "verdict_1@0.69_bk {'almost': 344, 'half': 437, 'false': 607, 'true': 531, 'NO_AGREEMENT': 450, 'hardly': 171, 'satire': 30, 'unk': 50, None: 1}\n",
      "verdict_1@0.75 {'almost': 225, 'false': 784, 'true': 875, 'half': 436, 'hardly': 108, 'NO_AGREEMENT': 135, 'unk': 35, 'satire': 23}\n",
      "verdict_1@0.75_bk {'false': 451, 'almost': 195, 'half': 434, 'hardly': 137, 'true': 281, 'NO_AGREEMENT': 1032, 'unk': 43, 'satire': 31, None: 17}\n",
      "convince_1 {True: 1651, False: 970}\n",
      "convince_1 {True: 1651, False: 970}\n",
      "convince_1@0.5 {True: 1651, False: 970}\n",
      "convince_1@0.5_bk {True: 1651, False: 970}\n",
      "convince_1@0.69 {True: 1651, False: 970}\n",
      "convince_1@0.69_bk {True: 1651, False: 970}\n",
      "convince_1@0.75 {True: 1713, False: 859, 'NO_AGREEMENT': 49}\n",
      "convince_1@0.75_bk {True: 1894, False: 708, 'NO_AGREEMENT': 19}\n",
      "new_1 {False: 1622, True: 999}\n",
      "new_1 {False: 1622, True: 999}\n",
      "new_1@0.5 {False: 1622, True: 999}\n",
      "new_1@0.5_bk {False: 1622, True: 999}\n",
      "new_1@0.69 {False: 1622, True: 998, 'NO_AGREEMENT': 1}\n",
      "new_1@0.69_bk {False: 1623, True: 998}\n",
      "new_1@0.75 {False: 1686, True: 873, 'NO_AGREEMENT': 62}\n",
      "new_1@0.75_bk {False: 1623, True: 998}\n",
      "plausible {None: 2621}\n",
      "plausible {None: 2621}\n",
      "plausible@0.5 {True: 2595, False: 26}\n",
      "plausible@0.5_bk {True: 2595, False: 26}\n",
      "plausible@0.69 {True: 2594, False: 27}\n",
      "plausible@0.69_bk {True: 2171, False: 450}\n",
      "plausible@0.75 {True: 2486, False: 135}\n",
      "plausible@0.75_bk {True: 1589, False: 1032}\n",
      "simplified_verdict_1 {'false': 805, 'half': 1156, 'true': 634, 'NO_AGREEMENT': 26}\n",
      "simplified_verdict_1 {'false': 805, 'half': 1156, 'true': 634, 'NO_AGREEMENT': 26}\n",
      "simplified_verdict_1@0.5 {'false': 805, 'half': 1156, 'true': 634, 'NO_AGREEMENT': 26}\n",
      "simplified_verdict_1@0.5_bk {'false': 805, 'half': 1156, 'true': 634, 'NO_AGREEMENT': 26}\n",
      "simplified_verdict_1@0.69 {'false': 804, 'half': 1156, 'true': 634, 'NO_AGREEMENT': 27}\n",
      "simplified_verdict_1@0.69_bk {'false': 651, 'half': 1156, 'true': 363, 'NO_AGREEMENT': 450, None: 1}\n",
      "simplified_verdict_1@0.75 {'false': 708, 'half': 1182, 'true': 596, 'NO_AGREEMENT': 135}\n",
      "simplified_verdict_1@0.75_bk {'false': 513, 'half': 846, 'true': 213, 'NO_AGREEMENT': 1032, None: 17}\n",
      "simplified_plausible {None: 2621}\n",
      "simplified_plausible {None: 2621}\n",
      "simplified_plausible@0.5 {True: 2595, False: 26}\n",
      "simplified_plausible@0.5_bk {True: 2595, False: 26}\n",
      "simplified_plausible@0.69 {True: 2594, False: 27}\n",
      "simplified_plausible@0.69_bk {True: 2171, False: 450}\n",
      "simplified_plausible@0.75 {True: 2486, False: 135}\n",
      "simplified_plausible@0.75_bk {True: 1589, False: 1032}\n"
     ]
    }
   ],
   "source": [
    "for k in 'contra-article_1', 'contra-self_1', 'rate_1', 'verdict_1', 'convince_1', 'new_1', 'plausible', 'simplified_verdict_1', 'simplified_plausible': \n",
    "    for ts in [None, 0.5, 0.69, 0.75]:\n",
    "        for bk in ['','_bk']:\n",
    "            full_key = f\"{k}@{ts}{bk}\" if ts else k\n",
    "            label_dict = defaultdict(int)\n",
    "            for d in data:\n",
    "                if full_key not in d:\n",
    "                    label_dict[None] += 1\n",
    "                else:\n",
    "                    label_dict[d[full_key]] += 1\n",
    "            print(full_key, dict(label_dict))"
   ]
  },
  {
   "cell_type": "code",
   "execution_count": 39,
   "metadata": {},
   "outputs": [
    {
     "data": {
      "text/plain": [
       "{'claim': 'An underground tunnel is a secret UK military site.',\n",
       " 'verdict': 'This is not true. The site is a government-owned facility, and is closed to the public.',\n",
       " 'text': 'A video on Facebook, viewed over 400,000 times, shows a group of people setting off an alarm in what appears to be an underground tunnel. \\nThe caption says: \"UK Area 51! What are they hiding down here!!\"\\nThis is a reference to a secret US Air Force site in Nevada, US. The site has been the focus of a number of conspiracy theories relating to extraterrestrial life, and is completely closed to the public.\\nWhile the location of the video isn\\'t made clear in the video, the account which originally posted the video to TikTok in December 2021 says in a number of comments that it was filmed at an underground Ministry of Defence (MoD) facility in Corsham, Wiltshire. \\nFar from being a secret military site like Area 51, Corsham is home to a sprawling set of underground bunkers known by a number of names including the Corsham Tunnels, Burlington Bunker and Central Government War Headquarters. \\nThe use of the site, already partially-developed during World War II, was commissioned as a bunker in the mid-1950s as the threat of nuclear attacks grew amid the Cold War. \"Site 3\", as it was known, was designed to accommodate around 4,000 government personnel in the event of nuclear war, and was equipped with a range of amenities including medical facilities, offices, kitchens and accommodation. \\nThe site was declassified in 2004 and has now been designated as a scheduled monument by Historic England. While it is not currently open to the public, there are a number of videos, news articles and blogs about the site online.',\n",
       " 'sources': ['data/preds-led-base.json'],\n",
       " 'answers': [{'contra-article_1': False,\n",
       "   'contra-self_1': False,\n",
       "   'rate_1': 4,\n",
       "   'verdict_1': 'true',\n",
       "   'convince_1': True,\n",
       "   'new_1': True,\n",
       "   'worker': 'A1J980QNBDG17Z',\n",
       "   'simplified_verdict_1': 'true'},\n",
       "  {'contra-article_1': True,\n",
       "   'contra-self_1': False,\n",
       "   'rate_1': 3,\n",
       "   'verdict_1': 'hardly',\n",
       "   'convince_1': True,\n",
       "   'new_1': False,\n",
       "   'worker': 'A4ANRSA55IW5Q',\n",
       "   'simplified_verdict_1': 'half'},\n",
       "  {'contra-article_1': False,\n",
       "   'contra-self_1': True,\n",
       "   'rate_1': 1,\n",
       "   'verdict_1': 'false',\n",
       "   'convince_1': True,\n",
       "   'new_1': False,\n",
       "   'worker': 'ALWX7RRX16LEZ',\n",
       "   'simplified_verdict_1': 'false'},\n",
       "  {'contra-article_1': False,\n",
       "   'contra-self_1': False,\n",
       "   'rate_1': 4,\n",
       "   'verdict_1': 'inbetween',\n",
       "   'convince_1': True,\n",
       "   'new_1': False,\n",
       "   'worker': 'CHATGPT',\n",
       "   'simplified_verdict_1': 'half'}],\n",
       " 'hit_id': '388CL5C1SV90VJUJI18B5PWUCE7LHK',\n",
       " 'agreements': {'contra-article_1': 0.75,\n",
       "  'contra-self_1': 0.75,\n",
       "  'verdict_1': 0.5,\n",
       "  'convince_1': 1.0,\n",
       "  'new_1': 0.75,\n",
       "  'simplified_verdict_1': 0.5},\n",
       " 'contra-article_1': False,\n",
       " 'contra-self_1': False,\n",
       " 'rate_1': 3.0,\n",
       " 'verdict_1': 'true',\n",
       " 'convince_1': True,\n",
       " 'new_1': False,\n",
       " 'simplified_verdict_1': 'half',\n",
       " 'agreements@0.5': {'contra-article_1@0.5': 0.75,\n",
       "  'contra-self_1@0.5': 0.75,\n",
       "  'verdict_1@0.5': 0.5,\n",
       "  'convince_1@0.5': 1.0,\n",
       "  'new_1@0.5': 0.75,\n",
       "  'simplified_verdict_1@0.5': 0.5},\n",
       " 'contra-article_1@0.5': False,\n",
       " 'contra-self_1@0.5': False,\n",
       " 'rate_1@0.5': 3.0,\n",
       " 'verdict_1@0.5': 'true',\n",
       " 'convince_1@0.5': True,\n",
       " 'new_1@0.5': False,\n",
       " 'simplified_verdict_1@0.5': 'half',\n",
       " 'agreements@0.5_bk': {'contra-article_1@0.5_bk': 0.75,\n",
       "  'contra-self_1@0.5_bk': 0.75,\n",
       "  'verdict_1@0.5_bk': 0.5,\n",
       "  'convince_1@0.5_bk': 1.0,\n",
       "  'new_1@0.5_bk': 0.75,\n",
       "  'simplified_verdict_1@0.5_bk': 0.5},\n",
       " 'contra-article_1@0.5_bk': False,\n",
       " 'contra-self_1@0.5_bk': False,\n",
       " 'rate_1@0.5_bk': 4.0,\n",
       " 'verdict_1@0.5_bk': 'true',\n",
       " 'convince_1@0.5_bk': True,\n",
       " 'new_1@0.5_bk': False,\n",
       " 'simplified_verdict_1@0.5_bk': 'half',\n",
       " 'agreements@0.75': {'contra-article_1@0.75': 0.75,\n",
       "  'contra-self_1@0.75': 0.75,\n",
       "  'verdict_1@0.75': 0.5,\n",
       "  'convince_1@0.75': 1.0,\n",
       "  'new_1@0.75': 0.75,\n",
       "  'simplified_verdict_1@0.75': 0.5},\n",
       " 'contra-article_1@0.75': False,\n",
       " 'contra-self_1@0.75': False,\n",
       " 'rate_1@0.75': 3.0,\n",
       " 'verdict_1@0.75': 'true',\n",
       " 'convince_1@0.75': True,\n",
       " 'new_1@0.75': False,\n",
       " 'simplified_verdict_1@0.75': 'half',\n",
       " 'agreements@0.75_bk': {'contra-article_1@0.75_bk': 0.75,\n",
       "  'contra-self_1@0.75_bk': 0.75,\n",
       "  'verdict_1@0.75_bk': 0.0,\n",
       "  'convince_1@0.75_bk': 1.0,\n",
       "  'new_1@0.75_bk': 0.75,\n",
       "  'simplified_verdict_1@0.75_bk': 0.0},\n",
       " 'contra-article_1@0.75_bk': False,\n",
       " 'contra-self_1@0.75_bk': False,\n",
       " 'rate_1@0.75_bk': None,\n",
       " 'verdict_1@0.75_bk': 'NO_AGREEMENT',\n",
       " 'convince_1@0.75_bk': True,\n",
       " 'new_1@0.75_bk': False,\n",
       " 'simplified_verdict_1@0.75_bk': 'NO_AGREEMENT',\n",
       " 'agreements@0.69': {'contra-article_1@0.69': 0.75,\n",
       "  'contra-self_1@0.69': 0.75,\n",
       "  'verdict_1@0.69': 0.5,\n",
       "  'convince_1@0.69': 1.0,\n",
       "  'new_1@0.69': 0.75,\n",
       "  'simplified_verdict_1@0.69': 0.5},\n",
       " 'contra-article_1@0.69': False,\n",
       " 'contra-self_1@0.69': False,\n",
       " 'rate_1@0.69': 3.0,\n",
       " 'verdict_1@0.69': 'true',\n",
       " 'convince_1@0.69': True,\n",
       " 'new_1@0.69': False,\n",
       " 'simplified_verdict_1@0.69': 'half',\n",
       " 'agreements@0.69_bk': {'contra-article_1@0.69_bk': 0.75,\n",
       "  'contra-self_1@0.69_bk': 0.75,\n",
       "  'verdict_1@0.69_bk': 0.6666666666666666,\n",
       "  'convince_1@0.69_bk': 1.0,\n",
       "  'new_1@0.69_bk': 0.75,\n",
       "  'simplified_verdict_1@0.69_bk': 0.6666666666666666},\n",
       " 'contra-article_1@0.69_bk': False,\n",
       " 'contra-self_1@0.69_bk': False,\n",
       " 'rate_1@0.69_bk': 4.0,\n",
       " 'verdict_1@0.69_bk': 'hardly',\n",
       " 'convince_1@0.69_bk': True,\n",
       " 'new_1@0.69_bk': False,\n",
       " 'simplified_verdict_1@0.69_bk': 'half',\n",
       " 'plausible@0.5': True,\n",
       " 'plausible@0.5_bk': True,\n",
       " 'plausible@0.69': True,\n",
       " 'plausible@0.69_bk': True,\n",
       " 'plausible@0.75': True,\n",
       " 'plausible@0.75_bk': False,\n",
       " 'simplified_plausible@0.5': True,\n",
       " 'simplified_plausible@0.5_bk': True,\n",
       " 'simplified_plausible@0.69': True,\n",
       " 'simplified_plausible@0.69_bk': True,\n",
       " 'simplified_plausible@0.75': True,\n",
       " 'simplified_plausible@0.75_bk': False}"
      ]
     },
     "execution_count": 39,
     "metadata": {},
     "output_type": "execute_result"
    }
   ],
   "source": [
    "data[1234]"
   ]
  },
  {
   "cell_type": "code",
   "execution_count": 42,
   "metadata": {},
   "outputs": [],
   "source": [
    "from handystuff.loaders import write_jsonl"
   ]
  },
  {
   "cell_type": "code",
   "execution_count": 76,
   "metadata": {},
   "outputs": [],
   "source": [
    "def we_need(k):\n",
    "    return k in ('claim', 'verdict', 'sources', 'text') or any(k.startswith(p) for p in ('contra', 'verdict', 'convince', 'new', 'simplified_verdict', 'rate', 'plausible', 'simplified_plausible'))\n",
    "def parse(v, k):\n",
    "    if isinstance(v, list):\n",
    "        return '\\n'.join(lv for lv in v)\n",
    "    if isinstance(v, float):\n",
    "        return v\n",
    "    if k.startswith('rate') and v is None:\n",
    "        return 0\n",
    "    else:\n",
    "        return str(v)"
   ]
  },
  {
   "cell_type": "code",
   "execution_count": 77,
   "metadata": {},
   "outputs": [],
   "source": [
    "parsed_data = [{k:parse(v,k) for k,v in d.items() if we_need(k)} for d in data]"
   ]
  },
  {
   "cell_type": "code",
   "execution_count": 79,
   "metadata": {},
   "outputs": [],
   "source": [
    "write_jsonl(parsed_data, 'data-main-no-answers.json')"
   ]
  },
  {
   "cell_type": "code",
   "execution_count": 78,
   "metadata": {},
   "outputs": [
    {
     "data": {
      "text/plain": [
       "{0, 1.0, 2.0, 3.0, 3.5, 4.0, 4.5, 5.0}"
      ]
     },
     "execution_count": 78,
     "metadata": {},
     "output_type": "execute_result"
    }
   ],
   "source": [
    "set(pd['rate_1@0.69_bk'] for pd in parsed_data)"
   ]
  }
 ],
 "metadata": {
  "kernelspec": {
   "display_name": "Python 3.8.13 ('smaite')",
   "language": "python",
   "name": "python3"
  },
  "language_info": {
   "codemirror_mode": {
    "name": "ipython",
    "version": 3
   },
   "file_extension": ".py",
   "mimetype": "text/x-python",
   "name": "python",
   "nbconvert_exporter": "python",
   "pygments_lexer": "ipython3",
   "version": "3.10.11"
  },
  "vscode": {
   "interpreter": {
    "hash": "8e59854198b62e77d92da15d0c036c042ba0ed0a9b0aaffcd75c388e7e8858f6"
   }
  }
 },
 "nbformat": 4,
 "nbformat_minor": 0
}
