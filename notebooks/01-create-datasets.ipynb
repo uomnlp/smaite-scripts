{
 "cells": [
  {
   "cell_type": "code",
   "execution_count": 1,
   "metadata": {
    "collapsed": true,
    "pycharm": {
     "name": "#%%\n"
    }
   },
   "outputs": [
    {
     "name": "stdout",
     "output_type": "stream",
     "text": [
      "/home/viktor/workspace/smaite\n"
     ]
    }
   ],
   "source": [
    "# @formatter:off\n",
    "import random\n",
    "\n",
    "import numpy as np\n",
    "import sklearn.ensemble\n",
    "%load_ext autoreload\n",
    "%autoreload 2\n",
    "# @formatter:on\n",
    "import os\n",
    "\n",
    "os.chdir('../')\n",
    "print(os.getcwd())"
   ]
  },
  {
   "cell_type": "code",
   "execution_count": 2,
   "outputs": [],
   "source": [
    "#@formatter:off\n",
    "files = !ls data/*csv.jsonl\n",
    "#@formatter:on\n",
    "files = [f for f in files if 'processed-augmented' in f]\n",
    "assert len(files) == 8, len(files)"
   ],
   "metadata": {
    "collapsed": false,
    "pycharm": {
     "name": "#%%\n"
    }
   }
  },
  {
   "cell_type": "code",
   "execution_count": 3,
   "outputs": [
    {
     "name": "stdout",
     "output_type": "stream",
     "text": [
      "loading data/processed-augmented-bbc.csv.jsonl\n"
     ]
    },
    {
     "data": {
      "text/plain": "  0%|          | 0/4060 [00:00<?, ?it/s]",
      "application/vnd.jupyter.widget-view+json": {
       "version_major": 2,
       "version_minor": 0,
       "model_id": "73f9c0ce99324ed39629e485c6bec8ed"
      }
     },
     "metadata": {},
     "output_type": "display_data"
    },
    {
     "name": "stdout",
     "output_type": "stream",
     "text": [
      "loading data/processed-augmented-climatefeedback.csv.jsonl\n"
     ]
    },
    {
     "data": {
      "text/plain": "  0%|          | 0/136 [00:00<?, ?it/s]",
      "application/vnd.jupyter.widget-view+json": {
       "version_major": 2,
       "version_minor": 0,
       "model_id": "9032b8c8e2b34ea7af5f387b33b86b33"
      }
     },
     "metadata": {},
     "output_type": "display_data"
    },
    {
     "name": "stdout",
     "output_type": "stream",
     "text": [
      "loading data/processed-augmented-factcheck.csv.jsonl\n"
     ]
    },
    {
     "data": {
      "text/plain": "  0%|          | 0/6000 [00:00<?, ?it/s]",
      "application/vnd.jupyter.widget-view+json": {
       "version_major": 2,
       "version_minor": 0,
       "model_id": "3815868434e14267b6d3e9a1de7224cc"
      }
     },
     "metadata": {},
     "output_type": "display_data"
    },
    {
     "name": "stdout",
     "output_type": "stream",
     "text": [
      "loading data/processed-augmented-fullfact.csv.jsonl\n"
     ]
    },
    {
     "data": {
      "text/plain": "  0%|          | 0/4060 [00:00<?, ?it/s]",
      "application/vnd.jupyter.widget-view+json": {
       "version_major": 2,
       "version_minor": 0,
       "model_id": "bf6c8d53bc804d399d72c8e30659f4ba"
      }
     },
     "metadata": {},
     "output_type": "display_data"
    },
    {
     "name": "stdout",
     "output_type": "stream",
     "text": [
      "loading data/processed-augmented-nytimes.csv.jsonl\n"
     ]
    },
    {
     "data": {
      "text/plain": "  0%|          | 0/508 [00:00<?, ?it/s]",
      "application/vnd.jupyter.widget-view+json": {
       "version_major": 2,
       "version_minor": 0,
       "model_id": "951f5ed4942c48fb9dff4e6a45059fb0"
      }
     },
     "metadata": {},
     "output_type": "display_data"
    },
    {
     "name": "stdout",
     "output_type": "stream",
     "text": [
      "loading data/processed-augmented-politifact.csv.jsonl\n"
     ]
    },
    {
     "data": {
      "text/plain": "  0%|          | 0/5400 [00:00<?, ?it/s]",
      "application/vnd.jupyter.widget-view+json": {
       "version_major": 2,
       "version_minor": 0,
       "model_id": "a7ad3deac31d4283ae82edf6c5b6000d"
      }
     },
     "metadata": {},
     "output_type": "display_data"
    },
    {
     "name": "stdout",
     "output_type": "stream",
     "text": [
      "loading data/processed-augmented-snopes.csv.jsonl\n"
     ]
    },
    {
     "data": {
      "text/plain": "  0%|          | 0/4499 [00:00<?, ?it/s]",
      "application/vnd.jupyter.widget-view+json": {
       "version_major": 2,
       "version_minor": 0,
       "model_id": "2c3cd0c21f54443fa35e638d93d44672"
      }
     },
     "metadata": {},
     "output_type": "display_data"
    },
    {
     "name": "stdout",
     "output_type": "stream",
     "text": [
      "loading data/processed-augmented-washingtonpost.csv.jsonl\n"
     ]
    },
    {
     "data": {
      "text/plain": "  0%|          | 0/1416 [00:00<?, ?it/s]",
      "application/vnd.jupyter.widget-view+json": {
       "version_major": 2,
       "version_minor": 0,
       "model_id": "f18ae57c55d1464794e8ee23ff83902b"
      }
     },
     "metadata": {},
     "output_type": "display_data"
    }
   ],
   "source": [
    "import json\n",
    "from tqdm.notebook import tqdm\n",
    "from unidecode import unidecode\n",
    "\n",
    "\n",
    "\n",
    "\n",
    "def load_json(d):\n",
    "    try:\n",
    "        return json.loads(d, strict=False)\n",
    "    except Exception as e:\n",
    "        print(\"FEK\")\n",
    "        print(d)\n",
    "        print(unidecode(d))\n",
    "        return json.loads(unidecode(d), strict=False)\n",
    "\n",
    "\n",
    "def load_jsonl(path: str):\n",
    "    print(\"loading\", path)\n",
    "    with open(path) as f:\n",
    "        return [load_json(d) for d in tqdm(f.readlines())]\n",
    "\n",
    "\n",
    "datasets = [load_jsonl(p) for p in files]"
   ],
   "metadata": {
    "collapsed": false,
    "pycharm": {
     "name": "#%%\n"
    }
   }
  },
  {
   "cell_type": "code",
   "execution_count": 4,
   "outputs": [
    {
     "data": {
      "text/plain": "dict_keys(['text', 'text_article', 'label', 'explanation'])"
     },
     "execution_count": 4,
     "metadata": {},
     "output_type": "execute_result"
    }
   ],
   "source": [
    "datasets[1][0].keys()"
   ],
   "metadata": {
    "collapsed": false,
    "pycharm": {
     "name": "#%%\n"
    }
   }
  },
  {
   "cell_type": "code",
   "execution_count": 4,
   "outputs": [],
   "source": [
    "from handystuff.loaders import write_jsonl\n",
    "\n",
    "\n",
    "def create_classification_ds(ds, f, skip_unknown=True, claim_only=False):\n",
    "    f = f.replace('augmented', 'classification' if not claim_only else 'classification-claim-only')\n",
    "\n",
    "    cds = [\n",
    "        {\"sentence\": f\"{d['text']}\\n{d['text_article']}\" if not claim_only else f\"{d['text']}\",\n",
    "         \"label\": d['label']} for d in ds if d['label']\n",
    "    ]\n",
    "    if skip_unknown:\n",
    "        cds = [d for d in cds if d['label'] != 'UNKNOWN']\n",
    "    write_jsonl(cds, f)\n",
    "\n",
    "for ds, f in zip(datasets, files):\n",
    "    if all(n not in f for n in ['fullfact', 'bbc']):\n",
    "        create_classification_ds(ds, f)\n",
    "\n",
    "#@formatter:off\n",
    "!cd data && cat processed-classification-factcheck.csv.jsonl processed-classification-snopes.csv.jsonl processed-classification-washingtonpost.csv.jsonl > combined-classification-factcheck-ds.jsonl\n",
    "#@formatter:on"
   ],
   "metadata": {
    "collapsed": false,
    "pycharm": {
     "name": "#%%\n"
    }
   }
  },
  {
   "cell_type": "code",
   "execution_count": 6,
   "outputs": [],
   "source": [
    "def create_explanation_ds(ds, f):\n",
    "    f = f.replace('augmented', 'explanation')\n",
    "    eds = [\n",
    "        {\"input\": f\"{d['text']}\\n{d['text_article']}\",\n",
    "         \"target\": d['explanation']} for d in ds\n",
    "    ]\n",
    "    write_jsonl(eds, f)\n",
    "\n",
    "for ds, f in zip(datasets, files):\n",
    "    if any(n in f for n in ['fullfact', 'bbc', 'factcheck']):\n",
    "        create_explanation_ds(ds, f)\n",
    "\n",
    "#@formatter:off\n",
    "!cd data/ && cat processed-explanation-bbc.csv.jsonl processed-explanation-factcheck.csv.jsonl processed-explanation-fullfact.csv.jsonl > combined-explanation-factcheck-ds.jsonl\n",
    "#@formatter:on\n"
   ],
   "metadata": {
    "collapsed": false,
    "pycharm": {
     "name": "#%%\n"
    }
   }
  },
  {
   "cell_type": "code",
   "execution_count": 5,
   "outputs": [],
   "source": [
    "for ds, f in zip(datasets, files):\n",
    "    if all(n not in f for n in ['fullfact', 'bbc']):\n",
    "        create_classification_ds(ds, f, claim_only=True)\n",
    "\n",
    "#@formatter:off\n",
    "!cd data && cat processed-classification-claim-only-factcheck.csv.jsonl processed-classification-claim-only-snopes.csv.jsonl processed-classification-claim-only-washingtonpost.csv.jsonl > combined-classification-claim-only-factcheck-ds.jsonl\n",
    "#@formatter:on\n"
   ],
   "metadata": {
    "collapsed": false,
    "pycharm": {
     "name": "#%%\n"
    }
   }
  }
 ],
 "metadata": {
  "kernelspec": {
   "display_name": "Python 3",
   "language": "python",
   "name": "python3"
  },
  "language_info": {
   "codemirror_mode": {
    "name": "ipython",
    "version": 2
   },
   "file_extension": ".py",
   "mimetype": "text/x-python",
   "name": "python",
   "nbconvert_exporter": "python",
   "pygments_lexer": "ipython2",
   "version": "2.7.6"
  }
 },
 "nbformat": 4,
 "nbformat_minor": 0
}